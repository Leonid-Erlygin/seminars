{
 "cells": [
  {
   "cell_type": "code",
   "execution_count": null,
   "metadata": {},
   "outputs": [],
   "source": [
    "import sys\n",
    "\n",
    "sys.path.append(\"../../../seminars/\")\n",
    "\n",
    "from l5_visualization.scripts.optimizators import DeepResp\n",
    "import tensorflow as tf\n",
    "import cv2\n",
    "from pathlib import Path\n",
    "import os\n",
    "import PIL.Image\n",
    "import numpy as np\n",
    "import shutil\n",
    "\n",
    "%load_ext autoreload\n",
    "%autoreload 2\n",
    "tf.get_logger().setLevel(\"INFO\")"
   ]
  },
  {
   "cell_type": "markdown",
   "metadata": {},
   "source": [
    "## Оптимизация вероятности класса для визуализации сети\n",
    "У нас есть модель, обученная решать задачу классификации: есть на человеке респиратор или нет.  \n",
    "Модель обучалась на синтетических данных и обобщилась на настоящие тестовые данные.  \n",
    "Хотим узнать: что смогла выучить модель, чтобы так хорошо обобщиться?\n"
   ]
  },
  {
   "cell_type": "code",
   "execution_count": null,
   "metadata": {},
   "outputs": [],
   "source": [
    "# load model\n",
    "resp_class = tf.keras.models.load_model(\n",
    "    f\"../trained_models/resp_class.hdf5\", compile=False\n",
    ")\n",
    "resp_class.summary()"
   ]
  },
  {
   "cell_type": "code",
   "execution_count": null,
   "metadata": {},
   "outputs": [],
   "source": [
    "# Create the feature extraction model\n",
    "names = [\"dense\"]\n",
    "layers = [resp_class.get_layer(name).output for name in names]\n",
    "\n",
    "deepdream_model = tf.keras.Model(inputs=resp_class.input, outputs=layers)"
   ]
  },
  {
   "cell_type": "code",
   "execution_count": null,
   "metadata": {},
   "outputs": [],
   "source": [
    "# look at last dense layer's weights\n",
    "for var in resp_class.trainable_variables:\n",
    "    if var.name == \"dense_1/kernel:0\":\n",
    "        print(f\"kernel :{var.numpy()}\")\n",
    "    if var.name == \"dense_1/bias:0\":\n",
    "        print(f\"bias :{var.numpy()}\")"
   ]
  },
  {
   "cell_type": "markdown",
   "metadata": {},
   "source": [
    "Видим, что активации 0, 4, 5, 6, 7 слоя \"dense\" умножаются на положительные веса, а активации 1, 2, 3 на отрицательные  \n",
    "Так так классификатор решает, что на изображении нет респиратора, когда значение акцивации велико (во время обучения этот класс имел метку 1, а другой имел метку 0), то мы можем максимизировать значения этих активаций, чтобы получить изображение, классифицируемое как \"лицо без респиратора\" "
   ]
  },
  {
   "cell_type": "code",
   "execution_count": null,
   "metadata": {},
   "outputs": [],
   "source": [
    "def no_resp_max_loss(img, model):\n",
    "    C = 0.3\n",
    "    img_batch = tf.expand_dims(img, axis=0)\n",
    "    layer_activations = model(img_batch)\n",
    "    return (\n",
    "        layer_activations[0][0] * 1\n",
    "        + layer_activations[0][4] * 1\n",
    "        + layer_activations[0][5] * 1\n",
    "        + layer_activations[0][6] * 1\n",
    "        + layer_activations[0][7] * 1\n",
    "        - C * tf.image.total_variation(img)\n",
    "    )\n",
    "\n",
    "\n",
    "def generate_samples(loss, out_path, steps=200, lr=0.01, num_samples=5):\n",
    "    shutil.rmtree(out_path, ignore_errors=True)\n",
    "    out_path.mkdir(parents=True)\n",
    "    dr = DeepResp(deepdream_model, loss, steps, lr)\n",
    "    for i in range(num_samples):\n",
    "        random_image = tf.random.uniform(\n",
    "            [64, 64, 3],\n",
    "            minval=0,\n",
    "            maxval=None,\n",
    "            dtype=tf.dtypes.float32,\n",
    "            seed=None,\n",
    "            name=None,\n",
    "        )\n",
    "        image = dr(random_image)\n",
    "        image_to_save = cv2.cvtColor(image.numpy(), cv2.COLOR_RGB2BGR)\n",
    "        image_to_save = cv2.resize(image_to_save, (256, 256))\n",
    "        cv2.imwrite(str(out_path / f\"{i}.jpg\"), image_to_save)"
   ]
  },
  {
   "cell_type": "code",
   "execution_count": null,
   "metadata": {},
   "outputs": [],
   "source": [
    "out_root_dir = Path(\"../outputs/resp_vis_run_1\")"
   ]
  },
  {
   "cell_type": "code",
   "execution_count": null,
   "metadata": {},
   "outputs": [],
   "source": [
    "out_path = out_root_dir / Path(\"no_resp_max\")\n",
    "generate_samples(no_resp_max_loss, out_path, steps=400)"
   ]
  },
  {
   "cell_type": "markdown",
   "metadata": {},
   "source": [
    "Будем максимизировать вероятность наличия респиратора"
   ]
  },
  {
   "cell_type": "code",
   "execution_count": null,
   "metadata": {},
   "outputs": [],
   "source": [
    "def resp_max_loss(img, model):\n",
    "    C = 0.3\n",
    "    img_batch = tf.expand_dims(img, axis=0)\n",
    "    layer_activations = model(img_batch)\n",
    "    return (\n",
    "        layer_activations[0][1] * 1\n",
    "        + layer_activations[0][2] * 1\n",
    "        + layer_activations[0][3] * 1\n",
    "        - C * tf.image.total_variation(img)\n",
    "    )"
   ]
  },
  {
   "cell_type": "code",
   "execution_count": null,
   "metadata": {},
   "outputs": [],
   "source": [
    "out_path = out_root_dir / Path(\"resp_max\")\n",
    "generate_samples(resp_max_loss, out_path, steps=400)"
   ]
  },
  {
   "cell_type": "markdown",
   "metadata": {},
   "source": [
    "Начнём с зелёного изображения"
   ]
  },
  {
   "cell_type": "code",
   "execution_count": null,
   "metadata": {},
   "outputs": [],
   "source": [
    "def generate_samples_green_start(loss, out_path, steps=200, lr=0.01, num_samples=5):\n",
    "    shutil.rmtree(out_path, ignore_errors=True)\n",
    "    out_path.mkdir(parents=True)\n",
    "    dr = DeepResp(deepdream_model, loss, steps, lr)\n",
    "    for i in range(num_samples):\n",
    "        random_image = tf.random.uniform(\n",
    "            [64, 64, 3],\n",
    "            minval=0,\n",
    "            maxval=None,\n",
    "            dtype=tf.dtypes.float32,\n",
    "            seed=None,\n",
    "            name=None,\n",
    "        )\n",
    "        color = np.zeros(\n",
    "            [64, 64, 3],\n",
    "            dtype=np.float32,\n",
    "        )\n",
    "        color[:, :, 0] = 0.3\n",
    "        color[:, :, 1] = 0.7\n",
    "        color[:, :, 2] = 0.3\n",
    "        color = tf.convert_to_tensor(color) + random_image / 10\n",
    "        image = dr(color)\n",
    "        image_to_save = cv2.cvtColor(image.numpy(), cv2.COLOR_RGB2BGR)\n",
    "        image_to_save = cv2.resize(image_to_save, (256, 256))\n",
    "        cv2.imwrite(str(out_path / f\"{i}.jpg\"), image_to_save)"
   ]
  },
  {
   "cell_type": "code",
   "execution_count": null,
   "metadata": {},
   "outputs": [],
   "source": [
    "out_path = out_root_dir / Path(\"no_resp_max_green\")\n",
    "generate_samples_green_start(no_resp_max_loss, out_path, steps=300)"
   ]
  },
  {
   "cell_type": "code",
   "execution_count": null,
   "metadata": {},
   "outputs": [],
   "source": [
    "out_path = out_root_dir / Path(\"resp_max_green\")\n",
    "generate_samples_green_start(resp_max_loss, out_path, steps=300)"
   ]
  },
  {
   "cell_type": "code",
   "execution_count": null,
   "metadata": {},
   "outputs": [],
   "source": []
  }
 ],
 "metadata": {
  "kernelspec": {
   "display_name": "Python 3.8.10 ('.venv': venv)",
   "language": "python",
   "name": "python3"
  },
  "language_info": {
   "codemirror_mode": {
    "name": "ipython",
    "version": 3
   },
   "file_extension": ".py",
   "mimetype": "text/x-python",
   "name": "python",
   "nbconvert_exporter": "python",
   "pygments_lexer": "ipython3",
   "version": "3.8.10"
  },
  "orig_nbformat": 4,
  "vscode": {
   "interpreter": {
    "hash": "32c646ef3b8191a4bf4ca7b6edc68eb65c333f88e19fd3fe63225c2369eaa69b"
   }
  }
 },
 "nbformat": 4,
 "nbformat_minor": 2
}
