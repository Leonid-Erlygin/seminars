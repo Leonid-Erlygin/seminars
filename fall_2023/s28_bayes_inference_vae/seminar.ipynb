{
 "cells": [
  {
   "cell_type": "markdown",
   "metadata": {},
   "source": [
    "## Семинар 14. VAE в Pyro"
   ]
  },
  {
   "cell_type": "code",
   "execution_count": 1,
   "metadata": {},
   "outputs": [
    {
     "name": "stderr",
     "output_type": "stream",
     "text": [
      "UsageError: Line magic function `%!pip` not found.\n"
     ]
    }
   ],
   "source": [
    "%!pip install pyro-ppl"
   ]
  },
  {
   "cell_type": "code",
   "execution_count": 2,
   "metadata": {},
   "outputs": [],
   "source": [
    "import os\n",
    "\n",
    "import numpy as np\n",
    "import torch\n",
    "from pyro.contrib.examples.util import MNIST\n",
    "import torch.nn as nn\n",
    "import torchvision.transforms as transforms\n",
    "\n",
    "import pyro\n",
    "import pyro.distributions as dist\n",
    "import pyro.contrib.examples.util  # patches torchvision\n",
    "from pyro.infer import SVI, Trace_ELBO\n",
    "from pyro.optim import Adam"
   ]
  },
  {
   "cell_type": "code",
   "execution_count": 3,
   "metadata": {},
   "outputs": [],
   "source": [
    "assert pyro.__version__.startswith(\"1.8.6\")\n",
    "pyro.distributions.enable_validation(False)\n",
    "pyro.set_rng_seed(0)\n",
    "# Enable smoke test - run the notebook cells on CI.\n",
    "smoke_test = \"CI\" in os.environ"
   ]
  },
  {
   "cell_type": "code",
   "execution_count": 4,
   "metadata": {},
   "outputs": [],
   "source": [
    "# for loading and batching MNIST dataset\n",
    "def setup_data_loaders(batch_size=128, use_cuda=False):\n",
    "    root = \"./data\"\n",
    "    download = True\n",
    "    trans = transforms.ToTensor()\n",
    "    train_set = MNIST(root=root, train=True, transform=trans, download=download)\n",
    "    test_set = MNIST(root=root, train=False, transform=trans)\n",
    "\n",
    "    kwargs = {\"num_workers\": 10, \"pin_memory\": use_cuda}\n",
    "    train_loader = torch.utils.data.DataLoader(\n",
    "        dataset=train_set, batch_size=batch_size, shuffle=True, **kwargs\n",
    "    )\n",
    "    test_loader = torch.utils.data.DataLoader(\n",
    "        dataset=test_set, batch_size=batch_size, shuffle=False, **kwargs\n",
    "    )\n",
    "    return train_loader, test_loader"
   ]
  },
  {
   "cell_type": "code",
   "execution_count": 5,
   "metadata": {},
   "outputs": [],
   "source": [
    "class Decoder(nn.Module):\n",
    "    def __init__(self, z_dim, hidden_dim):\n",
    "        super().__init__()\n",
    "        # setup the two linear transformations used\n",
    "        self.fc1 = nn.Linear(z_dim, hidden_dim)\n",
    "        self.fc21 = nn.Linear(hidden_dim, 784)\n",
    "        # setup the non-linearities\n",
    "        self.softplus = nn.Softplus()\n",
    "        self.sigmoid = nn.Sigmoid()\n",
    "\n",
    "    def forward(self, z):\n",
    "        # define the forward computation on the latent z\n",
    "        # first compute the hidden units\n",
    "        hidden = self.softplus(self.fc1(z))\n",
    "        # return the parameter for the output Bernoulli\n",
    "        # each is of size batch_size x 784\n",
    "        loc_img = self.sigmoid(self.fc21(hidden))\n",
    "        return loc_img"
   ]
  },
  {
   "cell_type": "code",
   "execution_count": 6,
   "metadata": {},
   "outputs": [],
   "source": [
    "class Encoder(nn.Module):\n",
    "    def __init__(self, z_dim, hidden_dim):\n",
    "        super().__init__()\n",
    "        # setup the three linear transformations used\n",
    "        self.fc1 = nn.Linear(784, hidden_dim)\n",
    "        self.fc21 = nn.Linear(hidden_dim, z_dim)\n",
    "        self.fc22 = nn.Linear(hidden_dim, z_dim)\n",
    "        # setup the non-linearities\n",
    "        self.softplus = nn.Softplus()\n",
    "\n",
    "    def forward(self, x):\n",
    "        # define the forward computation on the image x\n",
    "        # first shape the mini-batch to have pixels in the rightmost dimension\n",
    "        x = x.reshape(-1, 784)\n",
    "        # then compute the hidden units\n",
    "        hidden = self.softplus(self.fc1(x))\n",
    "        # then return a mean vector and a (positive) square root covariance\n",
    "        # each of size batch_size x z_dim\n",
    "        z_loc = self.fc21(hidden)\n",
    "        z_scale = torch.exp(self.fc22(hidden))\n",
    "        return z_loc, z_scale"
   ]
  },
  {
   "cell_type": "code",
   "execution_count": 7,
   "metadata": {},
   "outputs": [],
   "source": [
    "class VAE(nn.Module):\n",
    "    # by default our latent space is 50-dimensional\n",
    "    # and we use 400 hidden units\n",
    "    def __init__(self, z_dim=50, hidden_dim=400, use_cuda=False):\n",
    "        super().__init__()\n",
    "        # create the encoder and decoder networks\n",
    "        self.encoder = Encoder(z_dim, hidden_dim)\n",
    "        self.decoder = Decoder(z_dim, hidden_dim)\n",
    "\n",
    "        if use_cuda:\n",
    "            # calling cuda() here will put all the parameters of\n",
    "            # the encoder and decoder networks into gpu memory\n",
    "            self.cuda()\n",
    "        self.use_cuda = use_cuda\n",
    "        self.z_dim = z_dim\n",
    "\n",
    "    # define the model p(x|z)p(z)\n",
    "    def model(self, x):\n",
    "        # register PyTorch module `decoder` with Pyro\n",
    "        pyro.module(\"decoder\", self.decoder)\n",
    "        with pyro.plate(\"data\", x.shape[0]):\n",
    "            # setup hyperparameters for prior p(z)\n",
    "            z_loc = x.new_zeros(torch.Size((x.shape[0], self.z_dim)))\n",
    "            z_scale = x.new_ones(torch.Size((x.shape[0], self.z_dim)))\n",
    "            # sample from prior (value will be sampled by guide when computing the ELBO)\n",
    "            z = pyro.sample(\"latent\", dist.Normal(z_loc, z_scale).to_event(1))\n",
    "            # decode the latent code z\n",
    "            loc_img = self.decoder(z)\n",
    "            # score against actual images\n",
    "            pyro.sample(\n",
    "                \"obs\", dist.Bernoulli(loc_img).to_event(1), obs=x.reshape(-1, 784)\n",
    "            )\n",
    "\n",
    "    # define the guide (i.e. variational distribution) q(z|x)\n",
    "    def guide(self, x):\n",
    "        # register PyTorch module `encoder` with Pyro\n",
    "        pyro.module(\"encoder\", self.encoder)\n",
    "        with pyro.plate(\"data\", x.shape[0]):\n",
    "            # use the encoder to get the parameters used to define q(z|x)\n",
    "            z_loc, z_scale = self.encoder(x)\n",
    "            # sample the latent code z\n",
    "            pyro.sample(\"latent\", dist.Normal(z_loc, z_scale).to_event(1))\n",
    "\n",
    "    # define a helper function for reconstructing images\n",
    "    def reconstruct_img(self, x):\n",
    "        # encode image x\n",
    "        z_loc, z_scale = self.encoder(x)\n",
    "        # sample in latent space\n",
    "        z = dist.Normal(z_loc, z_scale).sample()\n",
    "        # decode the image (note we don't sample in image space)\n",
    "        loc_img = self.decoder(z)\n",
    "        return loc_img"
   ]
  },
  {
   "cell_type": "code",
   "execution_count": null,
   "metadata": {},
   "outputs": [],
   "source": []
  },
  {
   "cell_type": "code",
   "execution_count": 8,
   "metadata": {},
   "outputs": [],
   "source": [
    "vae = VAE()\n",
    "optimizer = Adam({\"lr\": 1.0e-3})\n",
    "\n",
    "svi = SVI(vae.model, vae.guide, optimizer, loss=Trace_ELBO())"
   ]
  },
  {
   "cell_type": "code",
   "execution_count": 9,
   "metadata": {},
   "outputs": [],
   "source": [
    "def train(svi, train_loader, use_cuda=False):\n",
    "    # initialize loss accumulator\n",
    "    epoch_loss = 0.0\n",
    "    # do a training epoch over each mini-batch x returned\n",
    "    # by the data loader\n",
    "    for x, _ in train_loader:\n",
    "        # if on GPU put mini-batch into CUDA memory\n",
    "        if use_cuda:\n",
    "            x = x.cuda()\n",
    "        # do ELBO gradient and accumulate loss\n",
    "        epoch_loss += svi.step(x)\n",
    "\n",
    "    # return epoch loss\n",
    "    normalizer_train = len(train_loader.dataset)\n",
    "    total_epoch_loss_train = epoch_loss / normalizer_train\n",
    "    return total_epoch_loss_train"
   ]
  },
  {
   "cell_type": "code",
   "execution_count": 10,
   "metadata": {},
   "outputs": [],
   "source": [
    "def evaluate(svi, test_loader, use_cuda=False):\n",
    "    # initialize loss accumulator\n",
    "    test_loss = 0.0\n",
    "    # compute the loss over the entire test set\n",
    "    for x, _ in test_loader:\n",
    "        # if on GPU put mini-batch into CUDA memory\n",
    "        if use_cuda:\n",
    "            x = x.cuda()\n",
    "        # compute ELBO estimate and accumulate loss\n",
    "        test_loss += svi.evaluate_loss(x)\n",
    "    normalizer_test = len(test_loader.dataset)\n",
    "    total_epoch_loss_test = test_loss / normalizer_test\n",
    "    return total_epoch_loss_test"
   ]
  },
  {
   "cell_type": "code",
   "execution_count": null,
   "metadata": {},
   "outputs": [],
   "source": []
  },
  {
   "cell_type": "code",
   "execution_count": 11,
   "metadata": {},
   "outputs": [],
   "source": [
    "# Run options\n",
    "LEARNING_RATE = 1.0e-3\n",
    "USE_CUDA = True\n",
    "\n",
    "# Run only for a single iteration for testing\n",
    "NUM_EPOCHS = 1 if smoke_test else 100\n",
    "TEST_FREQUENCY = 5"
   ]
  },
  {
   "cell_type": "code",
   "execution_count": 12,
   "metadata": {},
   "outputs": [
    {
     "name": "stdout",
     "output_type": "stream",
     "text": [
      "[epoch 000]  average training loss: 190.8656\n",
      "[epoch 000] average test loss: 155.7029\n",
      "[epoch 001]  average training loss: 146.2130\n",
      "[epoch 002]  average training loss: 131.8811\n",
      "[epoch 003]  average training loss: 123.8123\n",
      "[epoch 004]  average training loss: 118.9097\n",
      "[epoch 005]  average training loss: 115.7442\n",
      "[epoch 005] average test loss: 113.5669\n",
      "[epoch 006]  average training loss: 113.5196\n",
      "[epoch 007]  average training loss: 111.8627\n",
      "[epoch 008]  average training loss: 110.5554\n",
      "[epoch 009]  average training loss: 109.5449\n",
      "[epoch 010]  average training loss: 108.7602\n",
      "[epoch 010] average test loss: 107.8704\n",
      "[epoch 011]  average training loss: 108.1038\n",
      "[epoch 012]  average training loss: 107.5468\n",
      "[epoch 013]  average training loss: 107.0950\n",
      "[epoch 014]  average training loss: 106.6665\n",
      "[epoch 015]  average training loss: 106.3654\n",
      "[epoch 015] average test loss: 105.7981\n",
      "[epoch 016]  average training loss: 106.0353\n",
      "[epoch 017]  average training loss: 105.7744\n",
      "[epoch 018]  average training loss: 105.5290\n",
      "[epoch 019]  average training loss: 105.3238\n",
      "[epoch 020]  average training loss: 105.0958\n",
      "[epoch 020] average test loss: 104.6407\n",
      "[epoch 021]  average training loss: 104.9303\n",
      "[epoch 022]  average training loss: 104.7629\n",
      "[epoch 023]  average training loss: 104.5678\n",
      "[epoch 024]  average training loss: 104.4554\n",
      "[epoch 025]  average training loss: 104.3189\n",
      "[epoch 025] average test loss: 103.8395\n",
      "[epoch 026]  average training loss: 104.1829\n",
      "[epoch 027]  average training loss: 104.0958\n",
      "[epoch 028]  average training loss: 103.9422\n",
      "[epoch 029]  average training loss: 103.8636\n",
      "[epoch 030]  average training loss: 103.8049\n",
      "[epoch 030] average test loss: 103.6058\n",
      "[epoch 031]  average training loss: 103.7041\n",
      "[epoch 032]  average training loss: 103.5800\n",
      "[epoch 033]  average training loss: 103.5230\n",
      "[epoch 034]  average training loss: 103.4414\n",
      "[epoch 035]  average training loss: 103.3588\n",
      "[epoch 035] average test loss: 103.1335\n",
      "[epoch 036]  average training loss: 103.2959\n",
      "[epoch 037]  average training loss: 103.1864\n",
      "[epoch 038]  average training loss: 103.1268\n",
      "[epoch 039]  average training loss: 103.1006\n",
      "[epoch 040]  average training loss: 103.0417\n",
      "[epoch 040] average test loss: 102.8720\n",
      "[epoch 041]  average training loss: 102.9669\n",
      "[epoch 042]  average training loss: 102.8973\n",
      "[epoch 043]  average training loss: 102.8636\n",
      "[epoch 044]  average training loss: 102.8046\n",
      "[epoch 045]  average training loss: 102.7462\n",
      "[epoch 045] average test loss: 102.7397\n",
      "[epoch 046]  average training loss: 102.6892\n",
      "[epoch 047]  average training loss: 102.6462\n",
      "[epoch 048]  average training loss: 102.5794\n",
      "[epoch 049]  average training loss: 102.5486\n",
      "[epoch 050]  average training loss: 102.4815\n",
      "[epoch 050] average test loss: 102.5564\n",
      "[epoch 051]  average training loss: 102.4457\n",
      "[epoch 052]  average training loss: 102.4055\n",
      "[epoch 053]  average training loss: 102.3558\n",
      "[epoch 054]  average training loss: 102.3148\n",
      "[epoch 055]  average training loss: 102.2851\n",
      "[epoch 055] average test loss: 102.2916\n",
      "[epoch 056]  average training loss: 102.2239\n",
      "[epoch 057]  average training loss: 102.2059\n",
      "[epoch 058]  average training loss: 102.1580\n",
      "[epoch 059]  average training loss: 102.0763\n",
      "[epoch 060]  average training loss: 102.0720\n",
      "[epoch 060] average test loss: 102.0675\n",
      "[epoch 061]  average training loss: 102.0363\n",
      "[epoch 062]  average training loss: 101.9773\n",
      "[epoch 063]  average training loss: 101.9255\n",
      "[epoch 064]  average training loss: 101.9230\n",
      "[epoch 065]  average training loss: 101.8831\n",
      "[epoch 065] average test loss: 101.9414\n",
      "[epoch 066]  average training loss: 101.8554\n",
      "[epoch 067]  average training loss: 101.7882\n",
      "[epoch 068]  average training loss: 101.7574\n",
      "[epoch 069]  average training loss: 101.7722\n",
      "[epoch 070]  average training loss: 101.7002\n",
      "[epoch 070] average test loss: 101.9390\n",
      "[epoch 071]  average training loss: 101.6592\n",
      "[epoch 072]  average training loss: 101.6145\n",
      "[epoch 073]  average training loss: 101.6248\n",
      "[epoch 074]  average training loss: 101.5693\n",
      "[epoch 075]  average training loss: 101.5321\n",
      "[epoch 075] average test loss: 101.6473\n",
      "[epoch 076]  average training loss: 101.5240\n",
      "[epoch 077]  average training loss: 101.4787\n",
      "[epoch 078]  average training loss: 101.4411\n",
      "[epoch 079]  average training loss: 101.4285\n",
      "[epoch 080]  average training loss: 101.3763\n",
      "[epoch 080] average test loss: 101.5916\n",
      "[epoch 081]  average training loss: 101.3893\n",
      "[epoch 082]  average training loss: 101.3160\n",
      "[epoch 083]  average training loss: 101.3231\n",
      "[epoch 084]  average training loss: 101.2468\n",
      "[epoch 085]  average training loss: 101.2210\n",
      "[epoch 085] average test loss: 101.4731\n",
      "[epoch 086]  average training loss: 101.2460\n",
      "[epoch 087]  average training loss: 101.1494\n",
      "[epoch 088]  average training loss: 101.1410\n",
      "[epoch 089]  average training loss: 101.1019\n",
      "[epoch 090]  average training loss: 101.1006\n",
      "[epoch 090] average test loss: 101.3437\n",
      "[epoch 091]  average training loss: 101.0742\n",
      "[epoch 092]  average training loss: 101.0643\n",
      "[epoch 093]  average training loss: 101.0311\n",
      "[epoch 094]  average training loss: 100.9838\n",
      "[epoch 095]  average training loss: 100.9725\n",
      "[epoch 095] average test loss: 101.3702\n",
      "[epoch 096]  average training loss: 100.9235\n",
      "[epoch 097]  average training loss: 100.9225\n",
      "[epoch 098]  average training loss: 100.8779\n",
      "[epoch 099]  average training loss: 100.8608\n"
     ]
    }
   ],
   "source": [
    "train_loader, test_loader = setup_data_loaders(batch_size=256, use_cuda=USE_CUDA)\n",
    "\n",
    "# clear param store\n",
    "pyro.clear_param_store()\n",
    "\n",
    "# setup the VAE\n",
    "vae = VAE(use_cuda=USE_CUDA)\n",
    "\n",
    "# setup the optimizer\n",
    "adam_args = {\"lr\": LEARNING_RATE}\n",
    "optimizer = Adam(adam_args)\n",
    "\n",
    "# setup the inference algorithm\n",
    "svi = SVI(vae.model, vae.guide, optimizer, loss=Trace_ELBO())\n",
    "\n",
    "train_elbo = []\n",
    "test_elbo = []\n",
    "# training loop\n",
    "for epoch in range(NUM_EPOCHS):\n",
    "    total_epoch_loss_train = train(svi, train_loader, use_cuda=USE_CUDA)\n",
    "    train_elbo.append(-total_epoch_loss_train)\n",
    "    print(\"[epoch %03d]  average training loss: %.4f\" % (epoch, total_epoch_loss_train))\n",
    "\n",
    "    if epoch % TEST_FREQUENCY == 0:\n",
    "        # report test diagnostics\n",
    "        total_epoch_loss_test = evaluate(svi, test_loader, use_cuda=USE_CUDA)\n",
    "        test_elbo.append(-total_epoch_loss_test)\n",
    "        print(\"[epoch %03d] average test loss: %.4f\" % (epoch, total_epoch_loss_test))"
   ]
  },
  {
   "cell_type": "markdown",
   "metadata": {},
   "source": [
    "## Сохранение модели"
   ]
  },
  {
   "cell_type": "code",
   "execution_count": 45,
   "metadata": {},
   "outputs": [],
   "source": [
    "torch.save(vae.state_dict(), \"vae.pt\")"
   ]
  },
  {
   "cell_type": "code",
   "execution_count": 46,
   "metadata": {},
   "outputs": [
    {
     "data": {
      "text/plain": [
       "<All keys matched successfully>"
      ]
     },
     "execution_count": 46,
     "metadata": {},
     "output_type": "execute_result"
    }
   ],
   "source": [
    "vae_loaded = VAE()\n",
    "vae_loaded.load_state_dict(torch.load(\"vae.pt\"))"
   ]
  },
  {
   "cell_type": "code",
   "execution_count": 47,
   "metadata": {},
   "outputs": [
    {
     "data": {
      "text/plain": [
       "<matplotlib.image.AxesImage at 0x7f0d27d9e0a0>"
      ]
     },
     "execution_count": 47,
     "metadata": {},
     "output_type": "execute_result"
    },
    {
     "data": {
      "image/png": "[encoded data removed]",
      "text/plain": [
       "<Figure size 640x480 with 1 Axes>"
      ]
     },
     "metadata": {},
     "output_type": "display_data"
    }
   ],
   "source": [
    "import matplotlib.pyplot as plt\n",
    "\n",
    "x = train_loader.dataset[2][0]\n",
    "plt.imshow(x[0, :, :])"
   ]
  },
  {
   "cell_type": "code",
   "execution_count": 48,
   "metadata": {},
   "outputs": [],
   "source": [
    "vae_loaded.to(\"cpu\")\n",
    "vae_loaded.eval()\n",
    "x_rec = vae_loaded.reconstruct_img(x)"
   ]
  },
  {
   "cell_type": "code",
   "execution_count": 49,
   "metadata": {},
   "outputs": [
    {
     "data": {
      "text/plain": [
       "<matplotlib.image.AxesImage at 0x7f0d05cfdf40>"
      ]
     },
     "execution_count": 49,
     "metadata": {},
     "output_type": "execute_result"
    },
    {
     "data": {
      "image/png": "[encoded data removed]",
      "text/plain": [
       "<Figure size 640x480 with 1 Axes>"
      ]
     },
     "metadata": {},
     "output_type": "display_data"
    }
   ],
   "source": [
    "plt.imshow(x_rec.reshape(28, 28).detach().numpy())"
   ]
  },
  {
   "cell_type": "code",
   "execution_count": null,
   "metadata": {},
   "outputs": [],
   "source": []
  }
 ],
 "metadata": {
  "kernelspec": {
   "display_name": "base",
   "language": "python",
   "name": "python3"
  },
  "language_info": {
   "codemirror_mode": {
    "name": "ipython",
    "version": 3
   },
   "file_extension": ".py",
   "mimetype": "text/x-python",
   "name": "python",
   "nbconvert_exporter": "python",
   "pygments_lexer": "ipython3",
   "version": "3.9.7"
  }
 },
 "nbformat": 4,
 "nbformat_minor": 2
}
