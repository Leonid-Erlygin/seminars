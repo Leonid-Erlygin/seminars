{
 "cells": [
  {
   "attachments": {},
   "cell_type": "markdown",
   "metadata": {},
   "source": [
    "# Семинар 8: Metric learning for face recognition\n",
    "\n",
    "<img src=\"https://insightface.ai/assets/img/github/facerecognitionfromvideo.PNG\" alt=\"drawing\" width=\"800\"/>\n",
    "\n",
    "## Содержание семинара\n",
    "На этом семинаре мы\n",
    "1. Поставим задачу распознавания лиц.\n",
    "2. Опишем в общем виде pipeline для решения задачи распознавания.\n",
    "3. Разберём нейросетевую модель [ArcFace](https://arxiv.org/abs/1801.07698), используемую для получения грубоких представлений.\n",
    "4. Обучим ArcFace модель на небольшом наборе данных.\n",
    "5. Применим полученные знания для решения задачи распознавания лиц на наборе данных [EasyPortrait](https://github.com/ai-forever/easyportrait)."
   ]
  },
  {
   "attachments": {},
   "cell_type": "markdown",
   "metadata": {},
   "source": [
    "## 1. Постановка задачи распознавания лиц\n",
    "\n",
    "Принято выделять три стандартные постановки задачи распознавания лиц: верификация, открытая и закрытая идентификация (смотри [Handbook of Face Recognition](https://link.springer.com/book/10.1007/978-0-85729-932-1)).\n",
    "Верификация и закрытая идентификация являются частными случаями задачи отрытой идентификации. \n",
    "\n",
    "На нашем занятии мы рассмотрим задачу верификации лиц."
   ]
  },
  {
   "attachments": {},
   "cell_type": "markdown",
   "metadata": {},
   "source": [
    "## 4. Обучение ArcFace на небольшом наборе данных"
   ]
  },
  {
   "attachments": {},
   "cell_type": "markdown",
   "metadata": {},
   "source": [
    "### Подготовка данных"
   ]
  },
  {
   "cell_type": "code",
   "execution_count": 1,
   "metadata": {},
   "outputs": [],
   "source": [
    "import torch\n",
    "import pytorch_lightning as pl\n",
    "from torch.utils.data import DataLoader, Dataset\n",
    "from torchvision import transforms\n",
    "import mxnet as mx\n",
    "import numbers\n",
    "import torch.nn.functional as F\n",
    "from tqdm import tqdm\n",
    "import numpy as np\n",
    "import os\n",
    "from pathlib import Path"
   ]
  },
  {
   "cell_type": "code",
   "execution_count": 2,
   "metadata": {},
   "outputs": [],
   "source": [
    "\n",
    "class MXFaceDataset(Dataset):\n",
    "    def __init__(self, root_dir, test=False):\n",
    "        \"\"\"\n",
    "        ArcFace loader\n",
    "        https://github.com/deepinsight/insightface/blob/master/recognition/arcface_torch/dataset.py\n",
    "        \"\"\"\n",
    "        super(MXFaceDataset, self).__init__()\n",
    "\n",
    "        self.test = test\n",
    "        if self.test:\n",
    "            self.transform = transforms.Compose(\n",
    "                [\n",
    "                    transforms.ToPILImage(),\n",
    "                    transforms.ToTensor(),\n",
    "                    transforms.Normalize(mean=[0.5, 0.5, 0.5], std=[0.5, 0.5, 0.5]),\n",
    "                ]\n",
    "            )\n",
    "        else:\n",
    "\n",
    "            self.transform = transforms.Compose(\n",
    "                [\n",
    "                    transforms.ToPILImage(),\n",
    "                    transforms.RandomHorizontalFlip(),\n",
    "                    transforms.ToTensor(),\n",
    "                    transforms.Normalize(mean=[0.5, 0.5, 0.5], std=[0.5, 0.5, 0.5]),\n",
    "                ]\n",
    "            )\n",
    "        self.root_dir = root_dir\n",
    "        path_imgrec = os.path.join(root_dir, \"train.rec\")\n",
    "        path_imgidx = os.path.join(root_dir, \"train.idx\")\n",
    "        self.imgrec = mx.recordio.MXIndexedRecordIO(path_imgidx, path_imgrec, \"r\")\n",
    "        s = self.imgrec.read_idx(0)\n",
    "        header, _ = mx.recordio.unpack(s)\n",
    "        if header.flag > 0:\n",
    "            self.header0 = (int(header.label[0]), int(header.label[1]))\n",
    "            self.imgidx = np.array(range(1, int(header.label[0])))\n",
    "        else:\n",
    "            self.imgidx = np.array(list(self.imgrec.keys))\n",
    "        labels_path = Path(root_dir) / 'labels.npy'\n",
    "        if labels_path.is_file:\n",
    "            self.labels = np.load(labels_path)\n",
    "        else:\n",
    "            labels = []\n",
    "            for i in tqdm(range(len(self.imgidx))):\n",
    "                idx = self.imgidx[i]\n",
    "                s = self.imgrec.read_idx(idx)\n",
    "                header, img = mx.recordio.unpack(s)\n",
    "                label = header.label\n",
    "                labels.append(int(label))\n",
    "            labels = np.array(labels)\n",
    "            np.save(labels_path, labels)\n",
    "        unique_labels, unique_counts =  np.unique(self.labels, return_counts=True)\n",
    "        top_8_ids = np.argsort(unique_counts)[::-1][:8]\n",
    "        self.top_8_labels = unique_labels[top_8_ids]\n",
    "\n",
    "        self.label_map = dict(zip(self.top_8_labels.tolist(), np.arange(len(self.top_8_labels))))\n",
    "\n",
    "    def __getitem__(self, index):\n",
    "        idx = self.imgidx[index]\n",
    "        s = self.imgrec.read_idx(idx)\n",
    "        header, img = mx.recordio.unpack(s)\n",
    "        label = header.label\n",
    "        if not isinstance(label, numbers.Number):\n",
    "            label = label[0]\n",
    "        label = self.label_map[int(label)]\n",
    "        label = torch.tensor(label, dtype=torch.long)\n",
    "        sample = mx.image.imdecode(img).asnumpy()\n",
    "        if self.transform is not None:\n",
    "            sample = self.transform(sample)\n",
    "        if self.test:\n",
    "            return sample\n",
    "        else:\n",
    "            return sample, label\n",
    "\n",
    "    def __len__(self):\n",
    "        return len(self.imgidx)"
   ]
  },
  {
   "cell_type": "code",
   "execution_count": 3,
   "metadata": {},
   "outputs": [],
   "source": [
    "ms1m_dataset = MXFaceDataset('data/ms1m/')\n",
    "eight_people_ids =  np.where(np.isin(ms1m_dataset.labels, ms1m_dataset.top_8_labels))[0]\n",
    "eight_people_set = torch.utils.data.Subset(ms1m_dataset, eight_people_ids)"
   ]
  },
  {
   "attachments": {},
   "cell_type": "markdown",
   "metadata": {},
   "source": [
    "### Задание модели"
   ]
  },
  {
   "cell_type": "code",
   "execution_count": 4,
   "metadata": {},
   "outputs": [],
   "source": [
    "from iresnet import iresnet50_normalized\n",
    "\n",
    "\n",
    "class ArcFaceLoss(torch.nn.Module):\n",
    "    def __init__(self, s=64.0, m=0.5):\n",
    "        super(ArcFace, self).__init__()\n",
    "        self.s = s\n",
    "        self.m = m\n",
    "\n",
    "    def forward(self, logits, labels):\n",
    "        cosine, gty = 1, 2#kwargs[\"cosine\"], kwargs[\"label\"]\n",
    "        index = torch.where(gty != -1)[0]\n",
    "        m_hot = torch.zeros(index.size()[0], cosine.size()[1], device=cosine.device)\n",
    "        m_hot.scatter_(1, gty[index, None], self.m)\n",
    "        cosine.acos_()\n",
    "        cosine[index] += m_hot\n",
    "        cosine.cos_().mul_(self.s)\n",
    "        return cosine\n",
    "\n",
    "class ArcFace(pl.LightningModule):\n",
    "    def __init__(\n",
    "        self,\n",
    "        backbone: torch.nn.Module,\n",
    "        loss: torch.nn.Module,\n",
    "    ):\n",
    "        super().__init__()\n",
    "        self.backbone = backbone\n",
    "        self.loss = loss\n",
    "        self.softmax_weights = torch.nn.Parameter(torch.zeros(2, 8), requires_grad=True)\n",
    "\n",
    "    def forward(self, x):\n",
    "        backbone_outputs = self.backbone(x)\n",
    "        features = backbone_outputs[\"feature\"]\n",
    "        logits = torch.matmul(features, F.normalize(self.softmax_weights, dim=0))\n",
    "        return features, logits\n",
    "\n",
    "    def training_step(self, batch):\n",
    "        images, labels = batch\n",
    "        features, logits = self(images)\n",
    "        loss = self.loss(logits, labels)\n",
    "        self.log(\"train_loss\", loss.item(), prog_bar=True)\n",
    "        return loss\n",
    "\n",
    "    def configure_optimizers(self):\n",
    "        params = list(self.backbone.parameters()) + [self.softmax_weights]\n",
    "        optimizer = torch.optim.AdamW(params, lr=1e-3, weight_decay=5e-3)\n",
    "        return {\n",
    "            \"optimizer\": optimizer,\n",
    "            # \"lr_scheduler\": {\n",
    "            #     \"scheduler\": getattr(\n",
    "            #         importlib.import_module(\"torch.optim.lr_scheduler\"),\n",
    "            #         self.scheduler_params[\"scheduler\"],\n",
    "            #     )(optimizer, **self.scheduler_params[\"params\"]),\n",
    "            #     \"interval\": \"step\",\n",
    "            #},\n",
    "        }\n",
    "\n",
    "    def predict_step(self, batch, batch_idx):\n",
    "        images_batch = batch\n",
    "        \n",
    "        images_batch = images_batch.permute(0, 3, 1, 2)\n",
    "\n",
    "        return self(images_batch)\n",
    "    \n",
    "backbone_model = iresnet50_normalized(num_features=2)\n",
    "softmax_loss = torch.nn.CrossEntropyLoss()\n",
    "arcface_model = ArcFace(backbone_model, softmax_loss)"
   ]
  },
  {
   "cell_type": "code",
   "execution_count": 5,
   "metadata": {},
   "outputs": [],
   "source": [
    "batch_size = 128\n",
    "num_workers = 10"
   ]
  },
  {
   "cell_type": "code",
   "execution_count": 6,
   "metadata": {},
   "outputs": [
    {
     "name": "stderr",
     "output_type": "stream",
     "text": [
      "GPU available: True (cuda), used: True\n",
      "TPU available: False, using: 0 TPU cores\n",
      "IPU available: False, using: 0 IPUs\n",
      "HPU available: False, using: 0 HPUs\n",
      "Initializing distributed: GLOBAL_RANK: 0, MEMBER: 1/2\n",
      "Initializing distributed: GLOBAL_RANK: 1, MEMBER: 2/2\n",
      "----------------------------------------------------------------------------------------------------\n",
      "distributed_backend=nccl\n",
      "All distributed processes registered. Starting with 2 processes\n",
      "----------------------------------------------------------------------------------------------------\n",
      "\n",
      "You are using a CUDA device ('NVIDIA A10') that has Tensor Cores. To properly utilize them, you should set `torch.set_float32_matmul_precision('medium' | 'high')` which will trade-off precision for performance. For more details, read https://pytorch.org/docs/stable/generated/torch.set_float32_matmul_precision.html#torch.set_float32_matmul_precision\n",
      "LOCAL_RANK: 0 - CUDA_VISIBLE_DEVICES: [0,1]\n",
      "LOCAL_RANK: 1 - CUDA_VISIBLE_DEVICES: [0,1]\n",
      "\n",
      "  | Name     | Type             | Params\n",
      "----------------------------------------------\n",
      "0 | backbone | IResNetNorm      | 30.8 M\n",
      "1 | loss     | CrossEntropyLoss | 0     \n",
      "----------------------------------------------\n",
      "30.8 M    Trainable params\n",
      "2         Non-trainable params\n",
      "30.8 M    Total params\n",
      "123.178   Total estimated model params size (MB)\n",
      "/home/erlygin/miniconda/lib/python3.9/site-packages/pytorch_lightning/loops/fit_loop.py:280: PossibleUserWarning: The number of training batches (17) is smaller than the logging interval Trainer(log_every_n_steps=50). Set a lower value for log_every_n_steps if you want to see logs for the training epoch.\n",
      "  rank_zero_warn(\n"
     ]
    },
    {
     "name": "stdout",
     "output_type": "stream",
     "text": [
      "Epoch 7:   0%|          | 0/17 [00:00<?, ?it/s, v_num=1, train_loss=1.410]         "
     ]
    }
   ],
   "source": [
    "from pytorch_lightning import Trainer\n",
    "import pytorch_lightning as pl\n",
    "trainer = Trainer(max_epochs=10, default_root_dir='outputs/softmax_train')\n",
    "train_dataloader = DataLoader(\n",
    "            eight_people_set,\n",
    "            batch_size,\n",
    "            shuffle=True,\n",
    "            drop_last=True,\n",
    "            num_workers=num_workers,\n",
    "        )\n",
    "trainer.fit(arcface_model, train_dataloader)"
   ]
  },
  {
   "attachments": {},
   "cell_type": "markdown",
   "metadata": {},
   "source": [
    "### Вычисление представлений"
   ]
  },
  {
   "cell_type": "code",
   "execution_count": 9,
   "metadata": {},
   "outputs": [],
   "source": [
    "backbone_model = iresnet50_normalized(num_features=2)\n",
    "softmax_loss = torch.nn.CrossEntropyLoss()\n",
    "checkpoint_path = \"outputs/softmax_train/lightning_logs/version_0/checkpoints/epoch=2-step=51.ckpt\"\n",
    "softmax_model = ArcFace.load_from_checkpoint(backbone=backbone_model, loss=softmax_loss, checkpoint_path=checkpoint_path)\n"
   ]
  },
  {
   "cell_type": "code",
   "execution_count": 10,
   "metadata": {},
   "outputs": [],
   "source": [
    "def predict_features(model):\n",
    "    test_dataloader = DataLoader(\n",
    "                eight_people_set,\n",
    "                batch_size,\n",
    "                shuffle=False,\n",
    "                drop_last=False,\n",
    "                num_workers=num_workers,\n",
    "            )\n",
    "    cuda = torch.device('cuda')\n",
    "    model.to(cuda)\n",
    "    # disable randomness, dropout, etc...\n",
    "    model.eval()\n",
    "    predicted_features = []\n",
    "    image_labels = []\n",
    "    for batch in tqdm(test_dataloader):\n",
    "        images, labels = batch\n",
    "        images = images.to(cuda)\n",
    "        features, _ = model(images)\n",
    "        features = features.detach().cpu().numpy()\n",
    "        labels = labels.numpy()\n",
    "        predicted_features.append(features)\n",
    "        image_labels.append(labels)\n",
    "    predicted_features = np.concatenate(predicted_features)\n",
    "    image_labels = np.concatenate(image_labels)\n",
    "    return predicted_features, image_labels"
   ]
  },
  {
   "cell_type": "code",
   "execution_count": 11,
   "metadata": {},
   "outputs": [
    {
     "name": "stderr",
     "output_type": "stream",
     "text": [
      "100%|██████████| 35/35 [00:23<00:00,  1.46it/s]\n"
     ]
    }
   ],
   "source": [
    "predicted_features, image_labels = predict_features(softmax_model)"
   ]
  },
  {
   "cell_type": "code",
   "execution_count": 34,
   "metadata": {},
   "outputs": [],
   "source": [
    "softmax_weights = softmax_model.softmax_weights.detach().cpu()"
   ]
  },
  {
   "cell_type": "code",
   "execution_count": 36,
   "metadata": {},
   "outputs": [],
   "source": [
    "softmax_weights = F.normalize(softmax_weights, dim=0).numpy()"
   ]
  },
  {
   "cell_type": "code",
   "execution_count": 53,
   "metadata": {},
   "outputs": [],
   "source": [
    "import matplotlib.colors as mcolors\n",
    "colors = list(mcolors.TABLEAU_COLORS)[:8]"
   ]
  },
  {
   "cell_type": "code",
   "execution_count": 61,
   "metadata": {},
   "outputs": [
    {
     "data": {
      "image/png": "[encoded data removed]",
      "text/plain": [
       "<Figure size 640x480 with 1 Axes>"
      ]
     },
     "metadata": {},
     "output_type": "display_data"
    }
   ],
   "source": [
    "import matplotlib.pyplot as plt\n",
    "max_classes = 3\n",
    "for i, (weight, color) in enumerate(zip(softmax_weights.T, colors)):\n",
    "    points = predicted_features[image_labels==i]\n",
    "    x, y = [0, weight[0]], [0, weight[1]]\n",
    "    plt.plot(x, y, marker = '',c = color)\n",
    "    plt.scatter(points[:,0], points[:,1], color=color, s=3)\n",
    "    if i == (max_classes - 1):\n",
    "        break\n",
    "plt.gca().set_aspect('equal')\n",
    "plt.axis('off')\n",
    "plt.show()"
   ]
  },
  {
   "cell_type": "code",
   "execution_count": 55,
   "metadata": {},
   "outputs": [
    {
     "data": {
      "text/plain": [
       "'tab:gray'"
      ]
     },
     "execution_count": 55,
     "metadata": {},
     "output_type": "execute_result"
    }
   ],
   "source": [
    "color"
   ]
  },
  {
   "cell_type": "code",
   "execution_count": 47,
   "metadata": {},
   "outputs": [
    {
     "data": {
      "text/plain": [
       "array([[-0.7221821 , -0.691703  ],\n",
       "       [ 0.70223534,  0.7119449 ],\n",
       "       [ 0.68961954, -0.7241718 ],\n",
       "       [ 0.6691575 , -0.7431206 ],\n",
       "       [-0.7181274 ,  0.6959116 ],\n",
       "       [-0.7263381 , -0.6873376 ],\n",
       "       [ 0.69119895,  0.72266454],\n",
       "       [ 0.70368135,  0.71051574]], dtype=float32)"
      ]
     },
     "execution_count": 47,
     "metadata": {},
     "output_type": "execute_result"
    }
   ],
   "source": [
    "softmax_weights.T"
   ]
  },
  {
   "cell_type": "code",
   "execution_count": 41,
   "metadata": {},
   "outputs": [
    {
     "data": {
      "text/plain": [
       "array([-0.7221821, -0.691703 ], dtype=float32)"
      ]
     },
     "execution_count": 41,
     "metadata": {},
     "output_type": "execute_result"
    }
   ],
   "source": [
    "weight"
   ]
  },
  {
   "cell_type": "code",
   "execution_count": 39,
   "metadata": {},
   "outputs": [
    {
     "data": {
      "image/png": "[encoded data removed]",
      "text/plain": [
       "<Figure size 640x480 with 1 Axes>"
      ]
     },
     "metadata": {},
     "output_type": "display_data"
    }
   ],
   "source": [
    "\n",
    "\n",
    "x2, y2 = [0, -5], [0, -5]\n",
    "\n"
   ]
  },
  {
   "attachments": {},
   "cell_type": "markdown",
   "metadata": {},
   "source": [
    "## 5. Решение задачи верификации на наборе данных EasyPortrait"
   ]
  },
  {
   "attachments": {},
   "cell_type": "markdown",
   "metadata": {},
   "source": [
    "### Подготовка данных"
   ]
  },
  {
   "cell_type": "code",
   "execution_count": 153,
   "metadata": {},
   "outputs": [],
   "source": [
    "from pathlib import Path\n",
    "import pandas as pd\n",
    "from tqdm import tqdm\n",
    "import numpy as np\n",
    "import sys\n",
    "import seaborn as sns\n",
    "import matplotlib.pyplot as plt\n",
    "\n",
    "\n",
    "data_dir = Path('data/easy_portrait')\n",
    "data_dir.mkdir(exist_ok=True)\n",
    "images_dir = data_dir / 'images'\n",
    "images_dir.mkdir(exist_ok=True)"
   ]
  },
  {
   "cell_type": "code",
   "execution_count": 2,
   "metadata": {},
   "outputs": [],
   "source": [
    "#!wget https://n-ws-620xz-pd11.s3pd11.sbercloud.ru/b-ws-620xz-pd11-jux/easyportrait/images.zip -O data/images.zi\n",
    "#!unzip -q data/images.zip -d data/easy_portrait/images"
   ]
  },
  {
   "cell_type": "code",
   "execution_count": 3,
   "metadata": {},
   "outputs": [],
   "source": [
    "#!wget https://n-ws-620xz-pd11.s3pd11.sbercloud.ru/b-ws-620xz-pd11-jux/easyportrait/annotations.zip -O data/annotations.zip\n",
    "\n",
    "#!unzip data/annotations.zip -d data/easy_portrait\n",
    "#!unzip data/easy_portrait/meta.zip -d data/easy_portrait"
   ]
  },
  {
   "attachments": {},
   "cell_type": "markdown",
   "metadata": {},
   "source": [
    "#### Вычисление глубоких представлений\n",
    "\n",
    "С помощью детектора лиц [SCRFD](https://arxiv.org/pdf/2105.04714.pdf) и [ArcFace](https://arxiv.org/abs/1801.07698) модели на базе [ResNet-50](https://pytorch.org/vision/main/models/generated/torchvision.models.resnet50.html), обученной на наборе данных [WebFace600K](https://www.face-benchmark.org/download.html), получим представления лиц набора EasyPortrait."
   ]
  },
  {
   "cell_type": "code",
   "execution_count": 4,
   "metadata": {},
   "outputs": [],
   "source": [
    "import torch\n",
    "import cv2\n",
    "import numpy as np\n",
    "import insightface\n",
    "from insightface.app import FaceAnalysis\n",
    "from insightface.data import get_image as ins_get_image\n",
    "\n",
    "# app = FaceAnalysis(providers=['CUDAExecutionProvider', 'CPUExecutionProvider'], root='./data/insightface')\n",
    "# app.prepare(ctx_id=0, det_size=(640, 640))\n",
    "# img = ins_get_image('t1')\n",
    "# faces = app.get(img)\n",
    "# rimg = app.draw_on(img, faces)\n",
    "# cv2.imwrite(\"data/t1_output.jpg\", rimg)"
   ]
  },
  {
   "cell_type": "code",
   "execution_count": 14,
   "metadata": {},
   "outputs": [
    {
     "name": "stderr",
     "output_type": "stream",
     "text": [
      "  0%|          | 0/20000 [00:00<?, ?it/s]/home/erlygin/miniconda/lib/python3.9/site-packages/insightface/utils/transform.py:68: FutureWarning: `rcond` parameter will change to the default of machine precision times ``max(M, N)`` where M and N are the input matrix dimensions.\n",
      "To use the future default and silence this warning we advise to pass `rcond=None`, to keep using the old, explicitly pass `rcond=-1`.\n",
      "  P = np.linalg.lstsq(X_homo, Y)[0].T # Affine matrix. 3 x 4\n",
      "100%|██████████| 20000/20000 [27:52<00:00, 11.95it/s]\n"
     ]
    }
   ],
   "source": [
    "\n",
    "# face_meta = pd.read_csv('/app/spring_2023/s8_face_recognition/data/easy_portrait/meta.csv')\n",
    "\n",
    "# image_paths = []\n",
    "# user_ids = []\n",
    "# embeddings = []\n",
    "# for i, record in tqdm(face_meta.iterrows(), total=20000):\n",
    "#     if record['test'] is True:\n",
    "#         subset = 'test'\n",
    "#     if record['train'] is True:\n",
    "#         subset = 'train'\n",
    "#     if record['valid'] is True:\n",
    "#         subset = 'val'\n",
    "#     image_path = str(images_dir / subset / (record['attachment_id'] + '.jpg'))\n",
    "#     image = cv2.imread(image_path)\n",
    "#     faces = app.get(image)\n",
    "\n",
    "#     if len(faces) == 1:\n",
    "#         image_paths.append(image_path)\n",
    "#         user_ids.append(record['user_id'])\n",
    "#         embeddings.append(faces[0].normed_embedding[np.newaxis,:])\n",
    "# embeddings = np.concatenate(embeddings)"
   ]
  },
  {
   "cell_type": "code",
   "execution_count": 6,
   "metadata": {},
   "outputs": [],
   "source": [
    "# save embeddings and meta data\n",
    "embeddings_dir = Path('data/embeddings')\n",
    "# embeddings_dir.mkdir(exist_ok=True)\n",
    "# np.save(embeddings_dir / 'image_paths.npy', np.array(image_paths))\n",
    "# np.save(embeddings_dir / 'user_ids.npy', np.array(user_ids))\n",
    "# np.save(embeddings_dir / 'embeddings.npy', embeddings)"
   ]
  },
  {
   "attachments": {},
   "cell_type": "markdown",
   "metadata": {},
   "source": [
    "#### Определение протокола верификации\n",
    "\n",
    "Множество изображений для каждого человека разобъем на равных случайных шаблона, которые затем будем использовать для подсчёта точности верификации. \n",
    "\n",
    "Мы хотим составить список пар изображение, среди которых будут пары изображений одного и того же человека и изображения разных людей.  \n",
    "Для составления негативных пар возьмём из каждого шаблона по одному изображению и выпишем множество всевозможных пар шаблонов.  \n",
    "Для составления позитивных пар возьмём всевозможные пары в шаблоне для каждого человека."
   ]
  },
  {
   "cell_type": "code",
   "execution_count": 7,
   "metadata": {},
   "outputs": [],
   "source": [
    "user_ids = np.load(embeddings_dir / 'user_ids.npy')\n",
    "embeddings = np.load(embeddings_dir / 'embeddings.npy')\n",
    "image_paths = np.load(embeddings_dir / 'image_paths.npy')\n",
    "\n",
    "face_meta = pd.DataFrame({'user_id': user_ids, 'image_path': image_paths, 'embedding_id': np.arange(len(embeddings))})"
   ]
  },
  {
   "cell_type": "code",
   "execution_count": 19,
   "metadata": {},
   "outputs": [
    {
     "data": {
      "text/plain": [
       "19682"
      ]
     },
     "execution_count": 19,
     "metadata": {},
     "output_type": "execute_result"
    }
   ],
   "source": [
    "len(image_paths)"
   ]
  },
  {
   "cell_type": "code",
   "execution_count": 79,
   "metadata": {},
   "outputs": [],
   "source": [
    "# split images to templates\n",
    "seed = 0\n",
    "rs = np.random.default_rng(seed)\n",
    "\n",
    "template_ids = []\n",
    "template_user_ids = []\n",
    "template_emb_ids = []\n",
    "for i, (user_id, user_data) in enumerate(face_meta.groupby('user_id')):\n",
    "    if user_data.user_id.values[0] == 'nan':\n",
    "        continue\n",
    "    num_images = len(user_data)\n",
    "    if num_images == 1:\n",
    "        # single image template\n",
    "        template_ids += [2 * i]\n",
    "        template_user_ids += [user_id]\n",
    "        template_emb_ids += user_data['embedding_id'].values.tolist()\n",
    "    else:\n",
    "        # split template in two random halves\n",
    "        random_order_ids = rs.permutation(num_images)\n",
    "        first_template_data = user_data.iloc[random_order_ids[:num_images // 2]]\n",
    "        second_template_data = user_data.iloc[random_order_ids[num_images // 2:]]\n",
    "        template_ids += [2 * i] * len(first_template_data)\n",
    "        template_ids += [2 * i + 1] * len(second_template_data)\n",
    "\n",
    "        template_user_ids += first_template_data['user_id'].values.tolist()\n",
    "        template_user_ids += second_template_data['user_id'].values.tolist()\n",
    "\n",
    "        template_emb_ids += first_template_data['embedding_id'].values.tolist()\n",
    "        template_emb_ids += second_template_data['embedding_id'].values.tolist()\n",
    "templates = pd.DataFrame({'template_id': template_ids, 'user_id': template_user_ids, 'embedding_id': template_emb_ids})\n",
    "templates.to_csv(embeddings_dir / 'templates.csv', index=False)"
   ]
  },
  {
   "cell_type": "code",
   "execution_count": 80,
   "metadata": {},
   "outputs": [
    {
     "data": {
      "text/html": [
       "<div>\n",
       "<style scoped>\n",
       "    .dataframe tbody tr th:only-of-type {\n",
       "        vertical-align: middle;\n",
       "    }\n",
       "\n",
       "    .dataframe tbody tr th {\n",
       "        vertical-align: top;\n",
       "    }\n",
       "\n",
       "    .dataframe thead th {\n",
       "        text-align: right;\n",
       "    }\n",
       "</style>\n",
       "<table border=\"1\" class=\"dataframe\">\n",
       "  <thead>\n",
       "    <tr style=\"text-align: right;\">\n",
       "      <th></th>\n",
       "      <th>template_id</th>\n",
       "      <th>user_id</th>\n",
       "      <th>embedding_id</th>\n",
       "    </tr>\n",
       "  </thead>\n",
       "  <tbody>\n",
       "    <tr>\n",
       "      <th>0</th>\n",
       "      <td>0</td>\n",
       "      <td>000846d038cc6289acf99f0739820896</td>\n",
       "      <td>3089</td>\n",
       "    </tr>\n",
       "    <tr>\n",
       "      <th>1</th>\n",
       "      <td>1</td>\n",
       "      <td>000846d038cc6289acf99f0739820896</td>\n",
       "      <td>5996</td>\n",
       "    </tr>\n",
       "    <tr>\n",
       "      <th>2</th>\n",
       "      <td>2</td>\n",
       "      <td>00099c87ff8a19643dbd31bf93bb1436</td>\n",
       "      <td>15643</td>\n",
       "    </tr>\n",
       "    <tr>\n",
       "      <th>3</th>\n",
       "      <td>4</td>\n",
       "      <td>00144dc200f186ef726669e9cd1332b7</td>\n",
       "      <td>5514</td>\n",
       "    </tr>\n",
       "    <tr>\n",
       "      <th>4</th>\n",
       "      <td>6</td>\n",
       "      <td>00147a746157ebb329c05140a2bf2517</td>\n",
       "      <td>7738</td>\n",
       "    </tr>\n",
       "    <tr>\n",
       "      <th>5</th>\n",
       "      <td>8</td>\n",
       "      <td>00199404ae6d1063db15036c13c11220</td>\n",
       "      <td>7966</td>\n",
       "    </tr>\n",
       "    <tr>\n",
       "      <th>6</th>\n",
       "      <td>10</td>\n",
       "      <td>00302ddd5c724605f069844551d556ee</td>\n",
       "      <td>16190</td>\n",
       "    </tr>\n",
       "    <tr>\n",
       "      <th>7</th>\n",
       "      <td>12</td>\n",
       "      <td>0035661ffcd9e638a7be40a26bf12f32</td>\n",
       "      <td>14016</td>\n",
       "    </tr>\n",
       "    <tr>\n",
       "      <th>8</th>\n",
       "      <td>14</td>\n",
       "      <td>0037b7b1bf9e84f38c0808fb7bcdbcf2</td>\n",
       "      <td>16624</td>\n",
       "    </tr>\n",
       "    <tr>\n",
       "      <th>9</th>\n",
       "      <td>16</td>\n",
       "      <td>0041ec866777f12c384b64d8cd636277</td>\n",
       "      <td>4299</td>\n",
       "    </tr>\n",
       "  </tbody>\n",
       "</table>\n",
       "</div>"
      ],
      "text/plain": [
       "   template_id                           user_id  embedding_id\n",
       "0            0  000846d038cc6289acf99f0739820896          3089\n",
       "1            1  000846d038cc6289acf99f0739820896          5996\n",
       "2            2  00099c87ff8a19643dbd31bf93bb1436         15643\n",
       "3            4  00144dc200f186ef726669e9cd1332b7          5514\n",
       "4            6  00147a746157ebb329c05140a2bf2517          7738\n",
       "5            8  00199404ae6d1063db15036c13c11220          7966\n",
       "6           10  00302ddd5c724605f069844551d556ee         16190\n",
       "7           12  0035661ffcd9e638a7be40a26bf12f32         14016\n",
       "8           14  0037b7b1bf9e84f38c0808fb7bcdbcf2         16624\n",
       "9           16  0041ec866777f12c384b64d8cd636277          4299"
      ]
     },
     "execution_count": 80,
     "metadata": {},
     "output_type": "execute_result"
    }
   ],
   "source": [
    "templates.head(10)"
   ]
  },
  {
   "cell_type": "code",
   "execution_count": 81,
   "metadata": {},
   "outputs": [],
   "source": [
    "# list positive and negative pairs\n",
    "\n",
    "templates = pd.read_csv(embeddings_dir / 'templates.csv')"
   ]
  },
  {
   "cell_type": "code",
   "execution_count": 106,
   "metadata": {},
   "outputs": [
    {
     "name": "stderr",
     "output_type": "stream",
     "text": [
      "100%|██████████| 8262/8262 [00:24<00:00, 344.15it/s]\n"
     ]
    }
   ],
   "source": [
    "first_template_positive = []\n",
    "second_template_positive = []\n",
    "\n",
    "\n",
    "# add positive pairs\n",
    "for i, (user_id, user_data) in enumerate(templates.groupby('user_id')):\n",
    "    unique_templates = user_data['template_id'].unique()\n",
    "    if len(unique_templates) == 1:\n",
    "        continue\n",
    "    else:\n",
    "        assert len(unique_templates) == 2\n",
    "        first_template_positive += [unique_templates[0]]\n",
    "        second_template_positive += [unique_templates[1]]\n",
    "\n",
    "# add negative pairs\n",
    "# from each subject first template is taken to match with others\n",
    "user_to_template_id = {}\n",
    "for i, (user_id, user_data) in enumerate(templates.groupby('user_id')):\n",
    "    unique_templates = user_data['template_id'].unique()\n",
    "    user_to_template_id[user_id] = unique_templates[0]\n",
    "unique_user_ids = templates['user_id'].unique()\n",
    "\n",
    "first_template_negative = []\n",
    "second_template_negative = []\n",
    "\n",
    "for first_id in tqdm(unique_user_ids):\n",
    "    for second_id in unique_user_ids:\n",
    "        if second_id == first_id:\n",
    "            continue\n",
    "        first_template_negative.append(user_to_template_id[first_id])\n",
    "        second_template_negative.append(user_to_template_id[second_id])"
   ]
  },
  {
   "cell_type": "code",
   "execution_count": 109,
   "metadata": {},
   "outputs": [],
   "source": [
    "first_template_negative = np.array(first_template_negative)\n",
    "second_template_negative = np.array(second_template_negative)\n",
    "first_template_positive = np.array(first_template_positive)\n",
    "second_template_positive = np.array(second_template_positive)"
   ]
  },
  {
   "cell_type": "code",
   "execution_count": 196,
   "metadata": {},
   "outputs": [],
   "source": [
    "negative_pair_size = 5000000\n",
    "seed = 0\n",
    "rs = np.random.default_rng(seed)\n",
    "random_order_ids = rs.permutation(len(first_template_negative))\n",
    "negative_ids = random_order_ids[:negative_pair_size]\n",
    "first_template = np.concatenate([first_template_positive, first_template_negative[negative_ids]])\n",
    "second_template = np.concatenate([second_template_positive, second_template_negative[negative_ids]])\n",
    "is_positive = [True] * len(first_template_positive) + [False] * len(negative_ids)\n",
    "\n",
    "pairs = pd.DataFrame({'first_template': first_template, 'second_template': second_template, 'is_positive': is_positive})\n",
    "pairs.to_csv(embeddings_dir / 'pairs.csv', index=False)"
   ]
  },
  {
   "attachments": {},
   "cell_type": "markdown",
   "metadata": {},
   "source": [
    "### Подсчёт метрик точности верификации"
   ]
  },
  {
   "cell_type": "code",
   "execution_count": 197,
   "metadata": {},
   "outputs": [],
   "source": [
    "pairs = pd.read_csv(embeddings_dir / 'pairs.csv')\n",
    "templates = pd.read_csv(embeddings_dir / 'templates.csv')\n",
    "embeddings = np.load(embeddings_dir / 'embeddings.npy')"
   ]
  },
  {
   "cell_type": "code",
   "execution_count": 198,
   "metadata": {},
   "outputs": [
    {
     "data": {
      "text/html": [
       "<div>\n",
       "<style scoped>\n",
       "    .dataframe tbody tr th:only-of-type {\n",
       "        vertical-align: middle;\n",
       "    }\n",
       "\n",
       "    .dataframe tbody tr th {\n",
       "        vertical-align: top;\n",
       "    }\n",
       "\n",
       "    .dataframe thead th {\n",
       "        text-align: right;\n",
       "    }\n",
       "</style>\n",
       "<table border=\"1\" class=\"dataframe\">\n",
       "  <thead>\n",
       "    <tr style=\"text-align: right;\">\n",
       "      <th></th>\n",
       "      <th>template_id</th>\n",
       "      <th>user_id</th>\n",
       "      <th>embedding_id</th>\n",
       "    </tr>\n",
       "  </thead>\n",
       "  <tbody>\n",
       "    <tr>\n",
       "      <th>0</th>\n",
       "      <td>0</td>\n",
       "      <td>000846d038cc6289acf99f0739820896</td>\n",
       "      <td>3089</td>\n",
       "    </tr>\n",
       "    <tr>\n",
       "      <th>1</th>\n",
       "      <td>1</td>\n",
       "      <td>000846d038cc6289acf99f0739820896</td>\n",
       "      <td>5996</td>\n",
       "    </tr>\n",
       "    <tr>\n",
       "      <th>2</th>\n",
       "      <td>2</td>\n",
       "      <td>00099c87ff8a19643dbd31bf93bb1436</td>\n",
       "      <td>15643</td>\n",
       "    </tr>\n",
       "    <tr>\n",
       "      <th>3</th>\n",
       "      <td>4</td>\n",
       "      <td>00144dc200f186ef726669e9cd1332b7</td>\n",
       "      <td>5514</td>\n",
       "    </tr>\n",
       "    <tr>\n",
       "      <th>4</th>\n",
       "      <td>6</td>\n",
       "      <td>00147a746157ebb329c05140a2bf2517</td>\n",
       "      <td>7738</td>\n",
       "    </tr>\n",
       "    <tr>\n",
       "      <th>...</th>\n",
       "      <td>...</td>\n",
       "      <td>...</td>\n",
       "      <td>...</td>\n",
       "    </tr>\n",
       "    <tr>\n",
       "      <th>19551</th>\n",
       "      <td>16515</td>\n",
       "      <td>ffca0a846eea5f01deeab72e9f407428</td>\n",
       "      <td>15568</td>\n",
       "    </tr>\n",
       "    <tr>\n",
       "      <th>19552</th>\n",
       "      <td>16516</td>\n",
       "      <td>ffce02f942d36b6338290d0580dcb779</td>\n",
       "      <td>10100</td>\n",
       "    </tr>\n",
       "    <tr>\n",
       "      <th>19553</th>\n",
       "      <td>16518</td>\n",
       "      <td>ffddd372a507d5c234343da1af4a23c9</td>\n",
       "      <td>16191</td>\n",
       "    </tr>\n",
       "    <tr>\n",
       "      <th>19554</th>\n",
       "      <td>16520</td>\n",
       "      <td>fff39c130e0a6cbad6f96964f1756b73</td>\n",
       "      <td>16946</td>\n",
       "    </tr>\n",
       "    <tr>\n",
       "      <th>19555</th>\n",
       "      <td>16522</td>\n",
       "      <td>fff8149905940c69c763a95ff1512ca5</td>\n",
       "      <td>10230</td>\n",
       "    </tr>\n",
       "  </tbody>\n",
       "</table>\n",
       "<p>19556 rows × 3 columns</p>\n",
       "</div>"
      ],
      "text/plain": [
       "       template_id                           user_id  embedding_id\n",
       "0                0  000846d038cc6289acf99f0739820896          3089\n",
       "1                1  000846d038cc6289acf99f0739820896          5996\n",
       "2                2  00099c87ff8a19643dbd31bf93bb1436         15643\n",
       "3                4  00144dc200f186ef726669e9cd1332b7          5514\n",
       "4                6  00147a746157ebb329c05140a2bf2517          7738\n",
       "...            ...                               ...           ...\n",
       "19551        16515  ffca0a846eea5f01deeab72e9f407428         15568\n",
       "19552        16516  ffce02f942d36b6338290d0580dcb779         10100\n",
       "19553        16518  ffddd372a507d5c234343da1af4a23c9         16191\n",
       "19554        16520  fff39c130e0a6cbad6f96964f1756b73         16946\n",
       "19555        16522  fff8149905940c69c763a95ff1512ca5         10230\n",
       "\n",
       "[19556 rows x 3 columns]"
      ]
     },
     "execution_count": 198,
     "metadata": {},
     "output_type": "execute_result"
    }
   ],
   "source": [
    "templates"
   ]
  },
  {
   "cell_type": "code",
   "execution_count": 214,
   "metadata": {},
   "outputs": [],
   "source": [
    "# pool template embs\n",
    "template_pooled_embs = []\n",
    "for i, (template_id, template_data) in enumerate(templates.groupby('template_id')):\n",
    "    emb_ids = template_data['embedding_id'].values\n",
    "    template_embeddinds = embeddings[emb_ids]\n",
    "    mean_emb = np.mean(template_embeddinds, axis=0, keepdims=True)\n",
    "    template_pooled_embs.append(mean_emb / np.linalg.norm(mean_emb))\n",
    "template_pooled_embs = np.concatenate(template_pooled_embs)"
   ]
  },
  {
   "cell_type": "code",
   "execution_count": 215,
   "metadata": {},
   "outputs": [
    {
     "name": "stderr",
     "output_type": "stream",
     "text": [
      "Verification: 100%|██████████| 501/501 [00:08<00:00, 55.71it/s]\n"
     ]
    }
   ],
   "source": [
    "unique_templates = templates['template_id'].unique()\n",
    "template2id = np.zeros(max(unique_templates) + 1, dtype=int)\n",
    "template2id[unique_templates] = np.arange(len(unique_templates))\n",
    "\n",
    "def distance_function(X_1, X_2):\n",
    "    return np.sum(X_1 * X_2, axis=1)\n",
    "\n",
    "p1 = pairs['first_template'].values\n",
    "p2 = pairs['second_template'].values\n",
    "\n",
    "batch_size = 10000\n",
    "steps = int(np.ceil(len(p1) / batch_size))\n",
    "scores = []\n",
    "for id in tqdm(range(steps), \"Verification\"):\n",
    "    \n",
    "    feat1 = template_pooled_embs[\n",
    "                template2id[p1[id * batch_size : (id + 1) * batch_size]]\n",
    "            ]\n",
    "    feat2 = template_pooled_embs[\n",
    "                template2id[p2[id * batch_size : (id + 1) * batch_size]]\n",
    "    ]\n",
    "    scores.extend(distance_function(feat1, feat2))\n",
    "scores = np.array(scores)"
   ]
  },
  {
   "cell_type": "code",
   "execution_count": 216,
   "metadata": {},
   "outputs": [],
   "source": [
    "def draw_score_distr_plot(\n",
    "    scores_distr, positive_pair_name, negative_pair_name\n",
    "):\n",
    "    sns.set_theme()\n",
    "    plt.figure(figsize=(12, 8))\n",
    "    sns.distplot(\n",
    "        scores_distr[positive_pair_name],\n",
    "        kde=True,\n",
    "        norm_hist=True,\n",
    "        hist=True,\n",
    "        label=positive_pair_name,\n",
    "    )\n",
    "    sns.distplot(\n",
    "        scores_distr[negative_pair_name],\n",
    "        kde=True,\n",
    "        norm_hist=True,\n",
    "        hist=True,\n",
    "        label=negative_pair_name,\n",
    "    )\n",
    "\n",
    "    plt.xlabel(f\"Косинусная схожесть\")\n",
    "\n",
    "    plt.legend()"
   ]
  },
  {
   "cell_type": "code",
   "execution_count": 217,
   "metadata": {},
   "outputs": [
    {
     "name": "stderr",
     "output_type": "stream",
     "text": [
      "/home/erlygin/miniconda/lib/python3.9/site-packages/seaborn/distributions.py:2619: FutureWarning: `distplot` is a deprecated function and will be removed in a future version. Please adapt your code to use either `displot` (a figure-level function with similar flexibility) or `histplot` (an axes-level function for histograms).\n",
      "  warnings.warn(msg, FutureWarning)\n",
      "/home/erlygin/miniconda/lib/python3.9/site-packages/seaborn/distributions.py:2619: FutureWarning: `distplot` is a deprecated function and will be removed in a future version. Please adapt your code to use either `displot` (a figure-level function with similar flexibility) or `histplot` (an axes-level function for histograms).\n",
      "  warnings.warn(msg, FutureWarning)\n"
     ]
    },
    {
     "data": {
      "image/png": "[encoded data removed]",
      "text/plain": [
       "<Figure size 1200x800 with 1 Axes>"
      ]
     },
     "metadata": {},
     "output_type": "display_data"
    }
   ],
   "source": [
    "is_positive = pairs['is_positive'].values\n",
    "\n",
    "true_match_scores = scores[is_positive]\n",
    "wrong_match_scores = scores[is_positive == 0]\n",
    "scores_distr = {\n",
    "        \"Истинная пара\": true_match_scores,\n",
    "        \"Ложная пара\": wrong_match_scores,\n",
    "    }\n",
    "draw_score_distr_plot(\n",
    "    scores_distr=scores_distr,\n",
    "    positive_pair_name=\"Истинная пара\",\n",
    "    negative_pair_name=\"Ложная пара\",\n",
    ")"
   ]
  },
  {
   "attachments": {},
   "cell_type": "markdown",
   "metadata": {},
   "source": [
    "### TAR@FAR кривая"
   ]
  },
  {
   "cell_type": "code",
   "execution_count": 218,
   "metadata": {},
   "outputs": [],
   "source": [
    "fars = [10 ** ii for ii in np.arange(-6, 0, 4 / 100)] + [1]\n",
    "threshes, recalls = [], []\n",
    "wrong_match_scores_sorted = np.sort(wrong_match_scores)[::-1]\n",
    "for far in fars:\n",
    "    thresh = wrong_match_scores_sorted[max(int((wrong_match_scores_sorted.shape[0]) * far) - 1, 0)]\n",
    "    recall = (\n",
    "            np.sum(true_match_scores > thresh)\n",
    "            / true_match_scores.shape[0]\n",
    "        )\n",
    "    threshes.append(thresh)\n",
    "    recalls.append(recall)"
   ]
  },
  {
   "cell_type": "code",
   "execution_count": 219,
   "metadata": {},
   "outputs": [
    {
     "data": {
      "image/png": "[encoded data removed]",
      "text/plain": [
       "<Figure size 640x480 with 1 Axes>"
      ]
     },
     "metadata": {},
     "output_type": "display_data"
    }
   ],
   "source": [
    "from sklearn.metrics import auc\n",
    "sns.set_style(\"whitegrid\")\n",
    "fig = plt.figure()\n",
    "\n",
    "auc_value = auc(fars, recalls)\n",
    "label = \"%s (AUC = %0.4f%%), tar %0.4f at far %.1E\" % (\n",
    "    'Косинусное расстояние',\n",
    "    auc_value * 100,\n",
    "    recalls[0],\n",
    "    fars[0],\n",
    ")\n",
    "plt.plot(fars, recalls, lw=1, label=label)\n",
    "\n",
    "plt.xlabel(\"False Acceptance Rate\")\n",
    "plt.xlim([fars[0], 1])\n",
    "plt.xscale(\"log\")\n",
    "plt.ylabel(\"True Acceptance Rate (%)\")\n",
    "plt.ylim([0, 1])\n",
    "\n",
    "#plt.grid(linestyle=\"--\", linewidth=1)\n",
    "plt.legend(fontsize=\"x-small\")\n",
    "#plt.tight_layout()\n",
    "plt.show()"
   ]
  },
  {
   "cell_type": "code",
   "execution_count": null,
   "metadata": {},
   "outputs": [],
   "source": []
  }
 ],
 "metadata": {
  "kernelspec": {
   "display_name": "base",
   "language": "python",
   "name": "python3"
  },
  "language_info": {
   "codemirror_mode": {
    "name": "ipython",
    "version": 3
   },
   "file_extension": ".py",
   "mimetype": "text/x-python",
   "name": "python",
   "nbconvert_exporter": "python",
   "pygments_lexer": "ipython3",
   "version": "3.9.7"
  },
  "orig_nbformat": 4
 },
 "nbformat": 4,
 "nbformat_minor": 2
}
