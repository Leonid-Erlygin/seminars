{
 "cells": [
  {
   "attachments": {},
   "cell_type": "markdown",
   "metadata": {},
   "source": [
    "# Домашнее задание №2\n",
    "\n",
    "<!-- В данном задании вам предлагаются 3 задачи: -->\n",
    "\n",
    "#### Задача 1. Обучение небольшой ArcFace модели (0.4 балла)\n",
    "Вам предлагается использовать функцию потерь [ArcFace](https://arxiv.org/abs/1801.07698) для решения задачи Metric Learning в распознавании лиц.  \n",
    "Подробное описание задачи вы можете найти в соответствующем разделе домашнего задания.  \n",
    "**Ваша цель:** Обучить две модели для предсказания дискриминативных представлений изображений, $\\textbf{z}\\in\\mathbb{R}^{2}$, с помощью функции потерь SoftMax и функции из статьи [ArcFace](https://arxiv.org/abs/1801.07698) (см. описание задачи 1). Модели необходимо обучить на 8-ми самых многочисленных классах из набора изображений лиц [MS1M-ArcFace](https://github.com/deepinsight/insightface/tree/master/recognition/_datasets_).  Затем нужно изобразить полученные представления на двух рисунках (один для SoftMax другой для ArcFace функций потерь). \n",
    "\n",
    "Рисунок для SoftMax функции будет вам дан.  \n",
    "**Вспомогательный код для загрузки данных и для обучения модели с помощью SoftMax функции потерь вы можете найти в разделе с заданием.**  \n",
    "Помогает ли функция потерь ArcFace для улучшения дикриминативных способностей векторов представлений?\n"
   ]
  },
  {
   "attachments": {},
   "cell_type": "markdown",
   "metadata": {},
   "source": [
    "## Задача 1. Обучение небольшой ArcFace модели (0.4 балла)\n",
    "\n",
    "При решении задачи распознавания лиц возникает необходимость ответить на вопрос: изображен ли на двух разных картинках один и тот же человек или нет?  \n",
    "На этот вопрос можно ответить с помощью функции расстояния между изображениями, учитывающую абстрактную семантическую информацию.  \n",
    "\n",
    "\n",
    "Современные методы распознавания лиц используют большие наборы данных, содержащие изображения разных людей, для обучения нейросетей, вычисляющий осмысленные вектора представлений изображений лиц.\n",
    "Для каждого изображения лица человека $\\textbf{x}$ с помощью обучаемой функции $f_{\\theta}(*)$ вычисляется вектор представления $\\textbf{x}$:\n",
    "$$\n",
    "\\textbf{z} = f_{\\theta}(\\textbf{x})\n",
    "$$\n",
    "Параметры $\\theta$ подбираются так, чтобы расстояние между векторами представлений разных людей было велико, а между представлениями изображений одного и того же человека было низко:\n",
    "$$\n",
    "d(\\textbf{z}_i,\\textbf{z}_j)>>d(\\textbf{z}_i,\\textbf{z}'_i)\n",
    "$$\n",
    "где $\\mathbf{id}(\\textbf{x}_i)=\\mathbf{id}(\\textbf{x}'_i),\\,\\mathbf{id}(\\textbf{x}_i)\\neq\\mathbf{id}(\\textbf{x}_j)$, $d$ - простая функция расстояния, e.g косинусное расстояние:\n",
    "$$\n",
    "d(\\textbf{z}_i,\\textbf{z}_j) = -\\frac{\\langle\\textbf{z}_i,\\textbf{z}_j\\rangle}{\\left\\lVert\\textbf{z}_i\\right\\rVert\\left\\lVert\\textbf{z}_j\\right\\rVert}\n",
    "$$\n",
    "\n",
    "Таким образом мы можем получить осмысленную функцию расстояния между изображениями лиц.  \n",
    "\n",
    "Для получения искомых представлений можно решать задачу классификации на большом наборе данных с изображениями разных людей.  \n",
    "Затем можно использовать вектор перед линейным слоем как вектор представления лица. \n",
    "Здесь каждый человек в наборе данных рассматривается как отдельный класс, а множество изображений его лица рассматриваются как представители класса.  \n",
    "Softmax функция потерь для много-классовой классификации:\n",
    "\n",
    "$$\n",
    "    L = -\\frac{1}{N}\\sum_{i=1}^N\\log\\frac{e^{W_{y_i}^T\\textbf{z}_i + b_{y_i}}}{\\sum_{j=1}^ne^{W_{j}^T\\textbf{z}_i + b_{j}}}\n",
    "$$\n",
    "$\\textbf{z}_i$ - представление изображения, $N$ - число изображений в мини батче, $W_j, b_j$ - веса гиперплоскости для каждого класса.\n",
    "\n",
    "Если мы ограничим $x$, чтобы он имел ограниченную норму s, и $W_j$ имел норму 1, а $b_j=0$, тогда функция потерь может быть переписана в следующей форме:\n",
    "$$\n",
    "L = -\\frac{1}{N}\\sum_{i=1}^N\n",
    "\\log\n",
    "\\frac{e^{s\\cos\\theta_{y_i}}}\n",
    "{e^{s\\cos\\theta_{y_i}} + \\sum_{j\\neq y_i}^ne^{s\\cos\\theta_{j}}}\n",
    "$$\n",
    "где $\\theta_j$ - угол между представлением $i$-го изображения и вектором $W_j$ указывающим на центр $j$-ой класса.  \n",
    "\n",
    "Вы можете использовать $s=1$\n",
    "\n",
    "Мы можем видеть, что здесь максимизируется косинус угла между представлением и соответствующим вектором класса.\n",
    "\n",
    "В идеале мы хотим минимизировать сам угол, а не максимизировать его косинус, потому что угол лучше соответствует близости в пространстве представлений.\n",
    "\n",
    "Предлагается [ArcFace](https://arxiv.org/abs/1801.07698) функция потерь для непосредственной минимизации угла:\n",
    "$$\n",
    "L = -\\frac{1}{N}\\sum_{i=1}^N\n",
    "\\log\n",
    "\\frac{e^{s\\cos(\\theta_{y_i}+m)}}\n",
    "{e^{s\\cos(\\theta_{y_i}+m)} + \\sum_{j\\neq y_i}^ne^{s\\cos\\theta_{j}}}\n",
    "$$\n",
    "где $m=0.5$.\n",
    "\n",
    "**Ваша цель:** Обучить две модели для предсказания дискриминативных представлений изображений, $\\textbf{z}\\in\\mathbb{R}^{2}$, с помощью функции потерь SoftMax и функции из статьи [ArcFace](https://arxiv.org/abs/1801.07698) (см. описание задачи 1). Модели необходимо обучить на 8-ми самых многочисленных классах из набора изображений лиц [MS1M-ArcFace](https://github.com/deepinsight/insightface/tree/master/recognition/_datasets_).  Затем нужно изобразить полученные представления на двух рисунках (один для SoftMax другой для ArcFace функций потерь). \n",
    "\n",
    "Рисунок для SoftMax функции будет вам дан. Вспомогательный код для загрузки данных и для обучения модели с помощью SoftMax функции потерь вы можете найти в разделе с заданием.  \n",
    "Помогает ли функция потерь ArcFace для улучшения дикриминативных способностей векторов представлений?"
   ]
  },
  {
   "attachments": {},
   "cell_type": "markdown",
   "metadata": {},
   "source": [
    "#### Загрузка данных\n",
    "\n",
    "Загрузите набор MS1M-ArcFace и распакуйте данные текущей дериктории:\n",
    "https://drive.google.com/file/d/1SXS4-Am3bsKSK615qbYdbA_FMVh3sAvR/view"
   ]
  },
  {
   "cell_type": "code",
   "execution_count": 1,
   "metadata": {},
   "outputs": [],
   "source": [
    "import torch\n",
    "import pytorch_lightning as pl\n",
    "from torch.utils.data import DataLoader, Dataset\n",
    "from torchvision import transforms\n",
    "import mxnet as mx\n",
    "import numbers\n",
    "import torch.nn.functional as F\n",
    "from tqdm import tqdm\n",
    "import numpy as np\n",
    "import os\n",
    "from pathlib import Path"
   ]
  },
  {
   "cell_type": "code",
   "execution_count": 2,
   "metadata": {},
   "outputs": [],
   "source": [
    "class MXFaceDataset(Dataset):\n",
    "    def __init__(self, root_dir, num_labels, test=False):\n",
    "        \"\"\"\n",
    "        ArcFace loader\n",
    "        https://github.com/deepinsight/insightface/blob/master/recognition/arcface_torch/dataset.py\n",
    "        \"\"\"\n",
    "        super(MXFaceDataset, self).__init__()\n",
    "\n",
    "        self.test = test\n",
    "        if self.test:\n",
    "            self.transform = transforms.Compose(\n",
    "                [\n",
    "                    transforms.ToPILImage(),\n",
    "                    transforms.ToTensor(),\n",
    "                    transforms.Normalize(mean=[0.5, 0.5, 0.5], std=[0.5, 0.5, 0.5]),\n",
    "                ]\n",
    "            )\n",
    "        else:\n",
    "            self.transform = transforms.Compose(\n",
    "                [\n",
    "                    transforms.ToPILImage(),\n",
    "                    transforms.RandomHorizontalFlip(),\n",
    "                    transforms.ToTensor(),\n",
    "                    transforms.Normalize(mean=[0.5, 0.5, 0.5], std=[0.5, 0.5, 0.5]),\n",
    "                ]\n",
    "            )\n",
    "        self.root_dir = root_dir\n",
    "        path_imgrec = os.path.join(root_dir, \"train.rec\")\n",
    "        path_imgidx = os.path.join(root_dir, \"train.idx\")\n",
    "        self.imgrec = mx.recordio.MXIndexedRecordIO(path_imgidx, path_imgrec, \"r\")\n",
    "        s = self.imgrec.read_idx(0)\n",
    "        header, _ = mx.recordio.unpack(s)\n",
    "        if header.flag > 0:\n",
    "            self.header0 = (int(header.label[0]), int(header.label[1]))\n",
    "            self.imgidx = np.array(range(1, int(header.label[0])))\n",
    "        else:\n",
    "            self.imgidx = np.array(list(self.imgrec.keys))\n",
    "        labels_path = Path(root_dir) / \"labels.npy\"\n",
    "        if labels_path.is_file():\n",
    "            self.labels = np.load(labels_path)\n",
    "        else:\n",
    "            print('Listing labels...')\n",
    "            labels = []\n",
    "            for i in tqdm(range(len(self.imgidx))):\n",
    "                idx = self.imgidx[i]\n",
    "                s = self.imgrec.read_idx(idx)\n",
    "                header, img = mx.recordio.unpack(s)\n",
    "                label = header.label\n",
    "                labels.append(int(label))\n",
    "            self.labels = np.array(labels)\n",
    "            np.save(labels_path, self.labels)\n",
    "        unique_labels, unique_counts = np.unique(self.labels, return_counts=True)\n",
    "        top_ids = np.argsort(unique_counts)[::-1][:num_labels]\n",
    "        self.top_labels = unique_labels[top_ids]\n",
    "\n",
    "        self.label_map = dict(\n",
    "            zip(self.top_labels.tolist(), np.arange(len(self.top_labels)))\n",
    "        )\n",
    "\n",
    "    def __getitem__(self, index):\n",
    "        idx = self.imgidx[index]\n",
    "        s = self.imgrec.read_idx(idx)\n",
    "        header, img = mx.recordio.unpack(s)\n",
    "        label = header.label\n",
    "        if not isinstance(label, numbers.Number):\n",
    "            label = label[0]\n",
    "        label = self.label_map[int(label)]\n",
    "        label = torch.tensor(label, dtype=torch.long)\n",
    "        sample = mx.image.imdecode(img).asnumpy()\n",
    "        if self.transform is not None:\n",
    "            sample = self.transform(sample)\n",
    "        if self.test:\n",
    "            return sample\n",
    "        else:\n",
    "            return sample, label\n",
    "\n",
    "    def __len__(self):\n",
    "        return len(self.imgidx)"
   ]
  },
  {
   "cell_type": "code",
   "execution_count": 3,
   "metadata": {},
   "outputs": [],
   "source": [
    "num_people = 4\n",
    "ms1m_dataset = MXFaceDataset(\"data/faces_emore/\", num_labels=num_people)\n",
    "people_ids = np.where(np.isin(ms1m_dataset.labels, ms1m_dataset.top_labels))[0]\n",
    "people_set = torch.utils.data.Subset(ms1m_dataset, people_ids)"
   ]
  },
  {
   "cell_type": "code",
   "execution_count": 4,
   "metadata": {},
   "outputs": [
    {
     "data": {
      "text/plain": [
       "2342"
      ]
     },
     "execution_count": 4,
     "metadata": {},
     "output_type": "execute_result"
    }
   ],
   "source": [
    "len(people_set)"
   ]
  },
  {
   "attachments": {},
   "cell_type": "markdown",
   "metadata": {},
   "source": [
    "### Определение модели"
   ]
  },
  {
   "cell_type": "code",
   "execution_count": 5,
   "metadata": {},
   "outputs": [],
   "source": [
    "from iresnet import iresnet50_normalized\n",
    "import math\n",
    "\n",
    "class MetricLearningModel(pl.LightningModule):\n",
    "    def __init__(\n",
    "        self, backbone: torch.nn.Module, loss: torch.nn.Module, num_labels: int\n",
    "    ):\n",
    "        super().__init__()\n",
    "        self.backbone = backbone\n",
    "        self.loss = loss\n",
    "        self.softmax_weights = torch.nn.Parameter(torch.empty((num_labels, 2)))\n",
    "        torch.nn.init.kaiming_uniform_(self.softmax_weights, a=math.sqrt(5))\n",
    "\n",
    "    def forward(self, x):\n",
    "        backbone_outputs = self.backbone(x)\n",
    "        features = backbone_outputs[\"feature\"]\n",
    "        norm_weights = F.normalize(self.softmax_weights, dim=1)\n",
    "        logits = F.linear(features, norm_weights)\n",
    "        return features, logits\n",
    "\n",
    "    def training_step(self, batch):\n",
    "        images, labels = batch\n",
    "        features, logits = self(images)\n",
    "        loss = self.loss(logits, labels)\n",
    "        self.log(\"train_loss\", loss.item(), prog_bar=True)\n",
    "        #print(self.softmax_weights)\n",
    "        return loss\n",
    "\n",
    "    def configure_optimizers(self):\n",
    "        params = list(self.parameters()) #+ [self.softmax_weights] #list(self.linear_norm.parameters())\n",
    "        optimizer = torch.optim.AdamW(params, lr=1e-4, weight_decay=5e-5)\n",
    "        return {\n",
    "            \"optimizer\": optimizer,\n",
    "        }\n",
    "\n",
    "\n",
    "backbone_model = iresnet50_normalized(num_features=2)\n",
    "softmax_loss = torch.nn.CrossEntropyLoss()\n",
    "arcface_model = MetricLearningModel(backbone_model, softmax_loss, num_labels=num_people)"
   ]
  },
  {
   "cell_type": "code",
   "execution_count": 6,
   "metadata": {},
   "outputs": [],
   "source": [
    "batch_size = 32\n",
    "num_workers = 10\n",
    "max_epochs=20"
   ]
  },
  {
   "cell_type": "code",
   "execution_count": 7,
   "metadata": {},
   "outputs": [
    {
     "name": "stderr",
     "output_type": "stream",
     "text": [
      "GPU available: True (cuda), used: True\n",
      "TPU available: False, using: 0 TPU cores\n",
      "IPU available: False, using: 0 IPUs\n",
      "HPU available: False, using: 0 HPUs\n",
      "Initializing distributed: GLOBAL_RANK: 0, MEMBER: 1/2\n",
      "Initializing distributed: GLOBAL_RANK: 1, MEMBER: 2/2\n",
      "----------------------------------------------------------------------------------------------------\n",
      "distributed_backend=nccl\n",
      "All distributed processes registered. Starting with 2 processes\n",
      "----------------------------------------------------------------------------------------------------\n",
      "\n",
      "You are using a CUDA device ('NVIDIA A10') that has Tensor Cores. To properly utilize them, you should set `torch.set_float32_matmul_precision('medium' | 'high')` which will trade-off precision for performance. For more details, read https://pytorch.org/docs/stable/generated/torch.set_float32_matmul_precision.html#torch.set_float32_matmul_precision\n",
      "LOCAL_RANK: 1 - CUDA_VISIBLE_DEVICES: [0,1]\n",
      "LOCAL_RANK: 0 - CUDA_VISIBLE_DEVICES: [0,1]\n",
      "\n",
      "  | Name     | Type             | Params\n",
      "----------------------------------------------\n",
      "0 | backbone | IResNetNorm      | 30.8 M\n",
      "1 | loss     | CrossEntropyLoss | 0     \n",
      "----------------------------------------------\n",
      "30.8 M    Trainable params\n",
      "2         Non-trainable params\n",
      "30.8 M    Total params\n",
      "123.178   Total estimated model params size (MB)\n",
      "/home/erlygin/miniconda/lib/python3.9/site-packages/pytorch_lightning/loops/fit_loop.py:280: PossibleUserWarning: The number of training batches (36) is smaller than the logging interval Trainer(log_every_n_steps=50). Set a lower value for log_every_n_steps if you want to see logs for the training epoch.\n",
      "  rank_zero_warn(\n"
     ]
    },
    {
     "name": "stdout",
     "output_type": "stream",
     "text": [
      "Epoch 7:  75%|███████▌  | 27/36 [00:23<00:07,  1.16it/s, v_num=31, train_loss=0.819]"
     ]
    },
    {
     "name": "stderr",
     "output_type": "stream",
     "text": [
      "/home/erlygin/miniconda/lib/python3.9/site-packages/pytorch_lightning/trainer/call.py:54: UserWarning: Detected KeyboardInterrupt, attempting graceful shutdown...\n",
      "  rank_zero_warn(\"Detected KeyboardInterrupt, attempting graceful shutdown...\")\n"
     ]
    },
    {
     "name": "stdout",
     "output_type": "stream",
     "text": [
      "Epoch 7:  89%|████████▉ | 32/36 [00:26<00:03,  1.22it/s, v_num=31, train_loss=0.796]"
     ]
    }
   ],
   "source": [
    "from pytorch_lightning import Trainer\n",
    "import pytorch_lightning as pl\n",
    "\n",
    "trainer = Trainer(max_epochs=max_epochs, default_root_dir=\"outputs/softmax_train\")\n",
    "train_dataloader = DataLoader(\n",
    "    people_set,\n",
    "    batch_size,\n",
    "    shuffle=True,\n",
    "    drop_last=True,\n",
    "    num_workers=num_workers,\n",
    ")\n",
    "trainer.fit(arcface_model, train_dataloader)"
   ]
  },
  {
   "attachments": {},
   "cell_type": "markdown",
   "metadata": {},
   "source": [
    "### Вычисление представлений"
   ]
  },
  {
   "cell_type": "code",
   "execution_count": null,
   "metadata": {},
   "outputs": [],
   "source": [
    "backbone_model = iresnet50_normalized(num_features=2)\n",
    "softmax_loss = torch.nn.CrossEntropyLoss()\n",
    "checkpoint_path = \"outputs/softmax_train/lightning_logs/version_23/checkpoints/epoch=19-step=720.ckpt\"\n",
    "softmax_model = MetricLearningModel.load_from_checkpoint(\n",
    "    num_labels=num_people,\n",
    "    backbone=backbone_model,\n",
    "    loss=softmax_loss,\n",
    "    checkpoint_path=checkpoint_path,\n",
    ")"
   ]
  },
  {
   "cell_type": "code",
   "execution_count": null,
   "metadata": {},
   "outputs": [],
   "source": [
    "def predict_features(model):\n",
    "    test_dataloader = DataLoader(\n",
    "        people_set,\n",
    "        16,\n",
    "        shuffle=False,\n",
    "        drop_last=False,\n",
    "        num_workers=num_workers,\n",
    "    )\n",
    "    cuda = torch.device(\"cuda\")\n",
    "    model.to(cuda)\n",
    "    # disable randomness, dropout, etc...\n",
    "    model.eval()\n",
    "    predicted_features = []\n",
    "    image_labels = []\n",
    "    for batch in tqdm(test_dataloader):\n",
    "        images, labels = batch\n",
    "        images = images.to(cuda)\n",
    "        features, _ = model(images)\n",
    "        features = features.detach().cpu().numpy()\n",
    "        labels = labels.numpy()\n",
    "        predicted_features.append(features)\n",
    "        image_labels.append(labels)\n",
    "    predicted_features = np.concatenate(predicted_features)\n",
    "    image_labels = np.concatenate(image_labels)\n",
    "    return predicted_features, image_labels"
   ]
  },
  {
   "cell_type": "code",
   "execution_count": null,
   "metadata": {},
   "outputs": [
    {
     "name": "stderr",
     "output_type": "stream",
     "text": [
      "100%|██████████| 147/147 [00:16<00:00,  8.89it/s]\n"
     ]
    }
   ],
   "source": [
    "predicted_features, image_labels = predict_features(softmax_model)"
   ]
  },
  {
   "cell_type": "code",
   "execution_count": null,
   "metadata": {},
   "outputs": [],
   "source": [
    "import matplotlib.colors as mcolors\n",
    "\n",
    "colors = list(mcolors.TABLEAU_COLORS)[:num_people]\n",
    "softmax_weights = softmax_model.softmax_weights.detach().cpu()\n",
    "softmax_weights = F.normalize(softmax_weights, dim=1).numpy()"
   ]
  },
  {
   "cell_type": "code",
   "execution_count": null,
   "metadata": {},
   "outputs": [
    {
     "data": {
      "image/png": "[encoded data removed]",
      "text/plain": [
       "<Figure size 640x480 with 1 Axes>"
      ]
     },
     "metadata": {},
     "output_type": "display_data"
    }
   ],
   "source": [
    "import matplotlib.pyplot as plt\n",
    "\n",
    "max_classes = 4\n",
    "for i, (weight, color) in enumerate(zip(softmax_weights, colors)):\n",
    "    points = predicted_features[image_labels == i]\n",
    "    x, y = [0, weight[0]], [0, weight[1]]\n",
    "    plt.plot(x, y, marker=\"\", c=color)\n",
    "    plt.scatter(points[:, 0], points[:, 1], color=color, s=3)\n",
    "    if i == (max_classes - 1):\n",
    "        break\n",
    "plt.gca().set_aspect(\"equal\")\n",
    "plt.axis(\"off\")\n",
    "plt.show()"
   ]
  },
  {
   "cell_type": "code",
   "execution_count": 2,
   "metadata": {},
   "outputs": [
    {
     "data": {
      "text/plain": [
       "0.20909912"
      ]
     },
     "execution_count": 2,
     "metadata": {},
     "output_type": "execute_result"
    }
   ],
   "source": [
    "import numpy as np\n",
    "a = np.array([-0.5023,  0.7092])\n",
    "b = np.array([-0.4360, -0.0204])\n",
    "a@b"
   ]
  },
  {
   "cell_type": "code",
   "execution_count": null,
   "metadata": {},
   "outputs": [],
   "source": [
    "# Место для вашего кода"
   ]
  }
 ],
 "metadata": {
  "kernelspec": {
   "display_name": "base",
   "language": "python",
   "name": "python3"
  },
  "language_info": {
   "codemirror_mode": {
    "name": "ipython",
    "version": 3
   },
   "file_extension": ".py",
   "mimetype": "text/x-python",
   "name": "python",
   "nbconvert_exporter": "python",
   "pygments_lexer": "ipython3",
   "version": "3.9.7"
  },
  "orig_nbformat": 4
 },
 "nbformat": 4,
 "nbformat_minor": 2
}
