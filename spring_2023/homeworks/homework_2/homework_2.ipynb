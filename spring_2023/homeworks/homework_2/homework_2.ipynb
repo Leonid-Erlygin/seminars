{
  "cells": [
    {
      "cell_type": "markdown",
      "metadata": {
        "id": "yikh_fwsKV8z"
      },
      "source": [
        "# **Домашнее задание №2**\n",
        "\n",
        "<!-- В данном задании вам предлагаются 3 задачи: -->\n",
        "\n",
        "Вам предлагается использовать функцию потерь [ArcFace](https://arxiv.org/abs/1801.07698) для решения задачи Metric Learning в распознавании лиц.  \n",
        "Подробное описание задачи вы можете найти в соответствующем разделе домашнего задания.  \n",
        "**Ваша цель:** Обучить две модели для предсказания дискриминативных представлений изображений, $\\textbf{z}\\in\\mathbb{R}^{2}$, с помощью функции потерь SoftMax и функции из статьи [ArcFace](https://arxiv.org/abs/1801.07698) (см. описание задачи 1). Модели необходимо обучить на 8-ми самых многочисленных классах из набора изображений лиц [MS1M-ArcFace](https://github.com/deepinsight/insightface/tree/master/recognition/_datasets_).  Затем нужно изобразить полученные представления на двух рисунках (один для SoftMax другой для ArcFace функций потерь).\n",
        "\n",
        "Рисунок для SoftMax функции будет вам дан.  \n",
        "**Вспомогательный код для загрузки данных и для обучения модели с помощью SoftMax функции потерь вы можете найти в разделе с заданием.**  \n",
        "Помогает ли функция потерь ArcFace для улучшения дикриминативных способностей векторов представлений?\n"
      ]
    },
    {
      "cell_type": "markdown",
      "metadata": {
        "id": "wF1gs8LIKV82"
      },
      "source": [
        "## **Задача - обучить небольшой ArcFace модели (1 балл)**\n",
        "\n",
        "При решении задачи распознавания лиц возникает необходимость ответить на вопрос: изображен ли на двух разных картинках один и тот же человек или нет?  \n",
        "На этот вопрос можно ответить с помощью функции расстояния между изображениями, учитывающую абстрактную семантическую информацию.  \n",
        "\n",
        "Современные методы распознавания лиц используют большие наборы данных, содержащие изображения разных людей, для обучения нейросетей, вычисляющих \"осмысленные\" вектора представлений изображений лиц.\n",
        "Для каждого изображения лица человека $\\textbf{x}$ с помощью обучаемой функции $f_{\\theta}(*)$ вычисляется вектор представления $\\textbf{x}$:\n",
        "$$\n",
        "\\textbf{z} = f_{\\theta}(\\textbf{x})\n",
        "$$\n",
        "Параметры $\\theta$ модели подбираются так, чтобы расстояние между векторами представлений изображений разных людей было велико, а между представлениями изображений одного и того же человека - низко:\n",
        "$$\n",
        "d(\\textbf{z}_i,\\textbf{z}_j)>>d(\\textbf{z}_i,\\textbf{z}'_i)\n",
        "$$\n",
        "где $\\mathbf{id}(\\textbf{x}_i)=\\mathbf{id}(\\textbf{x}'_i),\\,\\mathbf{id}(\\textbf{x}_i)\\neq\\mathbf{id}(\\textbf{x}_j)$, $d$ -- некоторая функция расстояния, например, косинусное расстояние:\n",
        "$$\n",
        "d(\\textbf{z}_i,\\textbf{z}_j) = -\\frac{\\langle\\textbf{z}_i,\\textbf{z}_j\\rangle}{\\left\\lVert\\textbf{z}_i\\right\\rVert\\left\\lVert\\textbf{z}_j\\right\\rVert}\n",
        "$$\n",
        "\n",
        "Для получения искомых представлений можно решать задачу классификации на большом наборе данных с изображениями разных людей, а затем использовать вектор перед последним линейным слоем как вектор представления лица.\n",
        "В такой постановке каждый человек в наборе данных рассматривается как отдельный класс, а множество изображений его лица - как представители этого класса.\n",
        "\n",
        "Для решения задачи многоклассовой классификации можно использовать стандартную Softmax функцию потерь:\n",
        "$$\n",
        "    L = -\\frac{1}{N}\\sum_{i=1}^N\\log\\frac{e^{W_{y_i}^T\\textbf{z}_i + b_{y_i}}}{\\sum_{j=1}^ne^{W_{j}^T\\textbf{z}_i + b_{j}}}\n",
        "$$\n",
        "$\\textbf{z}_i$ - представление изображения, $N$ - число изображений в мини батче, $W_j, b_j$ - параметры весов (гиперплоскости) для каждого класса.\n",
        "\n",
        "Если мы отнормируем вектор $\\textbf{x}$ так, чтобы он имел ограниченную норму $s$, положим норму вектора $W_j$ равную 1, а $b_j = 0$, то функция потерь может быть переписана в следующей форме:\n",
        "$$\n",
        "L = -\\frac{1}{N}\\sum_{i=1}^N\n",
        "\\log\n",
        "\\frac{e^{s\\cos\\theta_{y_i}}}\n",
        "{e^{s\\cos\\theta_{y_i}} + \\sum_{j\\neq y_i}^ne^{s\\cos\\theta_{j}}},\n",
        "$$\n",
        "где $\\theta_j$ - угол между представлением $i$-го изображения и вектором $W_j$ указывающим на центр $j$-ой класса.\n",
        "\n",
        "Мы можем видеть, что здесь максимизируется косинус угла между представлением и соответствующим вектором класса.\n",
        "На самом деле мы хотим минимизировать сам угол, а не максимизировать его косинус, потому что угол лучше соответствует близости в пространстве представлений.\n",
        "\n",
        "Для решения этой задачи предлагается [ArcFace](https://arxiv.org/abs/1801.07698) функция потерь:\n",
        "$$\n",
        "L = -\\frac{1}{N}\\sum_{i=1}^N\n",
        "\\log\n",
        "\\frac{e^{s\\cos(\\theta_{y_i}+m)}}\n",
        "{e^{s\\cos(\\theta_{y_i}+m)} + \\sum_{j\\neq y_i}^ne^{s\\cos\\theta_{j}}},\n",
        "$$\n",
        "где вводится параметр отступа $m=0.5$.\n",
        "\n",
        "**Ваша цель:** Исследовать, как функция потерь влияет на качество получаемых представлений изображений лиц.\n",
        "\n",
        "Для этого необходимо:\n",
        "\n",
        "1. Обучить две глубокие модели для получения 2-мерных дискриминативных представлений изображений: первую - с помощью функции потерь SoftMax, а вторую - с помощью функции из статьи [ArcFace](https://arxiv.org/abs/1801.07698) (см. описание задачи 1). Для обучения предлагается использовать изображения 8-ми самых многочисленных классов из набора изображений лиц [MS1M-ArcFace](https://github.com/deepinsight/insightface/tree/master/recognition/_datasets_).\n",
        "    В качестве модели предлагается использовать архитектуру iResNet50, код модели предоставлен в файле ```iresnet.py```. Вспомогательный код для загрузки данных, инициализации и обучения модели с помощью SoftMax функции потерь вы можете найти ниже. Вторую функцию потерь необходимо реализовать самостоятельно. **(0,25 балла)**\n",
        "    \n",
        "2. Оценить качество полученных двумерных представлений изображений визуально, изобразив их на окружности в $\\mathbb{R}^2$. Визуализация представлений, полученных с помощью SoftMax функции приведена в ноутбуке ниже.**(0,25 балла)**\n",
        "    \n",
        "3. В качестве объективной метрики качества посчитать среднее расстояние от представлений изображений одного класса до луча центра класса. Помогает ли функция потерь ArcFace для улучшения дикриминативных способностей векторов представлений? **(0,25 балла)**\n",
        "\n",
        "4. Изучить, как выбор гиперпараметров функции потерь ArcFace (значения нормы $s$ и отступа $m$) влияет на процесс обучения модели и качество полученных представлений. Удается ли получить хорошие представления при $m \\neq 0.5$? **(0,25 балла)**\n",
        "\n",
        "# **Бонусные задания:**\n",
        "\n",
        "1. Решить ту же задачу для 3-мерного пространства представлений $\\textbf{z}_{i}\\in\\mathbb{R}^{3}$, визуализировать полученные представления на шаре. **(0,25 балла)**\n",
        "\n",
        "2. Реализовать [Triplet Loss](https://arxiv.org/abs/1503.03832) и обучить модель с его помощью. Сравнить полученные результаты. **(0,25 балла)**\n",
        "\n",
        "Удачи!"
      ]
    },
    {
      "cell_type": "markdown",
      "metadata": {
        "id": "mJEANNtzKV83"
      },
      "source": [
        "### Загрузка данных\n",
        "\n",
        "Загрузите выборку MS1M-ArcFace, и распакуйте данные в текущей дериктории:\n",
        "https://drive.google.com/file/d/1SXS4-Am3bsKSK615qbYdbA_FMVh3sAvR/view. Если вы хотите сделать это напрямую в коде, можете воспользоваться командами, закомментированными в ячейке ниже."
      ]
    },
    {
      "cell_type": "code",
      "execution_count": 1,
      "metadata": {
        "id": "gkgT-lIiKV83"
      },
      "outputs": [],
      "source": [
        "#!pip install gdown\n",
        "#!gdown --id 1SXS4-Am3bsKSK615qbYdbA_FMVh3sAvR\n",
        "#!unzip faces_emore.zip"
      ]
    },
    {
      "cell_type": "markdown",
      "metadata": {
        "id": "OFg0-YwxKV84"
      },
      "source": [
        "Если вы работаете в Google Colab'е, то вам может потребоваться установить следующие библиотеки, которых там нет по умолчанию:"
      ]
    },
    {
      "cell_type": "code",
      "execution_count": 2,
      "metadata": {
        "id": "Kj7fCJBkKV84",
        "outputId": "95b466a3-c0f7-40a5-f5c6-18749780b319",
        "scrolled": true
      },
      "outputs": [],
      "source": [
        "# !pip install pytorch_lightning\n",
        "# !pip install mxnet"
      ]
    },
    {
      "cell_type": "markdown",
      "metadata": {
        "id": "vJDqLCGAKV85"
      },
      "source": [
        "### Импортируем необходимые библиотеки\n",
        "\n",
        "Обратите внимание, что мы используем модель iresnet50_normalized, которая определена в файле ```iresnet.py```. Для того чтобы ее импортировать, необходимо положить этот файл в одну папку с данным ноутбуком."
      ]
    },
    {
      "cell_type": "code",
      "execution_count": 3,
      "metadata": {
        "id": "T_sYOdweKV85"
      },
      "outputs": [],
      "source": [
        "import numpy as np\n",
        "import mxnet as mx\n",
        "\n",
        "import matplotlib.pyplot as plt\n",
        "import matplotlib.colors as mcolors\n",
        "\n",
        "import torch\n",
        "import torch.nn.functional as F\n",
        "from torch.utils.data import DataLoader, Dataset\n",
        "from torchvision import transforms\n",
        "\n",
        "import pytorch_lightning as pl\n",
        "from pytorch_lightning import Trainer\n",
        "\n",
        "import math\n",
        "import numbers\n",
        "import os\n",
        "\n",
        "from tqdm import tqdm\n",
        "from pathlib import Path\n",
        "from typing import Tuple, Optional, Dict\n",
        "\n",
        "from iresnet import iresnet50_normalized"
      ]
    },
    {
      "cell_type": "markdown",
      "metadata": {
        "id": "E1b3XXgSKV85"
      },
      "source": [
        "### Датасет\n",
        "\n",
        "Ниже определен класс с необходимым нам датасетом изображений лиц. Обратите внимание, что он наследуется от класса ```torch.utils.data.Dataset```."
      ]
    },
    {
      "cell_type": "code",
      "execution_count": 4,
      "metadata": {
        "id": "s2etXusLKV86"
      },
      "outputs": [],
      "source": [
        "class ArcFaceDataset(Dataset):\n",
        "    \"\"\"\n",
        "    ArcFace dataset loader,\n",
        "    based on https://github.com/deepinsight/insightface/blob/master/recognition/arcface_torch/dataset.py\n",
        "    \"\"\"\n",
        "    def __init__(self, root_dir: str, num_labels: int, test: bool = False) -> None:\n",
        "        \"\"\"Initialize ArcFace Dataset.\n",
        "\n",
        "        :param root_dir: path to the folder containing face images\n",
        "        :param num_labels: number of classes (people) to be used\n",
        "        :param test: if True, create test dataset (no augmentations, no labels)\n",
        "        \"\"\"\n",
        "        super(ArcFaceDataset, self).__init__()\n",
        "\n",
        "        self.test = test\n",
        "\n",
        "        # for test dataset, use default transformations (conver to torch.Tensor and normalize),\n",
        "        # do not use augmentations\n",
        "        if self.test:\n",
        "            self.transform = transforms.Compose(\n",
        "                [\n",
        "                    transforms.ToPILImage(),\n",
        "                    transforms.ToTensor(),\n",
        "                    transforms.Normalize(mean=[0.5, 0.5, 0.5], std=[0.5, 0.5, 0.5]),\n",
        "                ]\n",
        "            )\n",
        "\n",
        "        # for train dataset, add augmentations of images (Random horizontal flip)\n",
        "        else:\n",
        "            self.transform = transforms.Compose(\n",
        "                [\n",
        "                    transforms.ToPILImage(),\n",
        "                    transforms.RandomHorizontalFlip(),\n",
        "                    transforms.ToTensor(),\n",
        "                    transforms.Normalize(mean=[0.5, 0.5, 0.5], std=[0.5, 0.5, 0.5]),\n",
        "                ]\n",
        "            )\n",
        "\n",
        "        self.root_dir = root_dir\n",
        "        path_imgrec = os.path.join(root_dir, \"train.rec\")\n",
        "        path_imgidx = os.path.join(root_dir, \"train.idx\")\n",
        "\n",
        "        # load pictures\n",
        "        self.imgrec = mx.recordio.MXIndexedRecordIO(path_imgidx, path_imgrec, \"r\")\n",
        "        s = self.imgrec.read_idx(0)\n",
        "        header, _ = mx.recordio.unpack(s)\n",
        "\n",
        "        if header.flag > 0:\n",
        "            self.header0 = (int(header.label[0]), int(header.label[1]))\n",
        "            self.imgidx = np.array(range(1, int(header.label[0])))\n",
        "        else:\n",
        "            self.imgidx = np.array(list(self.imgrec.keys))\n",
        "\n",
        "        # load or create labels\n",
        "        labels_path = Path(root_dir) / \"labels.npy\"\n",
        "        if labels_path.is_file():\n",
        "            self.labels = np.load(labels_path)\n",
        "        else:\n",
        "            print('Listing labels...')\n",
        "            labels = []\n",
        "            for i in tqdm(range(len(self.imgidx))):\n",
        "                idx = self.imgidx[i]\n",
        "                s = self.imgrec.read_idx(idx)\n",
        "                header, img = mx.recordio.unpack(s)\n",
        "                label = header.label\n",
        "                labels.append(int(label))\n",
        "            self.labels = np.array(labels)\n",
        "            # save labels\n",
        "            np.save(labels_path, self.labels)\n",
        "\n",
        "        unique_labels, unique_counts = np.unique(self.labels, return_counts=True)\n",
        "        top_ids = np.argsort(unique_counts)[::-1][:num_labels]\n",
        "        self.top_labels = unique_labels[top_ids]\n",
        "\n",
        "        self.label_map = dict(\n",
        "            zip(self.top_labels.tolist(), np.arange(len(self.top_labels)))\n",
        "        )\n",
        "\n",
        "    def __getitem__(self, index: int) -> Tuple[torch.Tensor, Optional[int]]:\n",
        "        \"\"\"Get item of a dataset.\n",
        "\n",
        "        :param index: index of an item\n",
        "        :return:\n",
        "            - a tuple (image, label) for the train dataset\n",
        "            - image for tht test dataset\n",
        "        \"\"\"\n",
        "        idx = self.imgidx[index]\n",
        "        s = self.imgrec.read_idx(idx)\n",
        "        header, img = mx.recordio.unpack(s)\n",
        "        label = header.label\n",
        "\n",
        "        if not isinstance(label, numbers.Number):\n",
        "            label = label[0]\n",
        "\n",
        "        label = self.label_map[int(label)]\n",
        "        label = torch.tensor(label, dtype=torch.long)\n",
        "        sample = mx.image.imdecode(img).asnumpy()\n",
        "\n",
        "        if self.transform is not None:\n",
        "            sample = self.transform(sample)\n",
        "        if self.test:\n",
        "            return sample\n",
        "        else:\n",
        "            return sample, label\n",
        "\n",
        "    def __len__(self) -> int:\n",
        "        \"\"\"Return size of the dataset.\"\"\"\n",
        "        return len(self.imgidx)"
      ]
    },
    {
      "cell_type": "code",
      "execution_count": 5,
      "metadata": {
        "id": "EbEpqYkHKV86"
      },
      "outputs": [],
      "source": [
        "num_people = 4\n",
        "\n",
        "path_to_data = \"data/faces_emore/\"\n",
        "dataset = ArcFaceDataset(path_to_data, num_labels=num_people)\n",
        "people_ids = np.where(np.isin(dataset.labels, dataset.top_labels))[0]\n",
        "people_set = torch.utils.data.Subset(dataset, people_ids)"
      ]
    },
    {
      "cell_type": "code",
      "execution_count": 6,
      "metadata": {
        "id": "F3I_Z39rKV86",
        "outputId": "67439110-fe14-4cd6-91b6-742d0c7b5564"
      },
      "outputs": [
        {
          "name": "stdout",
          "output_type": "stream",
          "text": [
            "Dataset size: 2342\n"
          ]
        }
      ],
      "source": [
        "print(\"Dataset size:\", len(people_set))"
      ]
    },
    {
      "cell_type": "markdown",
      "metadata": {
        "id": "1NW6T1HfKV86"
      },
      "source": [
        "### Модель\n",
        "\n",
        "Ниже определен класс для используемое модели. Для удобства обучения мы работаем с библиотекой pytorhc_lightning и испольщуем класс ```pl.LightningModule```."
      ]
    },
    {
      "cell_type": "code",
      "execution_count": 7,
      "metadata": {
        "id": "AVJkvsBjKV86"
      },
      "outputs": [],
      "source": [
        "class MetricLearningModel(pl.LightningModule):\n",
        "    \"\"\"Lightning wrapper for a Metric Learning model.\"\"\"\n",
        "    def __init__(\n",
        "        self, backbone: torch.nn.Module, loss: torch.nn.Module, num_labels: int, s: int\n",
        "    ) -> None:\n",
        "        \"\"\"Initialize MetricLearningModel.\n",
        "\n",
        "        :param backbone: core deef model to be trained\n",
        "        :param loss: loss function to be used\n",
        "        :param num_labels: number of target classes (people)\n",
        "        \"\"\"\n",
        "        super().__init__()\n",
        "\n",
        "        self.backbone = backbone\n",
        "        self.loss = loss\n",
        "        self.s = s\n",
        "        # parameters of the last linear layer initialized by the 'kaiming_uniform_'\n",
        "        self.softmax_weights = torch.nn.Parameter(torch.empty((num_labels, 2)))\n",
        "        torch.nn.init.kaiming_uniform_(self.softmax_weights, a=math.sqrt(5))\n",
        "\n",
        "    def forward(self, x: torch.Tensor) -> Tuple[torch.Tensor, torch.Tensor]:\n",
        "        \"\"\"Forward pass through the model.\n",
        "\n",
        "        :param x: batch of images\n",
        "        :return a tuple of:\n",
        "            - features: outputs of the backbone model a.k.a. embeddings\n",
        "            - logits: result of the last linear transformations\n",
        "        \"\"\"\n",
        "        backbone_outputs = self.backbone(x)\n",
        "        features = backbone_outputs[\"feature\"]\n",
        "        norm_weights = F.normalize(self.softmax_weights, dim=1)\n",
        "        logits = self.s * F.linear(features, norm_weights)\n",
        "        return features, logits\n",
        "\n",
        "    def training_step(self, batch: Tuple[torch.Tensor, torch.Tensor]) -> torch.Tensor:\n",
        "        \"\"\"Do a training step of the model.\n",
        "\n",
        "        :param batch: batch of input images\n",
        "        :return: value of the loss function\n",
        "        \"\"\"\n",
        "        images, labels = batch\n",
        "        features, logits = self(images)\n",
        "        loss = self.loss(logits, labels)\n",
        "        # log loss value\n",
        "        self.log(\"train_loss\", loss.item(), prog_bar=True)\n",
        "        return loss\n",
        "\n",
        "    def configure_optimizers(self) -> Dict[str, torch.optim.Optimizer]:\n",
        "        params = list(self.parameters())\n",
        "        optimizer = torch.optim.AdamW(params, lr=1e-4, weight_decay=5e-5)\n",
        "        return {\n",
        "            \"optimizer\": optimizer,\n",
        "        }"
      ]
    },
    {
      "cell_type": "markdown",
      "metadata": {
        "id": "T1JShlc_KV87"
      },
      "source": [
        "### Инициализация модели\n",
        "\n",
        "В качестве backbone-модели предлагается использовать глубокую сверточную сеть iResNet50. С ее арзитектурой можно ознакомиться в модуле ```iresent.py```.\n",
        "В первом эксперименте мы используем стандартную функцию потерь SoftMax, определенную в ```torch.nn```.\n",
        "Для удобства визуализации мы используем пространство представлений размерности $2$ (```num_features=2```)."
      ]
    },
    {
      "cell_type": "code",
      "execution_count": 8,
      "metadata": {
        "id": "rUIeg-zpKV87"
      },
      "outputs": [],
      "source": [
        "backbone_model = iresnet50_normalized(num_features=2)\n",
        "softmax_loss = torch.nn.CrossEntropyLoss()\n",
        "\n",
        "softmax_model = MetricLearningModel(backbone_model, softmax_loss, num_labels=num_people, s = 1)"
      ]
    },
    {
      "cell_type": "markdown",
      "metadata": {
        "id": "8txGw0hOKV87"
      },
      "source": [
        "### Обучение модели\n",
        "\n",
        "Определяем стандартные гиперпараметры и обучаем модель в течение 20 эпох.\n",
        "Для обучения используем интерфейс ```pytorch_lightning```."
      ]
    },
    {
      "cell_type": "code",
      "execution_count": 9,
      "metadata": {
        "id": "wdt6w9lSKV87"
      },
      "outputs": [],
      "source": [
        "batch_size = 64\n",
        "num_workers = 8\n",
        "max_epochs = 20"
      ]
    },
    {
      "cell_type": "code",
      "execution_count": 10,
      "metadata": {
        "colab": {
          "referenced_widgets": [
            "53667d95101b4c999006253dd6922a07"
          ]
        },
        "id": "fz6WqHvWKV87",
        "outputId": "c9da9295-a96e-47c5-ca02-d12b9ced59d6"
      },
      "outputs": [
        {
          "name": "stderr",
          "output_type": "stream",
          "text": [
            "GPU available: True (cuda), used: True\n",
            "TPU available: False, using: 0 TPU cores\n",
            "IPU available: False, using: 0 IPUs\n",
            "HPU available: False, using: 0 HPUs\n",
            "You are using a CUDA device ('NVIDIA A10') that has Tensor Cores. To properly utilize them, you should set `torch.set_float32_matmul_precision('medium' | 'high')` which will trade-off precision for performance. For more details, read https://pytorch.org/docs/stable/generated/torch.set_float32_matmul_precision.html#torch.set_float32_matmul_precision\n",
            "LOCAL_RANK: 0 - CUDA_VISIBLE_DEVICES: [0,1]\n",
            "\n",
            "  | Name     | Type             | Params\n",
            "----------------------------------------------\n",
            "0 | backbone | IResNetNorm      | 30.8 M\n",
            "1 | loss     | CrossEntropyLoss | 0     \n",
            "----------------------------------------------\n",
            "30.8 M    Trainable params\n",
            "2         Non-trainable params\n",
            "30.8 M    Total params\n",
            "123.178   Total estimated model params size (MB)\n"
          ]
        },
        {
          "name": "stdout",
          "output_type": "stream",
          "text": [
            "Epoch 0:   0%|          | 0/36 [00:00<?, ?it/s] "
          ]
        },
        {
          "name": "stderr",
          "output_type": "stream",
          "text": [
            "/home/erlygin/miniconda/lib/python3.9/site-packages/pytorch_lightning/loops/fit_loop.py:280: PossibleUserWarning: The number of training batches (36) is smaller than the logging interval Trainer(log_every_n_steps=50). Set a lower value for log_every_n_steps if you want to see logs for the training epoch.\n",
            "  rank_zero_warn(\n"
          ]
        },
        {
          "name": "stdout",
          "output_type": "stream",
          "text": [
            "Epoch 19: 100%|██████████| 36/36 [00:51<00:00,  1.42s/it, v_num=33, train_loss=0.712]"
          ]
        },
        {
          "name": "stderr",
          "output_type": "stream",
          "text": [
            "`Trainer.fit` stopped: `max_epochs=20` reached.\n"
          ]
        },
        {
          "name": "stdout",
          "output_type": "stream",
          "text": [
            "Epoch 19: 100%|██████████| 36/36 [00:52<00:00,  1.45s/it, v_num=33, train_loss=0.712]\n"
          ]
        }
      ],
      "source": [
        "# initialize trainer, use one GPU for training\n",
        "trainer = Trainer(\n",
        "    max_epochs=max_epochs,\n",
        "    default_root_dir=\"outputs/softmax_train\",\n",
        "    accelerator=\"gpu\",\n",
        "    devices=1\n",
        ")\n",
        "\n",
        "# create train dataloader\n",
        "train_dataloader = DataLoader(\n",
        "    people_set,\n",
        "    batch_size,\n",
        "    shuffle=True,\n",
        "    drop_last=True,\n",
        "    num_workers=num_workers,\n",
        ")\n",
        "\n",
        "# fit the model\n",
        "trainer.fit(softmax_model, train_dataloader)"
      ]
    },
    {
      "cell_type": "markdown",
      "metadata": {
        "id": "iwkVPVzoKV87"
      },
      "source": [
        "### Получение представлений\n",
        "\n",
        "Ниже приведена функция для получения представлений изображений из ```test_dataloader```."
      ]
    },
    {
      "cell_type": "code",
      "execution_count": 11,
      "metadata": {
        "id": "Ell1avCsKV87"
      },
      "outputs": [],
      "source": [
        "def predict_features(\n",
        "    model: pl.LightningModule, test_dataloader: DataLoader, device: str = \"cuda\"\n",
        ") -> Tuple[np.array, np.array]:\n",
        "    \"\"\"Transform images and get their embeddings.\n",
        "\n",
        "    :param model: trained MetricLearningModel\n",
        "    :param test_dataloader: DataLoader with images to be transformed\n",
        "    :param device: 'gpu' or 'cuda', if available\n",
        "    :return a tuple of:\n",
        "        - numpy array with obtained features\n",
        "        - true image labels (people id's)\n",
        "    \"\"\"\n",
        "    model.to(device)\n",
        "\n",
        "    # switch model to 'eval' mode: disable randomness, dropout, etc.\n",
        "    model.eval()\n",
        "\n",
        "    predicted_features = []\n",
        "    image_labels = []\n",
        "\n",
        "    for images, labels in tqdm(test_dataloader):\n",
        "        images = images.to(device)\n",
        "        features, _ = model(images)\n",
        "        features = features.detach().cpu().numpy()\n",
        "        labels = labels.numpy()\n",
        "        predicted_features.append(features)\n",
        "        image_labels.append(labels)\n",
        "\n",
        "    predicted_features = np.concatenate(predicted_features)\n",
        "    image_labels = np.concatenate(image_labels)\n",
        "\n",
        "    return predicted_features, image_labels"
      ]
    },
    {
      "cell_type": "code",
      "execution_count": 12,
      "metadata": {
        "id": "b277OifKKV88",
        "outputId": "f21e120f-bf39-4d57-b28c-539a333af146"
      },
      "outputs": [
        {
          "name": "stderr",
          "output_type": "stream",
          "text": [
            "100%|██████████| 147/147 [00:22<00:00,  6.42it/s]\n"
          ]
        }
      ],
      "source": [
        "test_dataloader = DataLoader(\n",
        "    people_set,\n",
        "    batch_size=16,\n",
        "    shuffle=False,\n",
        "    drop_last=False,\n",
        "    num_workers=num_workers,\n",
        ")\n",
        "\n",
        "predicted_features, image_labels = predict_features(softmax_model, test_dataloader)"
      ]
    },
    {
      "cell_type": "markdown",
      "metadata": {
        "id": "ysgrdj3LKV88"
      },
      "source": [
        "### Визуализация 2-мерных представлений"
      ]
    },
    {
      "cell_type": "code",
      "execution_count": 13,
      "metadata": {
        "id": "XNlRP1veKV88"
      },
      "outputs": [],
      "source": [
        "colors = list(mcolors.TABLEAU_COLORS)[:num_people]\n",
        "\n",
        "softmax_weights = softmax_model.softmax_weights.detach().cpu()\n",
        "softmax_weights = F.normalize(softmax_weights, dim=1).numpy()"
      ]
    },
    {
      "cell_type": "code",
      "execution_count": 14,
      "metadata": {
        "id": "CvhlwlMdKV88",
        "outputId": "61b3db11-5000-46f9-ef6a-f036c9096a7d"
      },
      "outputs": [
        {
          "data": {
            "image/png": "[encoded data removed]",
            "text/plain": [
              "<Figure size 600x600 with 1 Axes>"
            ]
          },
          "metadata": {},
          "output_type": "display_data"
        }
      ],
      "source": [
        "plt.figure(figsize=(6, 6))\n",
        "max_people = 4\n",
        "for i, (weight, color) in enumerate(zip(softmax_weights, colors)):\n",
        "    points = predicted_features[image_labels == i]\n",
        "    x, y = [0, weight[0]], [0, weight[1]]\n",
        "    plt.plot(x, y, marker=\"\", c=color)\n",
        "    plt.scatter(points[:, 0], points[:, 1], color=color, s=3)\n",
        "    if i == (max_people - 1):\n",
        "        break\n",
        "plt.gca().set_aspect(\"equal\")\n",
        "plt.axis(\"off\")\n",
        "plt.show()"
      ]
    },
    {
      "cell_type": "markdown",
      "metadata": {
        "id": "162G4RZPKV88"
      },
      "source": [
        "## Решение"
      ]
    },
    {
      "cell_type": "code",
      "execution_count": 15,
      "metadata": {
        "id": "SR2bx-GNKV88"
      },
      "outputs": [],
      "source": [
        "# место для вашего кода"
      ]
    },
    {
      "cell_type": "markdown",
      "metadata": {
        "id": "NyVW95TsKV88"
      },
      "source": [
        "## Выводы"
      ]
    }
  ],
  "metadata": {
    "colab": {
      "provenance": []
    },
    "kernelspec": {
      "display_name": "Python 3 (ipykernel)",
      "language": "python",
      "name": "python3"
    },
    "language_info": {
      "codemirror_mode": {
        "name": "ipython",
        "version": 3
      },
      "file_extension": ".py",
      "mimetype": "text/x-python",
      "name": "python",
      "nbconvert_exporter": "python",
      "pygments_lexer": "ipython3",
      "version": "3.9.7"
    }
  },
  "nbformat": 4,
  "nbformat_minor": 0
}
