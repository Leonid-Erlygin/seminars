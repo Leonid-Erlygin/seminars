{
  "cells": [
    {
      "cell_type": "markdown",
      "metadata": {
        "id": "yikh_fwsKV8z"
      },
      "source": [
        "# **Домашнее задание №2**\n",
        "\n",
        "В этом домашнем задании на примере задачи распознавания лиц Вам предлагается использовать функцию потерь [ArcFace](https://arxiv.org/abs/1801.07698) для решения задачи Metric Learning. Подробное описание задачи вы можете найти в соответствующем разделе домашнего задания.  \n",
        "\n",
        "**Ваша задача:** Обучить две модели для предсказания дискриминативных представлений изображений, $\\textbf{z}\\in\\mathbb{R}^{2}$, с помощью функции потерь SoftMax и функции из статьи [ArcFace](https://arxiv.org/abs/1801.07698) (см. описание задачи ниже). Модели необходимо обучить на 8-ми самых многочисленных классах из набора изображений лиц [MS1M-ArcFace](https://github.com/deepinsight/insightface/tree/master/recognition/_datasets_).  \n",
        "\n",
        "Затем нужно изобразить полученные представления на двух рисунках (один для SoftMax другой для ArcFace функций потерь).\n",
        "\n",
        "Рисунок для SoftMax функции будет вам дан.  \n",
        "**Вспомогательный код для загрузки данных и для обучения модели с помощью SoftMax функции потерь вы можете найти в разделе с заданием.**  \n",
        "\n",
        "**Вопрос на который требуется ответить:** Помогает ли функция потерь ArcFace для улучшения дикриминативных способностей векторов представлений?\n"
      ]
    },
    {
      "cell_type": "markdown",
      "metadata": {
        "id": "wF1gs8LIKV82"
      },
      "source": [
        "## **Задача: обучить небольшой ArcFace модели (1 балл)**\n",
        "\n",
        "При решении задачи распознавания лиц возникает необходимость ответить на вопрос: изображен ли на двух разных картинках один и тот же человек или нет?  На этот вопрос можно ответить с помощью функции расстояния между изображениями, учитывающую абстрактную семантическую информацию.  \n",
        "\n",
        "Современные методы распознавания лиц используют большие наборы данных, содержащие изображения разных людей, для обучения нейросетей, вычисляющих \"осмысленные\" вектора представлений изображений лиц. Для каждого изображения лица человека $\\textbf{x}$ с помощью обучаемой функции $f_{\\theta}(*)$ вычисляется вектор представления $\\textbf{x}$:\n",
        "$$\n",
        "\\textbf{z} = f_{\\theta}(\\textbf{x})\n",
        "$$\n",
        "Параметры $\\theta$ модели подбираются так, чтобы расстояние между векторами представлений изображений разных людей было велико, а между представлениями изображений одного и того же человека -- низко:\n",
        "$$\n",
        "d(\\textbf{z}_i,\\textbf{z}_j)>>d(\\textbf{z}_i,\\textbf{z}'_i)\n",
        "$$\n",
        "где $d$ -- некоторая функция расстояния, например, косинусное расстояние:\n",
        "$$\n",
        "d(\\textbf{z}_i,\\textbf{z}_j) = -\\frac{\\langle\\textbf{z}_i,\\textbf{z}_j\\rangle}{\\left\\lVert\\textbf{z}_i\\right\\rVert\\left\\lVert\\textbf{z}_j\\right\\rVert}.\n",
        "$$\n",
        "\n",
        "В терминах языка python, если взять id за идентификатор личности, мы хотим получить следующее поведение: $\\mathbf{id}(\\textbf{x}_i)=\\mathbf{id}(\\textbf{x}'_i),\\,\\mathbf{id}(\\textbf{x}_i)\\neq\\mathbf{id}(\\textbf{x}_j)$.\n",
        "\n",
        "Для получения искомых представлений можно решать задачу классификации на большом наборе данных с изображениями разных людей, а затем использовать вектор перед последним линейным слоем как вектор представления лица. В такой постановке каждый человек в наборе данных рассматривается как отдельный класс, а множество изображений его лица -- как представители этого класса.\n",
        "\n",
        "Для решения задачи многоклассовой классификации можно использовать стандартную SoftMax функцию потерь:\n",
        "$$\n",
        "    L = -\\frac{1}{N}\\sum_{i=1}^N\\log\\frac{e^{W_{y_i}^T\\textbf{z}_i + b_{y_i}}}{\\sum_{j=1}^ne^{W_{j}^T\\textbf{z}_i + b_{j}}}\n",
        "$$\n",
        "$\\textbf{z}_i$ -- представление изображения, $N$ -- число изображений в мини батче, $W_j, b_j$ -- параметры весов (гиперплоскости) для каждого класса, $y_i$ -- индекс настоящего класса объекта.\n",
        "\n",
        "Если мы отнормируем вектор $\\textbf{x}$ так, чтобы он имел ограниченную норму $s$, положим норму вектора $W_j$ равную 1, а $b_j = 0$, то функция потерь может быть переписана в следующей форме:\n",
        "$$\n",
        "L = -\\frac{1}{N}\\sum_{i=1}^N\n",
        "\\log\n",
        "\\frac{e^{s\\cos\\theta_{y_i}}}\n",
        "{e^{s\\cos\\theta_{y_i}} + \\sum_{j\\neq y_i}^ne^{s\\cos\\theta_{j}}},\n",
        "$$\n",
        "где $\\theta_j$ - угол между представлением $i$-го изображения и вектором $W_j$ указывающим на центр $j$-го класса.\n",
        "\n",
        "Мы можем видеть, что здесь максимизируется косинус угла между представлением и соответствующим вектором класса.\n",
        "На самом деле мы хотим минимизировать сам угол, а не максимизировать его косинус, потому что угол лучше соответствует близости в пространстве представлений.\n",
        "\n",
        "Для решения этой задачи предлагается [ArcFace](https://arxiv.org/abs/1801.07698) функция потерь:\n",
        "$$\n",
        "L = -\\frac{1}{N}\\sum_{i=1}^N\n",
        "\\log\n",
        "\\frac{e^{s\\cos(\\theta_{y_i}+m)}}\n",
        "{e^{s\\cos(\\theta_{y_i}+m)} + \\sum_{j\\neq y_i}^ne^{s\\cos\\theta_{j}}},\n",
        "$$\n",
        "где вводится параметр отступа $m=0.5$.\n",
        "\n",
        "**Ваша цель:** Исследовать, как функция потерь влияет на качество получаемых представлений изображений лиц.\n",
        "\n",
        "Для этого необходимо:\n",
        "\n",
        "1. Обучить две глубокие модели для получения 2-мерных дискриминативных представлений изображений: первую - с помощью функции потерь SoftMax, а вторую - с помощью функции из статьи [ArcFace](https://arxiv.org/abs/1801.07698). Для обучения предлагается использовать изображения 8-ми самых многочисленных классов из набора изображений лиц [MS1M-ArcFace](https://github.com/deepinsight/insightface/tree/master/recognition/_datasets_). В качестве модели предлагается использовать архитектуру iResNet50, код модели предоставлен в файле ```iresnet.py```. Вспомогательный код для загрузки данных, инициализации и обучения модели с помощью SoftMax функции потерь вы можете найти ниже. Вторую функцию потерь необходимо реализовать самостоятельно. **(0,25 балла)**\n",
        "    \n",
        "2. Оценить качество полученных двумерных представлений изображений визуально, изобразив их на окружности в $\\mathbb{R}^2$. Визуализация представлений, полученных с помощью SoftMax функции приведена в ноутбуке ниже.**(0,25 балла)**\n",
        "    \n",
        "3. В качестве объективной метрики качества посчитать среднее расстояние от представлений изображений одного класса до центра класса. Помогает ли функция потерь ArcFace для улучшения дикриминативных способностей векторов представлений? **(0,25 балла)**\n",
        "\n",
        "4. Изучить, как выбор гиперпараметров функции потерь ArcFace (значения нормы $s$ и отступа $m$) влияет на процесс обучения модели и качество полученных представлений. Удается ли получить хорошие представления при $m \\neq 0.5$? **(0,25 балла)**\n",
        "\n",
        "# **Бонусные задания:**\n",
        "\n",
        "1. Решить ту же задачу для 3-мерного пространства представлений $\\textbf{z}_{i}\\in\\mathbb{R}^{3}$, визуализировать полученные представления на шаре. **(0,25 балла)**\n",
        "\n",
        "2. Реализовать [Triplet Loss](https://arxiv.org/abs/1503.03832) и обучить модель с его помощью. Сравнить полученные результаты. **(0,25 балла)**\n",
        "\n",
        "Удачи!"
      ]
    },
    {
      "cell_type": "markdown",
      "metadata": {
        "id": "mJEANNtzKV83"
      },
      "source": [
        "### Загрузка данных\n",
        "\n",
        "<!-- Загрузите выборку MS1M-ArcFace, и распакуйте данные в текущей дериктории:\n",
        "https://drive.google.com/file/d/1SXS4-Am3bsKSK615qbYdbA_FMVh3sAvR/view. Если вы хотите сделать это напрямую в коде, можете воспользоваться командами, закомментированными в ячейке ниже. -->"
      ]
    },
    {
      "cell_type": "code",
      "execution_count": 2,
      "metadata": {
        "colab": {
          "base_uri": "https://localhost:8080/"
        },
        "id": "gkgT-lIiKV83",
        "outputId": "55123b08-d536-41af-8ae3-a5134eb6b9a0"
      },
      "outputs": [
        {
          "name": "stdout",
          "output_type": "stream",
          "text": [
            "--2023-07-24 12:34:59--  https://dl.dropboxusercontent.com/s/a53udei76f9h270/ms1m_subset.zip\n",
            "Resolving dl.dropboxusercontent.com (dl.dropboxusercontent.com)... 162.125.81.15, 2620:100:6035:15::a27d:550f\n",
            "Connecting to dl.dropboxusercontent.com (dl.dropboxusercontent.com)|162.125.81.15|:443... connected.\n",
            "HTTP request sent, awaiting response... 200 OK\n",
            "Length: 102620237 (98M) [application/zip]\n",
            "Saving to: ‘ms1m_subset.zip’\n",
            "\n",
            "ms1m_subset.zip     100%[===================>]  97.87M  16.4MB/s    in 6.1s    \n",
            "\n",
            "2023-07-24 12:35:07 (16.1 MB/s) - ‘ms1m_subset.zip’ saved [102620237/102620237]\n",
            "\n",
            "Archive:  ms1m_subset.zip\n",
            "   creating: ms1m_subset/\n",
            "  inflating: ms1m_subset/train.rec   \n",
            "  inflating: ms1m_subset/train.idx   \n",
            "  inflating: ms1m_subset/labels.npy  \n"
          ]
        }
      ],
      "source": [
        "!wget -nc https://dl.dropboxusercontent.com/s/a53udei76f9h270/ms1m_subset.zip\n",
        "!unzip ms1m_subset.zip"
      ]
    },
    {
      "cell_type": "markdown",
      "metadata": {
        "id": "OFg0-YwxKV84"
      },
      "source": [
        "Если вы работаете в Google Colab'е, то вам может потребоваться установить следующие библиотеки, которых там нет по умолчанию:"
      ]
    },
    {
      "cell_type": "code",
      "execution_count": 3,
      "metadata": {
        "colab": {
          "base_uri": "https://localhost:8080/"
        },
        "id": "Kj7fCJBkKV84",
        "outputId": "3b288dfa-b7d9-4b06-cd44-4e4c426ca998",
        "scrolled": true
      },
      "outputs": [
        {
          "name": "stdout",
          "output_type": "stream",
          "text": [
            "Collecting pytorch_lightning\n",
            "  Downloading pytorch_lightning-2.0.5-py3-none-any.whl (722 kB)\n",
            "\u001b[2K     \u001b[90m━━━━━━━━━━━━━━━━━━━━━━━━━━━━━━━━━━━━━━━\u001b[0m \u001b[32m722.4/722.4 kB\u001b[0m \u001b[31m5.1 MB/s\u001b[0m eta \u001b[36m0:00:00\u001b[0m\n",
            "\u001b[?25hRequirement already satisfied: numpy>=1.17.2 in /usr/local/lib/python3.10/dist-packages (from pytorch_lightning) (1.22.4)\n",
            "Requirement already satisfied: torch>=1.11.0 in /usr/local/lib/python3.10/dist-packages (from pytorch_lightning) (2.0.1+cu118)\n",
            "Requirement already satisfied: tqdm>=4.57.0 in /usr/local/lib/python3.10/dist-packages (from pytorch_lightning) (4.65.0)\n",
            "Requirement already satisfied: PyYAML>=5.4 in /usr/local/lib/python3.10/dist-packages (from pytorch_lightning) (6.0.1)\n",
            "Requirement already satisfied: fsspec[http]>2021.06.0 in /usr/local/lib/python3.10/dist-packages (from pytorch_lightning) (2023.6.0)\n",
            "Collecting torchmetrics>=0.7.0 (from pytorch_lightning)\n",
            "  Downloading torchmetrics-1.0.1-py3-none-any.whl (729 kB)\n",
            "\u001b[2K     \u001b[90m━━━━━━━━━━━━━━━━━━━━━━━━━━━━━━━━━━━━━━\u001b[0m \u001b[32m729.2/729.2 kB\u001b[0m \u001b[31m48.1 MB/s\u001b[0m eta \u001b[36m0:00:00\u001b[0m\n",
            "\u001b[?25hRequirement already satisfied: packaging>=17.1 in /usr/local/lib/python3.10/dist-packages (from pytorch_lightning) (23.1)\n",
            "Requirement already satisfied: typing-extensions>=4.0.0 in /usr/local/lib/python3.10/dist-packages (from pytorch_lightning) (4.7.1)\n",
            "Collecting lightning-utilities>=0.7.0 (from pytorch_lightning)\n",
            "  Downloading lightning_utilities-0.9.0-py3-none-any.whl (23 kB)\n",
            "Requirement already satisfied: requests in /usr/local/lib/python3.10/dist-packages (from fsspec[http]>2021.06.0->pytorch_lightning) (2.27.1)\n",
            "Requirement already satisfied: aiohttp!=4.0.0a0,!=4.0.0a1 in /usr/local/lib/python3.10/dist-packages (from fsspec[http]>2021.06.0->pytorch_lightning) (3.8.4)\n",
            "Requirement already satisfied: filelock in /usr/local/lib/python3.10/dist-packages (from torch>=1.11.0->pytorch_lightning) (3.12.2)\n",
            "Requirement already satisfied: sympy in /usr/local/lib/python3.10/dist-packages (from torch>=1.11.0->pytorch_lightning) (1.11.1)\n",
            "Requirement already satisfied: networkx in /usr/local/lib/python3.10/dist-packages (from torch>=1.11.0->pytorch_lightning) (3.1)\n",
            "Requirement already satisfied: jinja2 in /usr/local/lib/python3.10/dist-packages (from torch>=1.11.0->pytorch_lightning) (3.1.2)\n",
            "Requirement already satisfied: triton==2.0.0 in /usr/local/lib/python3.10/dist-packages (from torch>=1.11.0->pytorch_lightning) (2.0.0)\n",
            "Requirement already satisfied: cmake in /usr/local/lib/python3.10/dist-packages (from triton==2.0.0->torch>=1.11.0->pytorch_lightning) (3.25.2)\n",
            "Requirement already satisfied: lit in /usr/local/lib/python3.10/dist-packages (from triton==2.0.0->torch>=1.11.0->pytorch_lightning) (16.0.6)\n",
            "Requirement already satisfied: attrs>=17.3.0 in /usr/local/lib/python3.10/dist-packages (from aiohttp!=4.0.0a0,!=4.0.0a1->fsspec[http]>2021.06.0->pytorch_lightning) (23.1.0)\n",
            "Requirement already satisfied: charset-normalizer<4.0,>=2.0 in /usr/local/lib/python3.10/dist-packages (from aiohttp!=4.0.0a0,!=4.0.0a1->fsspec[http]>2021.06.0->pytorch_lightning) (2.0.12)\n",
            "Requirement already satisfied: multidict<7.0,>=4.5 in /usr/local/lib/python3.10/dist-packages (from aiohttp!=4.0.0a0,!=4.0.0a1->fsspec[http]>2021.06.0->pytorch_lightning) (6.0.4)\n",
            "Requirement already satisfied: async-timeout<5.0,>=4.0.0a3 in /usr/local/lib/python3.10/dist-packages (from aiohttp!=4.0.0a0,!=4.0.0a1->fsspec[http]>2021.06.0->pytorch_lightning) (4.0.2)\n",
            "Requirement already satisfied: yarl<2.0,>=1.0 in /usr/local/lib/python3.10/dist-packages (from aiohttp!=4.0.0a0,!=4.0.0a1->fsspec[http]>2021.06.0->pytorch_lightning) (1.9.2)\n",
            "Requirement already satisfied: frozenlist>=1.1.1 in /usr/local/lib/python3.10/dist-packages (from aiohttp!=4.0.0a0,!=4.0.0a1->fsspec[http]>2021.06.0->pytorch_lightning) (1.4.0)\n",
            "Requirement already satisfied: aiosignal>=1.1.2 in /usr/local/lib/python3.10/dist-packages (from aiohttp!=4.0.0a0,!=4.0.0a1->fsspec[http]>2021.06.0->pytorch_lightning) (1.3.1)\n",
            "Requirement already satisfied: MarkupSafe>=2.0 in /usr/local/lib/python3.10/dist-packages (from jinja2->torch>=1.11.0->pytorch_lightning) (2.1.3)\n",
            "Requirement already satisfied: urllib3<1.27,>=1.21.1 in /usr/local/lib/python3.10/dist-packages (from requests->fsspec[http]>2021.06.0->pytorch_lightning) (1.26.16)\n",
            "Requirement already satisfied: certifi>=2017.4.17 in /usr/local/lib/python3.10/dist-packages (from requests->fsspec[http]>2021.06.0->pytorch_lightning) (2023.5.7)\n",
            "Requirement already satisfied: idna<4,>=2.5 in /usr/local/lib/python3.10/dist-packages (from requests->fsspec[http]>2021.06.0->pytorch_lightning) (3.4)\n",
            "Requirement already satisfied: mpmath>=0.19 in /usr/local/lib/python3.10/dist-packages (from sympy->torch>=1.11.0->pytorch_lightning) (1.3.0)\n",
            "Installing collected packages: lightning-utilities, torchmetrics, pytorch_lightning\n",
            "Successfully installed lightning-utilities-0.9.0 pytorch_lightning-2.0.5 torchmetrics-1.0.1\n",
            "Collecting mxnet\n",
            "  Downloading mxnet-1.9.1-py3-none-manylinux2014_x86_64.whl (49.1 MB)\n",
            "\u001b[2K     \u001b[90m━━━━━━━━━━━━━━━━━━━━━━━━━━━━━━━━━━━━━━━━\u001b[0m \u001b[32m49.1/49.1 MB\u001b[0m \u001b[31m12.4 MB/s\u001b[0m eta \u001b[36m0:00:00\u001b[0m\n",
            "\u001b[?25hRequirement already satisfied: numpy<2.0.0,>1.16.0 in /usr/local/lib/python3.10/dist-packages (from mxnet) (1.22.4)\n",
            "Requirement already satisfied: requests<3,>=2.20.0 in /usr/local/lib/python3.10/dist-packages (from mxnet) (2.27.1)\n",
            "Collecting graphviz<0.9.0,>=0.8.1 (from mxnet)\n",
            "  Downloading graphviz-0.8.4-py2.py3-none-any.whl (16 kB)\n",
            "Requirement already satisfied: urllib3<1.27,>=1.21.1 in /usr/local/lib/python3.10/dist-packages (from requests<3,>=2.20.0->mxnet) (1.26.16)\n",
            "Requirement already satisfied: certifi>=2017.4.17 in /usr/local/lib/python3.10/dist-packages (from requests<3,>=2.20.0->mxnet) (2023.5.7)\n",
            "Requirement already satisfied: charset-normalizer~=2.0.0 in /usr/local/lib/python3.10/dist-packages (from requests<3,>=2.20.0->mxnet) (2.0.12)\n",
            "Requirement already satisfied: idna<4,>=2.5 in /usr/local/lib/python3.10/dist-packages (from requests<3,>=2.20.0->mxnet) (3.4)\n",
            "Installing collected packages: graphviz, mxnet\n",
            "  Attempting uninstall: graphviz\n",
            "    Found existing installation: graphviz 0.20.1\n",
            "    Uninstalling graphviz-0.20.1:\n",
            "      Successfully uninstalled graphviz-0.20.1\n",
            "Successfully installed graphviz-0.8.4 mxnet-1.9.1\n"
          ]
        }
      ],
      "source": [
        "!pip install pytorch_lightning\n",
        "!pip install mxnet"
      ]
    },
    {
      "cell_type": "markdown",
      "metadata": {
        "id": "vJDqLCGAKV85"
      },
      "source": [
        "### Импортируем необходимые библиотеки\n",
        "\n",
        "Обратите внимание, что мы используем модель iresnet50_normalized, которая определена в файле ```iresnet.py```. Для того чтобы ее импортировать, необходимо положить этот файл в одну папку с данным ноутбуком."
      ]
    },
    {
      "cell_type": "code",
      "execution_count": 1,
      "metadata": {
        "id": "T_sYOdweKV85"
      },
      "outputs": [],
      "source": [
        "import numpy as np\n",
        "import mxnet as mx\n",
        "\n",
        "import matplotlib.pyplot as plt\n",
        "import matplotlib.colors as mcolors\n",
        "\n",
        "import torch\n",
        "import torch.nn.functional as F\n",
        "from torch.utils.data import DataLoader, Dataset\n",
        "from torchvision import transforms\n",
        "\n",
        "import pytorch_lightning as pl\n",
        "from pytorch_lightning import Trainer\n",
        "\n",
        "import math\n",
        "import numbers\n",
        "import os\n",
        "\n",
        "from tqdm import tqdm\n",
        "from pathlib import Path\n",
        "from typing import Tuple, Optional, Dict"
      ]
    },
    {
      "cell_type": "markdown",
      "metadata": {
        "id": "E1b3XXgSKV85"
      },
      "source": [
        "### Датасет\n",
        "\n",
        "Ниже определен класс с необходимым нам датасетом изображений лиц. Обратите внимание, что он наследуется от класса ```torch.utils.data.Dataset```."
      ]
    },
    {
      "cell_type": "code",
      "execution_count": 2,
      "metadata": {
        "id": "s2etXusLKV86"
      },
      "outputs": [],
      "source": [
        "class ArcFaceDataset(Dataset):\n",
        "    \"\"\"\n",
        "    ArcFace dataset loader,\n",
        "    based on https://github.com/deepinsight/insightface/blob/master/recognition/arcface_torch/dataset.py\n",
        "    \"\"\"\n",
        "    def __init__(self, root_dir: str, num_labels: int, test: bool = False) -> None:\n",
        "\n",
        "        \"\"\"Initialize ArcFace Dataset.\n",
        "\n",
        "        :param root_dir: path to the folder containing face images\n",
        "        :param num_labels: number of classes (people) to be used\n",
        "        :param test: if True, create test dataset (no augmentations, no labels)\n",
        "        \"\"\"\n",
        "        super(ArcFaceDataset, self).__init__()\n",
        "\n",
        "        self.test = test\n",
        "\n",
        "        # for test dataset, use default transformations (conver to torch.Tensor and normalize),\n",
        "        # do not use augmentations\n",
        "        if self.test:\n",
        "            self.transform = transforms.Compose(\n",
        "                [\n",
        "                    transforms.ToPILImage(),\n",
        "                    transforms.ToTensor(),\n",
        "                    transforms.Normalize(mean=[0.5, 0.5, 0.5], std=[0.5, 0.5, 0.5]),\n",
        "                ]\n",
        "            )\n",
        "\n",
        "        # for train dataset, add augmentations of images (Random horizontal flip)\n",
        "        else:\n",
        "            self.transform = transforms.Compose(\n",
        "                [\n",
        "                    transforms.ToPILImage(),\n",
        "                    transforms.RandomHorizontalFlip(),\n",
        "                    transforms.ToTensor(),\n",
        "                    transforms.Normalize(mean=[0.5, 0.5, 0.5], std=[0.5, 0.5, 0.5]),\n",
        "                ]\n",
        "            )\n",
        "\n",
        "        self.root_dir = root_dir\n",
        "        path_imgrec = os.path.join(root_dir, \"train.rec\")\n",
        "        path_imgidx = os.path.join(root_dir, \"train.idx\")\n",
        "\n",
        "        # load pictures\n",
        "        self.imgrec = mx.recordio.MXIndexedRecordIO(path_imgidx, path_imgrec, \"r\")\n",
        "        s = self.imgrec.read_idx(0)\n",
        "        header, _ = mx.recordio.unpack(s)\n",
        "\n",
        "        self.imgidx = np.array(range(1, int(header.label[0])))\n",
        "\n",
        "        # load or create labels\n",
        "        labels_path = Path(root_dir) / \"labels.npy\"\n",
        "        if labels_path.is_file():\n",
        "            self.labels = np.load(labels_path)\n",
        "        else:\n",
        "            print('Listing labels...')\n",
        "            labels = []\n",
        "            for i in tqdm(range(len(self.imgidx))):\n",
        "                idx = self.imgidx[i]\n",
        "                s = self.imgrec.read_idx(idx)\n",
        "                header, img = mx.recordio.unpack(s)\n",
        "                label = header.label\n",
        "                labels.append(int(label))\n",
        "            self.labels = np.array(labels)\n",
        "            # save labels\n",
        "            np.save(labels_path, self.labels)\n",
        "\n",
        "        unique_labels, unique_counts = np.unique(self.labels, return_counts=True)\n",
        "        top_ids = np.argsort(unique_counts)[::-1][:num_labels]\n",
        "        self.top_labels = unique_labels[top_ids]\n",
        "\n",
        "        self.label_map = dict(\n",
        "            zip(self.top_labels.tolist(), np.arange(len(self.top_labels)))\n",
        "        )\n",
        "\n",
        "    def __getitem__(self, index: int) -> Tuple[torch.Tensor, Optional[int]]:\n",
        "        \"\"\"Get item of a dataset.\n",
        "\n",
        "        :param index: index of an item\n",
        "        :return:\n",
        "            - a tuple (image, label) for the train dataset\n",
        "            - image for tht test dataset\n",
        "        \"\"\"\n",
        "        idx = self.imgidx[index]\n",
        "        s = self.imgrec.read_idx(idx)\n",
        "        header, img = mx.recordio.unpack(s)\n",
        "        label = header.label\n",
        "\n",
        "        if not isinstance(label, numbers.Number):\n",
        "            label = label[0]\n",
        "\n",
        "        label = self.label_map[int(label)]\n",
        "        label = torch.tensor(label, dtype=torch.long)\n",
        "        sample = mx.image.imdecode(img).asnumpy()\n",
        "\n",
        "        if self.transform is not None:\n",
        "            sample = self.transform(sample)\n",
        "        if self.test:\n",
        "            return sample, label\n",
        "        else:\n",
        "            return sample, label\n",
        "\n",
        "    def __len__(self) -> int:\n",
        "        \"\"\"Return size of the dataset.\"\"\"\n",
        "        return len(self.imgidx)"
      ]
    },
    {
      "cell_type": "code",
      "execution_count": 3,
      "metadata": {
        "id": "EbEpqYkHKV86"
      },
      "outputs": [],
      "source": [
        "num_people = 8\n",
        "\n",
        "path_to_data = \"data/ms1m_subset\"\n",
        "dataset = ArcFaceDataset(path_to_data, num_labels=num_people)\n",
        "people_ids = np.where(np.isin(dataset.labels, dataset.top_labels))[0]\n",
        "people_set = torch.utils.data.Subset(dataset, people_ids)"
      ]
    },
    {
      "cell_type": "code",
      "execution_count": 4,
      "metadata": {
        "colab": {
          "base_uri": "https://localhost:8080/"
        },
        "id": "F3I_Z39rKV86",
        "outputId": "42b8a9df-fa14-48fd-f6a1-99702d3d6fae"
      },
      "outputs": [
        {
          "data": {
            "text/plain": [
              "4478"
            ]
          },
          "execution_count": 4,
          "metadata": {},
          "output_type": "execute_result"
        }
      ],
      "source": [
        "len(people_set)"
      ]
    },
    {
      "cell_type": "code",
      "execution_count": 5,
      "metadata": {
        "colab": {
          "base_uri": "https://localhost:8080/",
          "height": 468
        },
        "id": "WdCapnXqCwwk",
        "outputId": "61b472ad-9c5b-4874-a09c-8220e67fe401"
      },
      "outputs": [
        {
          "name": "stderr",
          "output_type": "stream",
          "text": [
            "Clipping input data to the valid range for imshow with RGB data ([0..1] for floats or [0..255] for integers).\n"
          ]
        },
        {
          "data": {
            "text/plain": [
              "<matplotlib.image.AxesImage at 0x7fc414f7e700>"
            ]
          },
          "execution_count": 5,
          "metadata": {},
          "output_type": "execute_result"
        },
        {
          "data": {
            "image/png": "[encoded data removed]",
            "text/plain": [
              "<Figure size 640x480 with 1 Axes>"
            ]
          },
          "metadata": {},
          "output_type": "display_data"
        }
      ],
      "source": [
        "plt.imshow(people_set[1][0].permute(1, 2, 0))"
      ]
    },
    {
      "cell_type": "markdown",
      "metadata": {
        "id": "1NW6T1HfKV86"
      },
      "source": [
        "### Модель\n",
        "\n",
        "Ниже определен класс для используемое модели. Для удобства обучения мы работаем с библиотекой pytorhc_lightning и испольщуем класс ```pl.LightningModule```."
      ]
    },
    {
      "cell_type": "code",
      "execution_count": 6,
      "metadata": {
        "id": "Dzx-6j_FfWJC"
      },
      "outputs": [],
      "source": [
        "#class DummyArcFaceLoss(torch.nn.Module):\n",
        "#  def __init__(self, m = 0.5, s = 30.0, num_classes = 8):\n",
        "#    super(DummyArcFaceLoss, self).__init__()\n",
        "#    self.m = torch.tensor(m)\n",
        "#    self.s = torch.tensor(s)\n",
        "#    self.nc = num_classes\n",
        "#  def forward(self, logits, target):\n",
        "#    tar_OH = F.one_hot(target, num_classes=self.nc)\n",
        "#    log_sum = (torch.exp(logits*self.s) * (1. - tar_OH)).sum(dim = 1)\n",
        "#    log_true = (torch.exp(logits*self.s) * tar_OH).sum(dim = 1)\n",
        "#    arc_loss = - (torch.log(log_true/(log_true + log_sum))).mean()\n",
        "#    return arc_loss"
      ]
    },
    {
      "cell_type": "code",
      "execution_count": 7,
      "metadata": {
        "colab": {
          "base_uri": "https://localhost:8080/"
        },
        "id": "J4Ju2Ga15IRV",
        "outputId": "611dc51b-d82a-4954-ba23-3ff5e258d828"
      },
      "outputs": [],
      "source": [
        "#torch.clamp(torch.tensor(4), min = -1., max = 1.)"
      ]
    },
    {
      "cell_type": "code",
      "execution_count": 8,
      "metadata": {
        "id": "B7UIJx7abGUd"
      },
      "outputs": [],
      "source": [
        "class ArcFaceLoss(torch.nn.Module):\n",
        "  def __init__(self, m = 0.5, s = 30.0, num_classes = 8):\n",
        "    super(ArcFaceLoss, self).__init__()\n",
        "    self.m = torch.tensor(m)\n",
        "    self.s = torch.tensor(s)\n",
        "    self.nc = num_classes\n",
        "  def forward(self, logits, target):\n",
        "    tar_OH = F.one_hot(target, num_classes=self.nc)\n",
        "    log_sum = (torch.exp(logits*self.s) * (1. - tar_OH)).sum(dim = 1)\n",
        "    print(\"number of logits with norm larger or equal than 1: \", len(logits[abs(logits) >= 1.]))\n",
        "    arccos = (torch.arccos(torch.clamp(logits, min = -1., max = 1.))*tar_OH).sum(dim = 1)\n",
        "    cos_of_sum = torch.cos(arccos + self.m)*self.s\n",
        "    log_true = torch.exp(cos_of_sum)\n",
        "    arc_loss = - (cos_of_sum - torch.log(log_true + log_sum + 1e-5)).mean()\n",
        "    return arc_loss\n",
        "class MyArcFaceLoss(torch.nn.Module):\n",
        "    def __init__(self, m = 0.5, s = 30.0, num_classes = 8):\n",
        "        super(MyArcFaceLoss, self).__init__()\n",
        "        self.m = torch.tensor(m)\n",
        "        self.s = torch.tensor(s)\n",
        "        self.nc = num_classes\n",
        "    def forward(self, logits, target):\n",
        "        logits = logits.clamp(-0.999, 0.999)\n",
        "        tar_OH = F.one_hot(target, num_classes=self.nc)\n",
        "        logits_with_true_class = logits[torch.where(tar_OH)]\n",
        "        logits_with_other_class = logits[torch.where(tar_OH==0)].reshape(logits.shape[0], logits.shape[1]-1)\n",
        "        exp_with_other_class = torch.exp(logits_with_other_class*self.s)\n",
        "        angle_with_true_class = torch.arccos(logits_with_true_class)\n",
        "        exp_with_true_class = torch.exp(torch.cos(angle_with_true_class + self.m)*self.s)\n",
        "\n",
        "        arc_loss = -torch.log(exp_with_true_class / (torch.sum(exp_with_other_class, dim=1) + exp_with_true_class)).mean()\n",
        "        return arc_loss"
      ]
    },
    {
      "cell_type": "code",
      "execution_count": 9,
      "metadata": {
        "id": "AVJkvsBjKV86"
      },
      "outputs": [],
      "source": [
        "class MetricLearningModel(pl.LightningModule):\n",
        "    \"\"\"Lightning wrapper for a Metric Learning model.\"\"\"\n",
        "    def __init__(\n",
        "        self, backbone: torch.nn.Module, loss: torch.nn.Module, num_labels: int\n",
        "    ) -> None:\n",
        "        \"\"\"Initialize MetricLearningModel.\n",
        "\n",
        "        :param backbone: core deef model to be trained\n",
        "        :param loss: loss function to be used\n",
        "        :param num_labels: number of target classes (people)\n",
        "        \"\"\"\n",
        "        super().__init__()\n",
        "\n",
        "        self.backbone = backbone\n",
        "        self.loss = loss\n",
        "\n",
        "        # parameters of the last linear layer initialized by the 'kaiming_uniform_'\n",
        "        self.softmax_weights = torch.nn.Parameter(torch.empty((num_labels, 2)))\n",
        "        torch.nn.init.kaiming_uniform_(self.softmax_weights, a=math.sqrt(5))\n",
        "\n",
        "    def forward(self, x: torch.Tensor) -> Tuple[torch.Tensor, torch.Tensor]:\n",
        "        \"\"\"Forward pass through the model.\n",
        "\n",
        "        :param x: batch of images\n",
        "        :return a tuple of:\n",
        "            - features: outputs of the backbone model a.k.a. embeddings\n",
        "            - logits: result of the last linear transformations\n",
        "        \"\"\"\n",
        "        backbone_outputs = self.backbone(x)\n",
        "        features = backbone_outputs[\"feature\"]\n",
        "        norm_weights = F.normalize(self.softmax_weights, dim=1)\n",
        "        logits = F.linear(features, norm_weights)\n",
        "        return features, logits\n",
        "\n",
        "    def training_step(self, batch: Tuple[torch.Tensor, torch.Tensor]) -> torch.Tensor:\n",
        "        \"\"\"Do a training step of the model.\n",
        "\n",
        "        :param batch: batch of input images\n",
        "        :return: value of the loss function\n",
        "        \"\"\"\n",
        "        images, labels = batch\n",
        "        \n",
        "        features, logits = self(images)\n",
        "        loss = self.loss(logits, labels)\n",
        "        # log loss value\n",
        "        self.log(\"train_loss\", loss.item(), prog_bar=True)\n",
        "        return loss\n",
        "\n",
        "    def configure_optimizers(self) -> Dict[str, torch.optim.Optimizer]:\n",
        "        params = list(self.parameters()) #+ [self.softmax_weights] #list(self.linear_norm.parameters())\n",
        "        optimizer = torch.optim.AdamW(params, lr=1e-4, weight_decay=5e-5)\n",
        "        return {\n",
        "            \"optimizer\": optimizer,\n",
        "        }"
      ]
    },
    {
      "cell_type": "markdown",
      "metadata": {
        "id": "T1JShlc_KV87"
      },
      "source": [
        "### Инициализация модели\n",
        "\n",
        "В качестве backbone-модели предлагается использовать глубокую сверточную сеть iResNet50. С ее арзитектурой можно ознакомиться в модуле ```iresent.py```.\n",
        "В первом эксперименте мы используем стандартную функцию потерь SoftMax, определенную в ```torch.nn```.\n",
        "Для удобства визуализации мы используем пространство представлений размерности $2$ (```num_features=2```)."
      ]
    },
    {
      "cell_type": "code",
      "execution_count": 10,
      "metadata": {
        "id": "8RxRV_S8z2Ll"
      },
      "outputs": [],
      "source": [
        "from iresnet import iresnet50_normalized\n",
        "backbone_model = iresnet50_normalized(num_features=2)\n",
        "arcface_loss = MyArcFaceLoss(s=5) #ArcFaceLoss() # \n",
        "\n",
        "arcface_model = MetricLearningModel(backbone_model, arcface_loss, num_labels = num_people)"
      ]
    },
    {
      "cell_type": "markdown",
      "metadata": {
        "id": "8txGw0hOKV87"
      },
      "source": [
        "### Обучение модели\n",
        "\n",
        "Определяем стандартные гиперпараметры и обучаем модель в течение 20 эпох.\n",
        "Для обучения используем интерфейс ```pytorch_lightning```."
      ]
    },
    {
      "cell_type": "code",
      "execution_count": 11,
      "metadata": {
        "id": "wdt6w9lSKV87"
      },
      "outputs": [],
      "source": [
        "batch_size = 128\n",
        "num_workers = 2\n",
        "max_epochs = 15"
      ]
    },
    {
      "cell_type": "code",
      "execution_count": 12,
      "metadata": {
        "colab": {
          "base_uri": "https://localhost:8080/",
          "height": 1000,
          "referenced_widgets": [
            "b9712f0b512143498e75fe977a1a8177",
            "5c1551b54c5749ee89baada631b94af3",
            "566d01d80d874ad9a575600b6e10a04c",
            "8b79b5ca261f4fb090f1441b4dc4df5a",
            "eab59f674847483686674b95eb2e0387",
            "2605d193f4f54be1a4bf15edd7de27cc",
            "0ca6ba714f144801a0a388bf242bc958",
            "b6e85a51159c49ea895092345f275fb5",
            "bb95dd86f88948af9df7237b3d37b2c9",
            "6c360a70a685485a85e191223d9f60cf",
            "01a0bf83c00e454e9004ac303fa67fc1"
          ]
        },
        "id": "q0n0qoGa0SIJ",
        "outputId": "a086ba75-d749-4c2a-bbde-320abaae0931"
      },
      "outputs": [
        {
          "name": "stderr",
          "output_type": "stream",
          "text": [
            "GPU available: True (cuda), used: True\n",
            "TPU available: False, using: 0 TPU cores\n",
            "IPU available: False, using: 0 IPUs\n",
            "HPU available: False, using: 0 HPUs\n",
            "You are using a CUDA device ('NVIDIA A10') that has Tensor Cores. To properly utilize them, you should set `torch.set_float32_matmul_precision('medium' | 'high')` which will trade-off precision for performance. For more details, read https://pytorch.org/docs/stable/generated/torch.set_float32_matmul_precision.html#torch.set_float32_matmul_precision\n",
            "LOCAL_RANK: 0 - CUDA_VISIBLE_DEVICES: [0,1]\n",
            "\n",
            "  | Name     | Type          | Params\n",
            "-------------------------------------------\n",
            "0 | backbone | IResNetNorm   | 30.8 M\n",
            "1 | loss     | MyArcFaceLoss | 0     \n",
            "-------------------------------------------\n",
            "30.8 M    Trainable params\n",
            "2         Non-trainable params\n",
            "30.8 M    Total params\n",
            "123.178   Total estimated model params size (MB)\n"
          ]
        },
        {
          "name": "stdout",
          "output_type": "stream",
          "text": [
            "Epoch 0:   0%|          | 0/34 [00:00<?, ?it/s] "
          ]
        },
        {
          "name": "stderr",
          "output_type": "stream",
          "text": [
            "/home/erlygin/miniconda/lib/python3.9/site-packages/pytorch_lightning/trainer/connectors/data_connector.py:430: PossibleUserWarning: The dataloader, train_dataloader, does not have many workers which may be a bottleneck. Consider increasing the value of the `num_workers` argument` (try 88 which is the number of cpus on this machine) in the `DataLoader` init to improve performance.\n",
            "  rank_zero_warn(\n",
            "/home/erlygin/miniconda/lib/python3.9/site-packages/pytorch_lightning/loops/fit_loop.py:280: PossibleUserWarning: The number of training batches (34) is smaller than the logging interval Trainer(log_every_n_steps=50). Set a lower value for log_every_n_steps if you want to see logs for the training epoch.\n",
            "  rank_zero_warn(\n"
          ]
        },
        {
          "name": "stdout",
          "output_type": "stream",
          "text": [
            "Epoch 14: 100%|██████████| 34/34 [00:58<00:00,  1.72s/it, v_num=46, train_loss=1.380]"
          ]
        },
        {
          "name": "stderr",
          "output_type": "stream",
          "text": [
            "`Trainer.fit` stopped: `max_epochs=15` reached.\n"
          ]
        },
        {
          "name": "stdout",
          "output_type": "stream",
          "text": [
            "Epoch 14: 100%|██████████| 34/34 [00:59<00:00,  1.75s/it, v_num=46, train_loss=1.380]\n"
          ]
        }
      ],
      "source": [
        "# initialize trainer, use one GPU for training\n",
        "trainer = Trainer(\n",
        "    max_epochs=max_epochs,\n",
        "    default_root_dir=\"outputs/softmax_train\",\n",
        "    accelerator=\"gpu\",\n",
        "    devices=1\n",
        ")\n",
        "\n",
        "# create train dataloader\n",
        "train_dataloader = DataLoader(\n",
        "    people_set,\n",
        "    batch_size,\n",
        "    shuffle=True,\n",
        "    drop_last=True,\n",
        "    num_workers=num_workers,\n",
        ")\n",
        "\n",
        "# fit the model\n",
        "trainer.fit(arcface_model, train_dataloader)"
      ]
    },
    {
      "cell_type": "markdown",
      "metadata": {
        "id": "iwkVPVzoKV87"
      },
      "source": [
        "### Получение представлений\n",
        "\n",
        "Ниже приведена функция для получения представлений изображений из ```test_dataloader```."
      ]
    },
    {
      "cell_type": "code",
      "execution_count": 13,
      "metadata": {
        "id": "Ell1avCsKV87"
      },
      "outputs": [],
      "source": [
        "def predict_features(\n",
        "    model: pl.LightningModule, test_dataloader: DataLoader, device: str = \"cuda\"\n",
        ") -> Tuple[np.array, np.array]:\n",
        "    \"\"\"Transform images and get their embeddings.\n",
        "\n",
        "    :param model: trained MetricLearningModel\n",
        "    :param test_dataloader: DataLoader with images to be transformed\n",
        "    :param device: 'gpu' or 'cuda', if available\n",
        "    :return a tuple of:\n",
        "        - numpy array with obtained features\n",
        "        - true image labels (people id's)\n",
        "    \"\"\"\n",
        "    model.to(device)\n",
        "\n",
        "    # switch model to 'eval' mode: disable randomness, dropout, etc.\n",
        "    model.eval()\n",
        "\n",
        "    predicted_features = []\n",
        "    image_labels = []\n",
        "\n",
        "    for images, labels in tqdm(test_dataloader):\n",
        "        images = images.to(device)\n",
        "        features, _ = model(images)\n",
        "        features = features.detach().cpu().numpy()\n",
        "        labels = labels.numpy()\n",
        "        predicted_features.append(features)\n",
        "        image_labels.append(labels)\n",
        "\n",
        "    predicted_features = np.concatenate(predicted_features)\n",
        "    image_labels = np.concatenate(image_labels)\n",
        "\n",
        "    return predicted_features, image_labels"
      ]
    },
    {
      "cell_type": "code",
      "execution_count": 14,
      "metadata": {
        "id": "b277OifKKV88"
      },
      "outputs": [],
      "source": [
        "num_people = 8\n",
        "\n",
        "dataset = ArcFaceDataset(path_to_data, num_labels=num_people, test=True)\n",
        "people_ids = np.where(np.isin(dataset.labels, dataset.top_labels))[0]\n",
        "people_set = torch.utils.data.Subset(dataset, people_ids)\n",
        "\n",
        "test_dataloader = DataLoader(\n",
        "    people_set,\n",
        "    batch_size=16,\n",
        "    shuffle=False,\n",
        "    drop_last=False,\n",
        "    num_workers=num_workers,\n",
        ")\n",
        "\n",
        "#predicted_features, image_labels = predict_features(softmax_model, test_dataloader)"
      ]
    },
    {
      "cell_type": "code",
      "execution_count": 15,
      "metadata": {
        "colab": {
          "base_uri": "https://localhost:8080/"
        },
        "id": "5ym1pR_C10Qh",
        "outputId": "16fd3cd6-c34f-45a3-8a07-b68940e7edb6"
      },
      "outputs": [
        {
          "name": "stderr",
          "output_type": "stream",
          "text": [
            "100%|██████████| 280/280 [00:17<00:00, 15.67it/s]\n"
          ]
        }
      ],
      "source": [
        "predicted_features, image_labels = predict_features(arcface_model, test_dataloader)"
      ]
    },
    {
      "cell_type": "code",
      "execution_count": 16,
      "metadata": {
        "colab": {
          "base_uri": "https://localhost:8080/"
        },
        "id": "LU3cl4zf39tg",
        "outputId": "bc2fb988-c201-4a53-8e64-bd31f6beb61b"
      },
      "outputs": [
        {
          "data": {
            "text/plain": [
              "array([[ 0.9561469 , -0.29288748],\n",
              "       [ 0.9220138 , -0.38715693],\n",
              "       [ 0.9979909 , -0.06335667],\n",
              "       ...,\n",
              "       [-0.99751955, -0.07038987],\n",
              "       [-0.99950767, -0.03137751],\n",
              "       [-0.9940095 ,  0.10929406]], dtype=float32)"
            ]
          },
          "execution_count": 16,
          "metadata": {},
          "output_type": "execute_result"
        }
      ],
      "source": [
        "predicted_features"
      ]
    },
    {
      "cell_type": "markdown",
      "metadata": {
        "id": "ysgrdj3LKV88"
      },
      "source": [
        "### Визуализация 2-мерных представлений"
      ]
    },
    {
      "cell_type": "code",
      "execution_count": 17,
      "metadata": {
        "id": "XNlRP1veKV88"
      },
      "outputs": [],
      "source": [
        "colors = list(mcolors.TABLEAU_COLORS)[:num_people]\n",
        "\n",
        "softmax_weights = arcface_model.softmax_weights.detach().cpu()\n",
        "softmax_weights = F.normalize(softmax_weights, dim=1).numpy()"
      ]
    },
    {
      "cell_type": "code",
      "execution_count": 18,
      "metadata": {
        "colab": {
          "base_uri": "https://localhost:8080/",
          "height": 499
        },
        "id": "CvhlwlMdKV88",
        "outputId": "2aa517d3-18d0-4ee2-b0ff-3e93df98b992"
      },
      "outputs": [
        {
          "data": {
            "image/png": "[encoded data removed]",
            "text/plain": [
              "<Figure size 600x600 with 1 Axes>"
            ]
          },
          "metadata": {},
          "output_type": "display_data"
        }
      ],
      "source": [
        "plt.figure(figsize=(6, 6))\n",
        "for i, (weight, color) in enumerate(zip(softmax_weights, colors)):\n",
        "    points = predicted_features[image_labels == i]\n",
        "    x, y = [0, weight[0]], [0, weight[1]]\n",
        "    plt.plot(x, y, marker=\"\", c=color)\n",
        "    plt.scatter(points[:, 0], points[:, 1], color=color, s=3)\n",
        "    if i == (num_people - 1):\n",
        "        break\n",
        "plt.gca().set_aspect(\"equal\")\n",
        "plt.axis(\"off\")\n",
        "plt.show()"
      ]
    },
    {
      "cell_type": "code",
      "execution_count": 19,
      "metadata": {
        "colab": {
          "base_uri": "https://localhost:8080/",
          "height": 499
        },
        "id": "8Jo1twVY3Psa",
        "outputId": "03f816f2-febc-4c22-dd3e-82976914ffde"
      },
      "outputs": [],
      "source": [
        "# plt.figure(figsize=(6, 6))\n",
        "# for i, (weight, color) in enumerate(zip(softmax_weights, colors)):\n",
        "#     points = predicted_features[image_labels == i]\n",
        "#     x, y = [0, weight[0]], [0, weight[1]]\n",
        "#     plt.plot(x, y, marker=\"\", c=color)\n",
        "#     plt.scatter(points[:, 0], points[:, 1], color=color, s=3)\n",
        "#     if i == (num_people - 1):\n",
        "#         break\n",
        "# plt.gca().set_aspect(\"equal\")\n",
        "# plt.axis(\"off\")\n",
        "# plt.show()"
      ]
    },
    {
      "cell_type": "markdown",
      "metadata": {
        "id": "162G4RZPKV88"
      },
      "source": [
        "## Решение"
      ]
    },
    {
      "cell_type": "code",
      "execution_count": null,
      "metadata": {
        "id": "SR2bx-GNKV88"
      },
      "outputs": [],
      "source": [
        "class ArcFaceLoss(torch.nn.Module):\n",
        "  def __init__(self, m = 0.5, s = 10.0, num_classes = 8):\n",
        "    super(ArcFaceLoss, self).__init__()\n",
        "    self.m = torch.tensor(m)\n",
        "    self.s = torch.tensor(s)\n",
        "    self.nc = num_classes\n",
        "  def forward(self, logits, target):\n",
        "    tar_OH = F.one_hot(target, num_classes=self.nc)\n",
        "    log_sum = (torch.exp(logits*self.s) - torch.exp(logits*self.s)*tar_OH).sum(axis = 1)\n",
        "    cos_of_sum = (logits*torch.cos(self.m) - (torch.where(torch.abs(logits) < 1, (1 - logits**2)**0.5, 0.))*torch.sin(self.m))*self.s\n",
        "    log_true = (torch.exp(cos_of_sum)*tar_OH).sum(axis = 1)\n",
        "    arc_loss = - torch.log(log_true / (log_true + log_sum + 0.0001)).mean()\n",
        "    return arc_loss"
      ]
    },
    {
      "cell_type": "code",
      "execution_count": null,
      "metadata": {
        "id": "zrTK1NuJ5i5a"
      },
      "outputs": [],
      "source": [
        "logits = torch.tensor(\n",
        "    [\n",
        "        [0.9, 0.1, -0.1],\n",
        "        [0.0, 0.8, 0.1],\n",
        "        [-0.5, -0.1, 0.5]\n",
        "    ]\n",
        ")"
      ]
    },
    {
      "cell_type": "code",
      "execution_count": null,
      "metadata": {
        "id": "xDjWvx7q50SE"
      },
      "outputs": [],
      "source": [
        "target = torch.tensor([0, 1, 2])"
      ]
    },
    {
      "cell_type": "code",
      "execution_count": null,
      "metadata": {
        "id": "dUBvMBIs54x_"
      },
      "outputs": [],
      "source": [
        "arc_loss = ArcFaceLoss(num_classes = 3)"
      ]
    },
    {
      "cell_type": "code",
      "execution_count": null,
      "metadata": {
        "colab": {
          "base_uri": "https://localhost:8080/"
        },
        "id": "YZgaqizU5_7z",
        "outputId": "fb2681c9-e9e4-4e93-9315-1c5bcfd98e78"
      },
      "outputs": [
        {
          "data": {
            "text/plain": [
              "tensor(0.1086)"
            ]
          },
          "execution_count": 163,
          "metadata": {},
          "output_type": "execute_result"
        }
      ],
      "source": [
        "arc_loss(logits, target)"
      ]
    },
    {
      "cell_type": "markdown",
      "metadata": {
        "id": "NyVW95TsKV88"
      },
      "source": [
        "## Выводы"
      ]
    },
    {
      "cell_type": "code",
      "execution_count": null,
      "metadata": {
        "id": "5jFDZ1nd8EBO"
      },
      "outputs": [],
      "source": []
    },
    {
      "cell_type": "code",
      "execution_count": 13,
      "metadata": {
        "id": "5uMgzMlh8Eiy"
      },
      "outputs": [],
      "source": [
        "import torch\n",
        "from torch import nn\n",
        "import torch.nn.functional as F\n",
        "from torch.nn.utils import spectral_norm\n",
        "\n",
        "\n",
        "__all__ = [\"iresnet18\", \"iresnet34\", \"iresnet50\", \"iresnet100\"]\n",
        "\n",
        "\n",
        "def add_sn(m, n_power_iterations=3):\n",
        "    if isinstance(m, (nn.Conv2d, nn.Linear)):\n",
        "        # print(dir(m))\n",
        "        return spectral_norm(m, n_power_iterations=n_power_iterations)\n",
        "    else:\n",
        "        return m\n",
        "\n",
        "\n",
        "def conv3x3(in_planes, out_planes, stride=1, groups=1, dilation=1):\n",
        "    \"\"\"3x3 convolution with padding\"\"\"\n",
        "    return nn.Conv2d(\n",
        "        in_planes,\n",
        "        out_planes,\n",
        "        kernel_size=3,\n",
        "        stride=stride,\n",
        "        padding=dilation,\n",
        "        groups=groups,\n",
        "        bias=False,\n",
        "        dilation=dilation,\n",
        "    )\n",
        "\n",
        "\n",
        "def conv1x1(in_planes, out_planes, stride=1):\n",
        "    \"\"\"1x1 convolution\"\"\"\n",
        "    return nn.Conv2d(in_planes, out_planes, kernel_size=1, stride=stride, bias=False)\n",
        "\n",
        "\n",
        "class IBasicBlock(nn.Module):\n",
        "    expansion = 1\n",
        "\n",
        "    def __init__(\n",
        "        self,\n",
        "        inplanes,\n",
        "        planes,\n",
        "        stride=1,\n",
        "        downsample=None,\n",
        "        groups=1,\n",
        "        base_width=64,\n",
        "        dilation=1,\n",
        "    ):\n",
        "        super(IBasicBlock, self).__init__()\n",
        "        if groups != 1 or base_width != 64:\n",
        "            raise ValueError(\"BasicBlock only supports groups=1 and base_width=64\")\n",
        "        if dilation > 1:\n",
        "            raise NotImplementedError(\"Dilation > 1 not supported in BasicBlock\")\n",
        "        self.bn1 = nn.BatchNorm2d(\n",
        "            inplanes,\n",
        "            eps=1e-05,\n",
        "        )\n",
        "        self.conv1 = conv3x3(inplanes, planes)\n",
        "        self.bn2 = nn.BatchNorm2d(\n",
        "            planes,\n",
        "            eps=1e-05,\n",
        "        )\n",
        "        self.prelu = nn.PReLU(planes)\n",
        "        self.conv2 = conv3x3(planes, planes, stride)\n",
        "        self.bn3 = nn.BatchNorm2d(\n",
        "            planes,\n",
        "            eps=1e-05,\n",
        "        )\n",
        "        self.downsample = downsample\n",
        "        self.stride = stride\n",
        "\n",
        "    def forward(self, x):\n",
        "        identity = x\n",
        "        out = self.bn1(x)\n",
        "        out = self.conv1(out)\n",
        "        out = self.bn2(out)\n",
        "        out = self.prelu(out)\n",
        "        out = self.conv2(out)\n",
        "        out = self.bn3(out)\n",
        "        if self.downsample is not None:\n",
        "            identity = self.downsample(x)\n",
        "        out += identity\n",
        "        return out\n",
        "\n",
        "\n",
        "class IResNet(nn.Module):\n",
        "    fc_scale = 7 * 7\n",
        "\n",
        "    def __init__(\n",
        "        self,\n",
        "        block,\n",
        "        layers,\n",
        "        dropout=0,\n",
        "        num_features=512,\n",
        "        zero_init_residual=False,\n",
        "        groups=1,\n",
        "        width_per_group=64,\n",
        "        replace_stride_with_dilation=None,\n",
        "        fp16=False,\n",
        "        learnable=True,\n",
        "    ):\n",
        "        super(IResNet, self).__init__()\n",
        "        self.fp16 = fp16\n",
        "        self.inplanes = 64\n",
        "        self.dilation = 1\n",
        "        if replace_stride_with_dilation is None:\n",
        "            replace_stride_with_dilation = [False, False, False]\n",
        "        if len(replace_stride_with_dilation) != 3:\n",
        "            raise ValueError(\n",
        "                \"replace_stride_with_dilation should be None \"\n",
        "                \"or a 3-element tuple, got {}\".format(replace_stride_with_dilation)\n",
        "            )\n",
        "        self.groups = groups\n",
        "        self.base_width = width_per_group\n",
        "        self.conv1 = nn.Conv2d(\n",
        "            3, self.inplanes, kernel_size=3, stride=1, padding=1, bias=False\n",
        "        )\n",
        "        self.bn1 = nn.BatchNorm2d(self.inplanes, eps=1e-05)\n",
        "        self.prelu = nn.PReLU(self.inplanes)\n",
        "        self.layer1 = self._make_layer(block, 64, layers[0], stride=2)\n",
        "        self.layer2 = self._make_layer(\n",
        "            block, 128, layers[1], stride=2, dilate=replace_stride_with_dilation[0]\n",
        "        )\n",
        "        self.layer3 = self._make_layer(\n",
        "            block, 256, layers[2], stride=2, dilate=replace_stride_with_dilation[1]\n",
        "        )\n",
        "        self.layer4 = self._make_layer(\n",
        "            block, 512, layers[3], stride=2, dilate=replace_stride_with_dilation[2]\n",
        "        )\n",
        "        self.bn2 = nn.BatchNorm2d(\n",
        "            512 * block.expansion,\n",
        "            eps=1e-05,\n",
        "        )\n",
        "        self.dropout = nn.Dropout(p=dropout, inplace=True)\n",
        "        self.fc = nn.Linear(512 * block.expansion * self.fc_scale, num_features)\n",
        "        self.features = nn.BatchNorm1d(num_features, eps=1e-05)\n",
        "        nn.init.constant_(self.features.weight, 1.0)\n",
        "        self.features.weight.requires_grad = False\n",
        "\n",
        "        for m in self.modules():\n",
        "            if isinstance(m, nn.Conv2d):\n",
        "                nn.init.normal_(m.weight, 0, 0.1)\n",
        "            elif isinstance(m, (nn.BatchNorm2d, nn.GroupNorm)):\n",
        "                nn.init.constant_(m.weight, 1)\n",
        "                nn.init.constant_(m.bias, 0)\n",
        "\n",
        "        if zero_init_residual:\n",
        "            for m in self.modules():\n",
        "                if isinstance(m, IBasicBlock):\n",
        "                    nn.init.constant_(m.bn2.weight, 0)\n",
        "\n",
        "        if learnable is False:\n",
        "            for p in self.modules():\n",
        "                p.requires_grad = False\n",
        "\n",
        "    def _make_layer(self, block, planes, blocks, stride=1, dilate=False):\n",
        "        downsample = None\n",
        "        previous_dilation = self.dilation\n",
        "        if dilate:\n",
        "            self.dilation *= stride\n",
        "            stride = 1\n",
        "        if stride != 1 or self.inplanes != planes * block.expansion:\n",
        "            downsample = nn.Sequential(\n",
        "                conv1x1(self.inplanes, planes * block.expansion, stride),\n",
        "                nn.BatchNorm2d(\n",
        "                    planes * block.expansion,\n",
        "                    eps=1e-05,\n",
        "                ),\n",
        "            )\n",
        "        layers = []\n",
        "        layers.append(\n",
        "            block(\n",
        "                self.inplanes,\n",
        "                planes,\n",
        "                stride,\n",
        "                downsample,\n",
        "                self.groups,\n",
        "                self.base_width,\n",
        "                previous_dilation,\n",
        "            )\n",
        "        )\n",
        "        self.inplanes = planes * block.expansion\n",
        "        for _ in range(1, blocks):\n",
        "            layers.append(\n",
        "                block(\n",
        "                    self.inplanes,\n",
        "                    planes,\n",
        "                    groups=self.groups,\n",
        "                    base_width=self.base_width,\n",
        "                    dilation=self.dilation,\n",
        "                )\n",
        "            )\n",
        "\n",
        "        return nn.Sequential(*layers)\n",
        "\n",
        "    def forward(self, x):\n",
        "        with torch.cuda.amp.autocast(self.fp16):\n",
        "            x = self.conv1(x)\n",
        "            x = self.bn1(x)\n",
        "            x = self.prelu(x)\n",
        "            x = self.layer1(x)\n",
        "            x = self.layer2(x)\n",
        "            x = self.layer3(x)\n",
        "            x = self.layer4(x)\n",
        "            x = self.bn2(x)\n",
        "            x = torch.flatten(x, 1)\n",
        "            x = self.dropout(x)\n",
        "        sig_x = x.float() if self.fp16 else x\n",
        "        x = self.fc(x.float() if self.fp16 else x)\n",
        "        x = self.features(x)\n",
        "        output = {\n",
        "            \"feature\": x,\n",
        "            \"bottleneck_feature\": sig_x,\n",
        "        }\n",
        "        return output\n",
        "\n",
        "\n",
        "class IResNetNorm(IResNet):\n",
        "    def forward(self, x):\n",
        "        res = super(IResNetNorm, self).forward(x)\n",
        "        res[\"feature\"] = F.normalize(res[\"feature\"], p=2.0, dim=1)\n",
        "        return res\n",
        "\n",
        "\n",
        "class IResNetSpectral(IResNet):\n",
        "    def __init__(self, *args, n_power_iterations=3, **kwargs):\n",
        "        super(IResNetSpectral, self).__init__(*args, **kwargs)\n",
        "        self.apply(lambda m: add_sn(m, n_power_iterations=n_power_iterations))\n",
        "\n",
        "\n",
        "class IResNetNormSpectral(IResNetNorm):\n",
        "    def __init__(self, *args, n_power_iterations=3, **kwargs):\n",
        "        super(IResNetNormSpectral, self).__init__(*args, **kwargs)\n",
        "        self.apply(lambda m: add_sn(m, n_power_iterations=n_power_iterations))\n",
        "\n",
        "\n",
        "def _iresnet(arch, block, layers, pretrained, progress, **kwargs):\n",
        "    model = IResNet(block, layers, **kwargs)\n",
        "    if pretrained:\n",
        "        raise ValueError()\n",
        "    return model\n",
        "\n",
        "\n",
        "def _iresnet_normalized(arch, block, layers, pretrained, progress, **kwargs):\n",
        "    model = IResNetNorm(block, layers, **kwargs)\n",
        "    if pretrained:\n",
        "        raise ValueError()\n",
        "    return model\n",
        "\n",
        "\n",
        "def _iresnet_spectral(arch, block, layers, pretrained, progress, **kwargs):\n",
        "    model = IResNetSpectral(block, layers, **kwargs)\n",
        "    if pretrained:\n",
        "        raise ValueError()\n",
        "    return model\n",
        "\n",
        "\n",
        "def _iresnet_spectral_normalized(arch, block, layers, pretrained, progress, **kwargs):\n",
        "    model = IResNetNormSpectral(block, layers, **kwargs)\n",
        "    if pretrained:\n",
        "        raise ValueError()\n",
        "    return model\n",
        "\n",
        "\n",
        "def iresnet18(pretrained=False, progress=True, **kwargs):\n",
        "    return _iresnet(\n",
        "        \"iresnet18\", IBasicBlock, [2, 2, 2, 2], pretrained, progress, **kwargs\n",
        "    )\n",
        "\n",
        "\n",
        "def iresnet34(pretrained=False, progress=True, **kwargs):\n",
        "    return _iresnet(\n",
        "        \"iresnet34\", IBasicBlock, [3, 4, 6, 3], pretrained, progress, **kwargs\n",
        "    )\n",
        "\n",
        "\n",
        "def iresnet50(pretrained=False, progress=True, **kwargs):\n",
        "    return _iresnet(\n",
        "        \"iresnet50\", IBasicBlock, [3, 4, 14, 3], pretrained, progress, **kwargs\n",
        "    )\n",
        "\n",
        "\n",
        "def iresnet100(pretrained=False, progress=True, **kwargs):\n",
        "    return _iresnet(\n",
        "        \"iresnet100\", IBasicBlock, [3, 13, 30, 3], pretrained, progress, **kwargs\n",
        "    )\n",
        "\n",
        "\n",
        "def iresnet50_normalized(pretrained=False, progress=True, **kwargs):\n",
        "    return _iresnet_normalized(\n",
        "        \"iresnet50\", IBasicBlock, [3, 4, 14, 3], pretrained, progress, **kwargs\n",
        "    )\n",
        "\n",
        "\n",
        "def iresnet50_spectral_normalized(pretrained=False, progress=True, **kwargs):\n",
        "    return _iresnet_spectral_normalized(\n",
        "        \"iresnet50\", IBasicBlock, [3, 4, 14, 3], pretrained, progress, **kwargs\n",
        "    )"
      ]
    },
    {
      "cell_type": "code",
      "execution_count": null,
      "metadata": {
        "id": "1RAAniSQ8Fx4"
      },
      "outputs": [],
      "source": []
    }
  ],
  "metadata": {
    "accelerator": "GPU",
    "colab": {
      "gpuType": "T4",
      "provenance": []
    },
    "kernelspec": {
      "display_name": "Python 3",
      "name": "python3"
    },
    "language_info": {
      "codemirror_mode": {
        "name": "ipython",
        "version": 3
      },
      "file_extension": ".py",
      "mimetype": "text/x-python",
      "name": "python",
      "nbconvert_exporter": "python",
      "pygments_lexer": "ipython3",
      "version": "3.9.7"
    },
    "widgets": {
      "application/vnd.jupyter.widget-state+json": {
        "01a0bf83c00e454e9004ac303fa67fc1": {
          "model_module": "@jupyter-widgets/controls",
          "model_module_version": "1.5.0",
          "model_name": "DescriptionStyleModel",
          "state": {
            "_model_module": "@jupyter-widgets/controls",
            "_model_module_version": "1.5.0",
            "_model_name": "DescriptionStyleModel",
            "_view_count": null,
            "_view_module": "@jupyter-widgets/base",
            "_view_module_version": "1.2.0",
            "_view_name": "StyleView",
            "description_width": ""
          }
        },
        "0ca6ba714f144801a0a388bf242bc958": {
          "model_module": "@jupyter-widgets/controls",
          "model_module_version": "1.5.0",
          "model_name": "DescriptionStyleModel",
          "state": {
            "_model_module": "@jupyter-widgets/controls",
            "_model_module_version": "1.5.0",
            "_model_name": "DescriptionStyleModel",
            "_view_count": null,
            "_view_module": "@jupyter-widgets/base",
            "_view_module_version": "1.2.0",
            "_view_name": "StyleView",
            "description_width": ""
          }
        },
        "2605d193f4f54be1a4bf15edd7de27cc": {
          "model_module": "@jupyter-widgets/base",
          "model_module_version": "1.2.0",
          "model_name": "LayoutModel",
          "state": {
            "_model_module": "@jupyter-widgets/base",
            "_model_module_version": "1.2.0",
            "_model_name": "LayoutModel",
            "_view_count": null,
            "_view_module": "@jupyter-widgets/base",
            "_view_module_version": "1.2.0",
            "_view_name": "LayoutView",
            "align_content": null,
            "align_items": null,
            "align_self": null,
            "border": null,
            "bottom": null,
            "display": null,
            "flex": null,
            "flex_flow": null,
            "grid_area": null,
            "grid_auto_columns": null,
            "grid_auto_flow": null,
            "grid_auto_rows": null,
            "grid_column": null,
            "grid_gap": null,
            "grid_row": null,
            "grid_template_areas": null,
            "grid_template_columns": null,
            "grid_template_rows": null,
            "height": null,
            "justify_content": null,
            "justify_items": null,
            "left": null,
            "margin": null,
            "max_height": null,
            "max_width": null,
            "min_height": null,
            "min_width": null,
            "object_fit": null,
            "object_position": null,
            "order": null,
            "overflow": null,
            "overflow_x": null,
            "overflow_y": null,
            "padding": null,
            "right": null,
            "top": null,
            "visibility": null,
            "width": null
          }
        },
        "566d01d80d874ad9a575600b6e10a04c": {
          "model_module": "@jupyter-widgets/controls",
          "model_module_version": "1.5.0",
          "model_name": "FloatProgressModel",
          "state": {
            "_dom_classes": [],
            "_model_module": "@jupyter-widgets/controls",
            "_model_module_version": "1.5.0",
            "_model_name": "FloatProgressModel",
            "_view_count": null,
            "_view_module": "@jupyter-widgets/controls",
            "_view_module_version": "1.5.0",
            "_view_name": "ProgressView",
            "bar_style": "",
            "description": "",
            "description_tooltip": null,
            "layout": "IPY_MODEL_b6e85a51159c49ea895092345f275fb5",
            "max": 69,
            "min": 0,
            "orientation": "horizontal",
            "style": "IPY_MODEL_bb95dd86f88948af9df7237b3d37b2c9",
            "value": 20
          }
        },
        "5c1551b54c5749ee89baada631b94af3": {
          "model_module": "@jupyter-widgets/controls",
          "model_module_version": "1.5.0",
          "model_name": "HTMLModel",
          "state": {
            "_dom_classes": [],
            "_model_module": "@jupyter-widgets/controls",
            "_model_module_version": "1.5.0",
            "_model_name": "HTMLModel",
            "_view_count": null,
            "_view_module": "@jupyter-widgets/controls",
            "_view_module_version": "1.5.0",
            "_view_name": "HTMLView",
            "description": "",
            "description_tooltip": null,
            "layout": "IPY_MODEL_2605d193f4f54be1a4bf15edd7de27cc",
            "placeholder": "​",
            "style": "IPY_MODEL_0ca6ba714f144801a0a388bf242bc958",
            "value": "Epoch 0:  29%"
          }
        },
        "6c360a70a685485a85e191223d9f60cf": {
          "model_module": "@jupyter-widgets/base",
          "model_module_version": "1.2.0",
          "model_name": "LayoutModel",
          "state": {
            "_model_module": "@jupyter-widgets/base",
            "_model_module_version": "1.2.0",
            "_model_name": "LayoutModel",
            "_view_count": null,
            "_view_module": "@jupyter-widgets/base",
            "_view_module_version": "1.2.0",
            "_view_name": "LayoutView",
            "align_content": null,
            "align_items": null,
            "align_self": null,
            "border": null,
            "bottom": null,
            "display": null,
            "flex": null,
            "flex_flow": null,
            "grid_area": null,
            "grid_auto_columns": null,
            "grid_auto_flow": null,
            "grid_auto_rows": null,
            "grid_column": null,
            "grid_gap": null,
            "grid_row": null,
            "grid_template_areas": null,
            "grid_template_columns": null,
            "grid_template_rows": null,
            "height": null,
            "justify_content": null,
            "justify_items": null,
            "left": null,
            "margin": null,
            "max_height": null,
            "max_width": null,
            "min_height": null,
            "min_width": null,
            "object_fit": null,
            "object_position": null,
            "order": null,
            "overflow": null,
            "overflow_x": null,
            "overflow_y": null,
            "padding": null,
            "right": null,
            "top": null,
            "visibility": null,
            "width": null
          }
        },
        "8b79b5ca261f4fb090f1441b4dc4df5a": {
          "model_module": "@jupyter-widgets/controls",
          "model_module_version": "1.5.0",
          "model_name": "HTMLModel",
          "state": {
            "_dom_classes": [],
            "_model_module": "@jupyter-widgets/controls",
            "_model_module_version": "1.5.0",
            "_model_name": "HTMLModel",
            "_view_count": null,
            "_view_module": "@jupyter-widgets/controls",
            "_view_module_version": "1.5.0",
            "_view_name": "HTMLView",
            "description": "",
            "description_tooltip": null,
            "layout": "IPY_MODEL_6c360a70a685485a85e191223d9f60cf",
            "placeholder": "​",
            "style": "IPY_MODEL_01a0bf83c00e454e9004ac303fa67fc1",
            "value": " 20/69 [00:11&lt;00:27,  1.78it/s, v_num=4, train_loss=nan.0]"
          }
        },
        "b6e85a51159c49ea895092345f275fb5": {
          "model_module": "@jupyter-widgets/base",
          "model_module_version": "1.2.0",
          "model_name": "LayoutModel",
          "state": {
            "_model_module": "@jupyter-widgets/base",
            "_model_module_version": "1.2.0",
            "_model_name": "LayoutModel",
            "_view_count": null,
            "_view_module": "@jupyter-widgets/base",
            "_view_module_version": "1.2.0",
            "_view_name": "LayoutView",
            "align_content": null,
            "align_items": null,
            "align_self": null,
            "border": null,
            "bottom": null,
            "display": null,
            "flex": "2",
            "flex_flow": null,
            "grid_area": null,
            "grid_auto_columns": null,
            "grid_auto_flow": null,
            "grid_auto_rows": null,
            "grid_column": null,
            "grid_gap": null,
            "grid_row": null,
            "grid_template_areas": null,
            "grid_template_columns": null,
            "grid_template_rows": null,
            "height": null,
            "justify_content": null,
            "justify_items": null,
            "left": null,
            "margin": null,
            "max_height": null,
            "max_width": null,
            "min_height": null,
            "min_width": null,
            "object_fit": null,
            "object_position": null,
            "order": null,
            "overflow": null,
            "overflow_x": null,
            "overflow_y": null,
            "padding": null,
            "right": null,
            "top": null,
            "visibility": null,
            "width": null
          }
        },
        "b9712f0b512143498e75fe977a1a8177": {
          "model_module": "@jupyter-widgets/controls",
          "model_module_version": "1.5.0",
          "model_name": "HBoxModel",
          "state": {
            "_dom_classes": [],
            "_model_module": "@jupyter-widgets/controls",
            "_model_module_version": "1.5.0",
            "_model_name": "HBoxModel",
            "_view_count": null,
            "_view_module": "@jupyter-widgets/controls",
            "_view_module_version": "1.5.0",
            "_view_name": "HBoxView",
            "box_style": "",
            "children": [
              "IPY_MODEL_5c1551b54c5749ee89baada631b94af3",
              "IPY_MODEL_566d01d80d874ad9a575600b6e10a04c",
              "IPY_MODEL_8b79b5ca261f4fb090f1441b4dc4df5a"
            ],
            "layout": "IPY_MODEL_eab59f674847483686674b95eb2e0387"
          }
        },
        "bb95dd86f88948af9df7237b3d37b2c9": {
          "model_module": "@jupyter-widgets/controls",
          "model_module_version": "1.5.0",
          "model_name": "ProgressStyleModel",
          "state": {
            "_model_module": "@jupyter-widgets/controls",
            "_model_module_version": "1.5.0",
            "_model_name": "ProgressStyleModel",
            "_view_count": null,
            "_view_module": "@jupyter-widgets/base",
            "_view_module_version": "1.2.0",
            "_view_name": "StyleView",
            "bar_color": null,
            "description_width": ""
          }
        },
        "eab59f674847483686674b95eb2e0387": {
          "model_module": "@jupyter-widgets/base",
          "model_module_version": "1.2.0",
          "model_name": "LayoutModel",
          "state": {
            "_model_module": "@jupyter-widgets/base",
            "_model_module_version": "1.2.0",
            "_model_name": "LayoutModel",
            "_view_count": null,
            "_view_module": "@jupyter-widgets/base",
            "_view_module_version": "1.2.0",
            "_view_name": "LayoutView",
            "align_content": null,
            "align_items": null,
            "align_self": null,
            "border": null,
            "bottom": null,
            "display": "inline-flex",
            "flex": null,
            "flex_flow": "row wrap",
            "grid_area": null,
            "grid_auto_columns": null,
            "grid_auto_flow": null,
            "grid_auto_rows": null,
            "grid_column": null,
            "grid_gap": null,
            "grid_row": null,
            "grid_template_areas": null,
            "grid_template_columns": null,
            "grid_template_rows": null,
            "height": null,
            "justify_content": null,
            "justify_items": null,
            "left": null,
            "margin": null,
            "max_height": null,
            "max_width": null,
            "min_height": null,
            "min_width": null,
            "object_fit": null,
            "object_position": null,
            "order": null,
            "overflow": null,
            "overflow_x": null,
            "overflow_y": null,
            "padding": null,
            "right": null,
            "top": null,
            "visibility": null,
            "width": "100%"
          }
        }
      }
    }
  },
  "nbformat": 4,
  "nbformat_minor": 0
}
