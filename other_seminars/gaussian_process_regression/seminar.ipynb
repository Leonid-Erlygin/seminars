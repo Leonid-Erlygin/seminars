{
 "cells": [
  {
   "cell_type": "markdown",
   "metadata": {},
   "source": [
    "# Семинар. Гауссовские процессы (GP) с GPyTorch\n",
    "\n",
    "На семинаре мы будем использовать библиотеку [GPyTorch](https://gpytorch.ai/) для моделирования GP."
   ]
  },
  {
   "cell_type": "code",
   "execution_count": 2,
   "metadata": {},
   "outputs": [],
   "source": [
    "#!pip install gpytorch"
   ]
  },
  {
   "cell_type": "markdown",
   "metadata": {},
   "source": [
    "## Решение задачи регрессии с использованием гауссовских процессов\n",
    "Дан набор данных $\\left (X, \\mathbf{y} \\right ) = \\left \\{ (x_i, y_i), x_i \\in \\mathbb{R}^d, y_i \\in \\mathbb{R} \\right \\}_{i = 1}^N$.  \n",
    "\n",
    "Мы считаем, что:\n",
    "$$\n",
    "y = f(x) + \\varepsilon,\n",
    "$$\n",
    "где $f(x)$ - гауссовский процесс и $\\varepsilon \\sim \\mathcal{N}(0, \\sigma_\\varepsilon^2)$ - гауссовский шум."
   ]
  },
  {
   "cell_type": "markdown",
   "metadata": {},
   "source": [
    "Апостериорное распределение наблюдения $y^*$ в точке $x^*$ является гауссовским:\n",
    "$$\n",
    "y_* | X, \\mathbf{y}, x_* \\sim \\mathcal{N}(m(x_*), \\sigma(x_*)),\n",
    "$$\n",
    "с средним и дисперсией, вычисляемыми по формулам:\n",
    "$$\n",
    "m(x_*) = \\mathbf{k}^T \\mathbf{K}_y^{-1} \\mathbf{y} = \\sum_{i = 1}^N \\alpha_i k(x_*, x_i),\n",
    "$$\n",
    "$$\n",
    "\\sigma^2(x_*) = k(x_*, x_*) + \\sigma_\\varepsilon^2 - \\mathbf{k}^T\\mathbf{K}_y^{-1}\\mathbf{k},\n",
    "$$\n",
    "где\n",
    "$$\n",
    "\\mathbf{k} = \\left ( k(x_*, x_1), \\ldots, k(x_*, x_N) \\right )^T\n",
    "$$\n",
    "$$\n",
    "\\mathbf{K}_y = \\|k(x_i, x_j)\\|_{i, j = 1}^N + \\sigma_\\varepsilon^2 \\mathbf{I}\n",
    "$$"
   ]
  },
  {
   "cell_type": "markdown",
   "metadata": {},
   "source": [
    "## GPyTorch регрессия\n",
    "Мы будем моделировать функцию:\n",
    "$$\n",
    "\\begin{align}\n",
    "y &= \\sin(2\\pi x) + \\varepsilon \\\\\n",
    "  \\varepsilon &\\sim \\mathcal{N}(0, 0.04) \n",
    "\\end{align}\n",
    "$$\n",
    "\n",
    "с 100 обучающими, и 51 тестовыми примерами.\n"
   ]
  },
  {
   "cell_type": "code",
   "execution_count": 9,
   "metadata": {},
   "outputs": [
    {
     "name": "stdout",
     "output_type": "stream",
     "text": [
      "The autoreload extension is already loaded. To reload it, use:\n",
      "  %reload_ext autoreload\n"
     ]
    }
   ],
   "source": [
    "import math\n",
    "import torch\n",
    "import gpytorch\n",
    "from matplotlib import pyplot as plt\n",
    "\n",
    "%matplotlib inline\n",
    "%load_ext autoreload\n",
    "%autoreload 2"
   ]
  },
  {
   "cell_type": "code",
   "execution_count": 13,
   "metadata": {},
   "outputs": [],
   "source": [
    "# Training data is 100 points in [0,1] inclusive regularly spaced\n",
    "train_x = torch.linspace(0, 1, 100)\n",
    "# True function is sin(2*pi*x) with Gaussian noise\n",
    "train_y = torch.sin(train_x * (2 * math.pi)) + torch.randn(train_x.size()) * math.sqrt(0.04)"
   ]
  },
  {
   "cell_type": "markdown",
   "metadata": {},
   "source": [
    "### Определение модели\n",
    "\n",
    "Для получения GP модели нужно сконструировать следующие GPyTorch объекты:\n",
    "\n",
    "1. **GP Model** (`gpytorch.models.ExactGP`) -  Имеет дело с предсказаниями.\n",
    "1. **Likelihood** (`gpytorch.likelihoods.GaussianLikelihood`) - Самая распостраненная функция правдоподобия.\n",
    "1. **Mean** - Опредленяет априорную функцию среднего.\n",
    "1. **Kernel** - Определяет ядро для получения матрицы ковариации\n",
    "1. **MultivariateNormal** Distribution (`gpytorch.distributions.MultivariateNormal`) - Объект, использующийся для определения многомерного нормального распределения\n",
    "  \n"
   ]
  },
  {
   "cell_type": "code",
   "execution_count": 14,
   "metadata": {},
   "outputs": [],
   "source": [
    "class ExactGPModel(gpytorch.models.ExactGP):\n",
    "    def __init__(self, train_x, train_y, likelihood):\n",
    "        super(ExactGPModel, self).__init__(train_x, train_y, likelihood)\n",
    "        self.mean_module = gpytorch.means.ConstantMean()\n",
    "        self.covar_module = gpytorch.kernels.ScaleKernel(gpytorch.kernels.RBFKernel())\n",
    "    \n",
    "    def forward(self, x):\n",
    "        mean_x = self.mean_module(x)\n",
    "        covar_x = self.covar_module(x)\n",
    "        return gpytorch.distributions.MultivariateNormal(mean_x, covar_x)\n",
    "\n",
    "# initialize likelihood and model\n",
    "likelihood = gpytorch.likelihoods.GaussianLikelihood()\n",
    "model = ExactGPModel(train_x, train_y, likelihood)"
   ]
  },
  {
   "cell_type": "markdown",
   "metadata": {},
   "source": [
    "### Режимы модели\n",
    "\n",
    "Как и в большинстве PyTorch модулей, `ExactGP` имеет `.train()` и `.eval()` режимы.\n",
    "- `.train()` режим для оптимизации гиперпараметров.\n",
    "- `.eval()` для вычисления апостериорного распределения."
   ]
  },
  {
   "cell_type": "markdown",
   "metadata": {},
   "source": [
    "### Обучение модели\n",
    "\n",
    "В следующей клетке максимизируется правдоподобие данных для обучения гиперпараметров гауссовского процесса\n",
    "\n"
   ]
  },
  {
   "cell_type": "code",
   "execution_count": 15,
   "metadata": {},
   "outputs": [
    {
     "name": "stdout",
     "output_type": "stream",
     "text": [
      "Iter 1/50 - Loss: 0.937   lengthscale: 0.693   noise: 0.693\n",
      "Iter 2/50 - Loss: 0.906   lengthscale: 0.644   noise: 0.644\n",
      "Iter 3/50 - Loss: 0.873   lengthscale: 0.598   noise: 0.598\n",
      "Iter 4/50 - Loss: 0.836   lengthscale: 0.555   noise: 0.554\n",
      "Iter 5/50 - Loss: 0.794   lengthscale: 0.514   noise: 0.513\n",
      "Iter 6/50 - Loss: 0.747   lengthscale: 0.476   noise: 0.474\n",
      "Iter 7/50 - Loss: 0.697   lengthscale: 0.439   noise: 0.437\n",
      "Iter 8/50 - Loss: 0.645   lengthscale: 0.405   noise: 0.402\n",
      "Iter 9/50 - Loss: 0.595   lengthscale: 0.372   noise: 0.369\n",
      "Iter 10/50 - Loss: 0.550   lengthscale: 0.342   noise: 0.339\n",
      "Iter 11/50 - Loss: 0.508   lengthscale: 0.315   noise: 0.310\n",
      "Iter 12/50 - Loss: 0.470   lengthscale: 0.291   noise: 0.284\n",
      "Iter 13/50 - Loss: 0.435   lengthscale: 0.271   noise: 0.259\n",
      "Iter 14/50 - Loss: 0.401   lengthscale: 0.255   noise: 0.237\n",
      "Iter 15/50 - Loss: 0.368   lengthscale: 0.241   noise: 0.216\n",
      "Iter 16/50 - Loss: 0.335   lengthscale: 0.231   noise: 0.196\n",
      "Iter 17/50 - Loss: 0.302   lengthscale: 0.223   noise: 0.179\n",
      "Iter 18/50 - Loss: 0.270   lengthscale: 0.217   noise: 0.162\n",
      "Iter 19/50 - Loss: 0.238   lengthscale: 0.214   noise: 0.148\n",
      "Iter 20/50 - Loss: 0.207   lengthscale: 0.212   noise: 0.134\n",
      "Iter 21/50 - Loss: 0.176   lengthscale: 0.211   noise: 0.122\n",
      "Iter 22/50 - Loss: 0.147   lengthscale: 0.212   noise: 0.111\n",
      "Iter 23/50 - Loss: 0.119   lengthscale: 0.215   noise: 0.101\n",
      "Iter 24/50 - Loss: 0.092   lengthscale: 0.219   noise: 0.092\n",
      "Iter 25/50 - Loss: 0.067   lengthscale: 0.224   noise: 0.084\n",
      "Iter 26/50 - Loss: 0.044   lengthscale: 0.229   noise: 0.076\n",
      "Iter 27/50 - Loss: 0.023   lengthscale: 0.236   noise: 0.070\n",
      "Iter 28/50 - Loss: 0.006   lengthscale: 0.243   noise: 0.064\n",
      "Iter 29/50 - Loss: -0.009   lengthscale: 0.251   noise: 0.059\n",
      "Iter 30/50 - Loss: -0.020   lengthscale: 0.259   noise: 0.054\n",
      "Iter 31/50 - Loss: -0.028   lengthscale: 0.267   noise: 0.050\n",
      "Iter 32/50 - Loss: -0.033   lengthscale: 0.275   noise: 0.046\n",
      "Iter 33/50 - Loss: -0.036   lengthscale: 0.282   noise: 0.043\n",
      "Iter 34/50 - Loss: -0.035   lengthscale: 0.288   noise: 0.040\n",
      "Iter 35/50 - Loss: -0.033   lengthscale: 0.293   noise: 0.038\n",
      "Iter 36/50 - Loss: -0.029   lengthscale: 0.296   noise: 0.036\n",
      "Iter 37/50 - Loss: -0.025   lengthscale: 0.297   noise: 0.035\n",
      "Iter 38/50 - Loss: -0.021   lengthscale: 0.297   noise: 0.033\n",
      "Iter 39/50 - Loss: -0.018   lengthscale: 0.294   noise: 0.032\n",
      "Iter 40/50 - Loss: -0.016   lengthscale: 0.291   noise: 0.032\n",
      "Iter 41/50 - Loss: -0.015   lengthscale: 0.286   noise: 0.031\n",
      "Iter 42/50 - Loss: -0.014   lengthscale: 0.280   noise: 0.031\n",
      "Iter 43/50 - Loss: -0.015   lengthscale: 0.274   noise: 0.031\n",
      "Iter 44/50 - Loss: -0.017   lengthscale: 0.268   noise: 0.031\n",
      "Iter 45/50 - Loss: -0.019   lengthscale: 0.262   noise: 0.032\n",
      "Iter 46/50 - Loss: -0.021   lengthscale: 0.256   noise: 0.032\n",
      "Iter 47/50 - Loss: -0.023   lengthscale: 0.251   noise: 0.033\n",
      "Iter 48/50 - Loss: -0.026   lengthscale: 0.247   noise: 0.034\n",
      "Iter 49/50 - Loss: -0.028   lengthscale: 0.244   noise: 0.034\n",
      "Iter 50/50 - Loss: -0.030   lengthscale: 0.241   noise: 0.035\n"
     ]
    }
   ],
   "source": [
    "# this is for running the notebook in our testing framework\n",
    "import os\n",
    "smoke_test = ('CI' in os.environ)\n",
    "training_iter = 2 if smoke_test else 50\n",
    "\n",
    "\n",
    "# Find optimal model hyperparameters\n",
    "model.train()\n",
    "likelihood.train()\n",
    "\n",
    "# Use the adam optimizer\n",
    "optimizer = torch.optim.Adam(model.parameters(), lr=0.1)  # Includes GaussianLikelihood parameters\n",
    "\n",
    "# \"Loss\" for GPs - the marginal log likelihood\n",
    "mll = gpytorch.mlls.ExactMarginalLogLikelihood(likelihood, model)\n",
    "\n",
    "for i in range(training_iter):\n",
    "    # Zero gradients from previous iteration\n",
    "    optimizer.zero_grad()\n",
    "    # Output from model\n",
    "    output = model(train_x)\n",
    "    # Calc loss and backprop gradients\n",
    "    loss = -mll(output, train_y)\n",
    "    loss.backward()\n",
    "    print('Iter %d/%d - Loss: %.3f   lengthscale: %.3f   noise: %.3f' % (\n",
    "        i + 1, training_iter, loss.item(),\n",
    "        model.covar_module.base_kernel.lengthscale.item(),\n",
    "        model.likelihood.noise.item()\n",
    "    ))\n",
    "    optimizer.step()"
   ]
  },
  {
   "cell_type": "markdown",
   "metadata": {},
   "source": [
    "### Предсказания с помощью модели\n",
    "\n",
    "В следущих клетках мы получим предсказания гауссовского процесса в новых точках. Чтобы это сделать нужно перевести модель и likelihood в режим eval. и вызвать оба модуля на тестовых данных.\n",
    "\n",
    "В режиме eval GP model возвращает `MultivariateNormal`, содержащий апостериорные среднее и дисперсии.\n",
    "\n",
    "Если мы обозначим (`test_x`) как `x*`, истинное значение `y*`, тогда `model(test_x)` возвращает апостерирное распределение на значении функции `p(f* | x*, X, y)`, где `X, y` обучающие данные. \n",
    "\n",
    "Напротив, `likelihood(model(test_x))` даёт нам апостериорное предиктивное распределение `p(y* | x*, X, y)`, которое является распределением на целевое значение $y$, которое мы хотим предсказать.\n",
    "\n",
    "Получение предиктивных дисперсии и среднего, и семплирование GP функций в новых тестовых точках может быть выполнено с помощью следующейго кода:\n",
    "\n",
    "```python\n",
    "f_preds = model(test_x)\n",
    "y_preds = likelihood(model(test_x))\n",
    "\n",
    "f_mean = f_preds.mean\n",
    "f_var = f_preds.variance\n",
    "f_covar = f_preds.covariance_matrix\n",
    "f_samples = f_preds.sample(sample_shape=torch.Size(1000,))\n",
    "```\n"
   ]
  },
  {
   "cell_type": "code",
   "execution_count": 16,
   "metadata": {},
   "outputs": [],
   "source": [
    "# Get into evaluation (predictive posterior) mode\n",
    "model.eval()\n",
    "likelihood.eval()\n",
    "\n",
    "# Test points are regularly spaced along [0,1]\n",
    "# Make predictions by feeding model through likelihood\n",
    "with torch.no_grad(), gpytorch.settings.fast_pred_var():\n",
    "    test_x = torch.linspace(0, 1, 51)\n",
    "    observed_pred = likelihood(model(test_x))"
   ]
  },
  {
   "cell_type": "markdown",
   "metadata": {},
   "source": [
    "### Визуализация предсказаний\n"
   ]
  },
  {
   "cell_type": "code",
   "execution_count": 17,
   "metadata": {},
   "outputs": [
    {
     "data": {
      "image/png": "[encoded data removed]",
      "text/plain": [
       "<Figure size 400x300 with 1 Axes>"
      ]
     },
     "metadata": {},
     "output_type": "display_data"
    }
   ],
   "source": [
    "with torch.no_grad():\n",
    "    # Initialize plot\n",
    "    f, ax = plt.subplots(1, 1, figsize=(4, 3))\n",
    "\n",
    "    # Get upper and lower confidence bounds\n",
    "    lower, upper = observed_pred.confidence_region()\n",
    "    # Plot training data as black stars\n",
    "    ax.plot(train_x.numpy(), train_y.numpy(), 'k*')\n",
    "    # Plot predictive means as blue line\n",
    "    ax.plot(test_x.numpy(), observed_pred.mean.numpy(), 'b')\n",
    "    # Shade between the lower and upper confidence bounds\n",
    "    ax.fill_between(test_x.numpy(), lower.numpy(), upper.numpy(), alpha=0.5)\n",
    "    ax.set_ylim([-3, 3])\n",
    "    ax.legend(['Observed Data', 'Mean', 'Confidence'])"
   ]
  },
  {
   "cell_type": "code",
   "execution_count": null,
   "metadata": {},
   "outputs": [],
   "source": []
  }
 ],
 "metadata": {
  "kernelspec": {
   "display_name": "base",
   "language": "python",
   "name": "python3"
  },
  "language_info": {
   "codemirror_mode": {
    "name": "ipython",
    "version": 3
   },
   "file_extension": ".py",
   "mimetype": "text/x-python",
   "name": "python",
   "nbconvert_exporter": "python",
   "pygments_lexer": "ipython3",
   "version": "3.9.7"
  },
  "orig_nbformat": 4
 },
 "nbformat": 4,
 "nbformat_minor": 2
}
