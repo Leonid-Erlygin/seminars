{
 "cells": [
  {
   "cell_type": "markdown",
   "metadata": {
    "colab_type": "text",
    "id": "mGzuhskKbbtH"
   },
   "source": [
    "# 1. Bayesian optimization (BO)\n",
    "\n",
    "Content\n",
    "1. Bayesian optimization overview\n",
    "2. One dimensional example\n",
    "3. AutoML: optimization of hyperparameters for machine learning model"
   ]
  },
  {
   "cell_type": "markdown",
   "metadata": {
    "colab_type": "text",
    "id": "KC8q0fuSbbtJ"
   },
   "source": [
    "# When Bayesian optimization?\n",
    "\n",
    "* Optimization of \"heavy\" functions \n",
    "* The target function is a blackbox, typically noisy, while smooth\n",
    "\n",
    "\n",
    "* Construction a regression model using available data\n",
    "* Take into account uncertainty of the regression model\n",
    "* Gaussian process regression is OK"
   ]
  },
  {
   "cell_type": "markdown",
   "metadata": {
    "colab_type": "text",
    "id": "hN3YdmtMbbtM"
   },
   "source": [
    "## Frameworks\n",
    "\n",
    "We need libraries for\n",
    "* Gaussian process regression **[GPyTorch](https://gpytorch.ai/)** (see previous seminar)\n",
    "* Gaussian process regression-based Bayesian optimization **[BoTorch](https://botorch.org/)**"
   ]
  },
  {
   "cell_type": "markdown",
   "metadata": {
    "colab_type": "text",
    "id": "VEJFd9rXbbtN"
   },
   "source": [
    "Uncomment and run the following celll to install BoTorch"
   ]
  },
  {
   "cell_type": "code",
   "execution_count": 1,
   "metadata": {
    "colab": {
     "base_uri": "https://localhost:8080/",
     "height": 391
    },
    "colab_type": "code",
    "id": "nM_hrmSkbbtO",
    "outputId": "54c7954f-9146-4056-add1-053b2ac1918a"
   },
   "outputs": [
    {
     "name": "stdout",
     "output_type": "stream",
     "text": [
      "Requirement already satisfied: botorch in /home/erlygin/miniconda/lib/python3.9/site-packages (0.10.0)\n",
      "Requirement already satisfied: multipledispatch in /home/erlygin/miniconda/lib/python3.9/site-packages (from botorch) (1.0.0)\n",
      "Requirement already satisfied: scipy in /home/erlygin/miniconda/lib/python3.9/site-packages (from botorch) (1.10.1)\n",
      "Requirement already satisfied: mpmath<=1.3,>=0.19 in /home/erlygin/miniconda/lib/python3.9/site-packages (from botorch) (1.3.0)\n",
      "Requirement already satisfied: torch>=1.13.1 in /home/erlygin/miniconda/lib/python3.9/site-packages (from botorch) (2.2.0)\n",
      "Requirement already satisfied: pyro-ppl>=1.8.4 in /home/erlygin/miniconda/lib/python3.9/site-packages (from botorch) (1.9.0)\n",
      "Requirement already satisfied: gpytorch==1.11 in /home/erlygin/miniconda/lib/python3.9/site-packages (from botorch) (1.11)\n",
      "Requirement already satisfied: linear-operator==0.5.1 in /home/erlygin/miniconda/lib/python3.9/site-packages (from botorch) (0.5.1)\n",
      "Requirement already satisfied: scikit-learn in /home/erlygin/miniconda/lib/python3.9/site-packages (from gpytorch==1.11->botorch) (0.24.2)\n",
      "Requirement already satisfied: jaxtyping>=0.2.9 in /home/erlygin/miniconda/lib/python3.9/site-packages (from linear-operator==0.5.1->botorch) (0.2.25)\n",
      "Requirement already satisfied: typeguard~=2.13.3 in /home/erlygin/miniconda/lib/python3.9/site-packages (from linear-operator==0.5.1->botorch) (2.13.3)\n",
      "Requirement already satisfied: numpy>=1.7 in /home/erlygin/miniconda/lib/python3.9/site-packages (from pyro-ppl>=1.8.4->botorch) (1.26.4)\n",
      "Requirement already satisfied: opt-einsum>=2.3.2 in /home/erlygin/miniconda/lib/python3.9/site-packages (from pyro-ppl>=1.8.4->botorch) (3.3.0)\n",
      "Requirement already satisfied: pyro-api>=0.1.1 in /home/erlygin/miniconda/lib/python3.9/site-packages (from pyro-ppl>=1.8.4->botorch) (0.1.2)\n",
      "Requirement already satisfied: tqdm>=4.36 in /home/erlygin/miniconda/lib/python3.9/site-packages (from pyro-ppl>=1.8.4->botorch) (4.59.0)\n",
      "Requirement already satisfied: filelock in /home/erlygin/miniconda/lib/python3.9/site-packages (from torch>=1.13.1->botorch) (3.13.1)\n",
      "Requirement already satisfied: typing-extensions>=4.8.0 in /home/erlygin/miniconda/lib/python3.9/site-packages (from torch>=1.13.1->botorch) (4.9.0)\n",
      "Requirement already satisfied: sympy in /home/erlygin/miniconda/lib/python3.9/site-packages (from torch>=1.13.1->botorch) (1.12)\n",
      "Requirement already satisfied: networkx in /home/erlygin/miniconda/lib/python3.9/site-packages (from torch>=1.13.1->botorch) (3.1)\n",
      "Requirement already satisfied: jinja2 in /home/erlygin/miniconda/lib/python3.9/site-packages (from torch>=1.13.1->botorch) (3.1.3)\n",
      "Requirement already satisfied: fsspec in /home/erlygin/miniconda/lib/python3.9/site-packages (from torch>=1.13.1->botorch) (2023.9.2)\n",
      "Requirement already satisfied: nvidia-cuda-nvrtc-cu12==12.1.105 in /home/erlygin/miniconda/lib/python3.9/site-packages (from torch>=1.13.1->botorch) (12.1.105)\n",
      "Requirement already satisfied: nvidia-cuda-runtime-cu12==12.1.105 in /home/erlygin/miniconda/lib/python3.9/site-packages (from torch>=1.13.1->botorch) (12.1.105)\n",
      "Requirement already satisfied: nvidia-cuda-cupti-cu12==12.1.105 in /home/erlygin/miniconda/lib/python3.9/site-packages (from torch>=1.13.1->botorch) (12.1.105)\n",
      "Requirement already satisfied: nvidia-cudnn-cu12==8.9.2.26 in /home/erlygin/miniconda/lib/python3.9/site-packages (from torch>=1.13.1->botorch) (8.9.2.26)\n",
      "Requirement already satisfied: nvidia-cublas-cu12==12.1.3.1 in /home/erlygin/miniconda/lib/python3.9/site-packages (from torch>=1.13.1->botorch) (12.1.3.1)\n",
      "Requirement already satisfied: nvidia-cufft-cu12==11.0.2.54 in /home/erlygin/miniconda/lib/python3.9/site-packages (from torch>=1.13.1->botorch) (11.0.2.54)\n",
      "Requirement already satisfied: nvidia-curand-cu12==10.3.2.106 in /home/erlygin/miniconda/lib/python3.9/site-packages (from torch>=1.13.1->botorch) (10.3.2.106)\n",
      "Requirement already satisfied: nvidia-cusolver-cu12==11.4.5.107 in /home/erlygin/miniconda/lib/python3.9/site-packages (from torch>=1.13.1->botorch) (11.4.5.107)\n",
      "Requirement already satisfied: nvidia-cusparse-cu12==12.1.0.106 in /home/erlygin/miniconda/lib/python3.9/site-packages (from torch>=1.13.1->botorch) (12.1.0.106)\n",
      "Requirement already satisfied: nvidia-nccl-cu12==2.19.3 in /home/erlygin/miniconda/lib/python3.9/site-packages (from torch>=1.13.1->botorch) (2.19.3)\n",
      "Requirement already satisfied: nvidia-nvtx-cu12==12.1.105 in /home/erlygin/miniconda/lib/python3.9/site-packages (from torch>=1.13.1->botorch) (12.1.105)\n",
      "Requirement already satisfied: triton==2.2.0 in /home/erlygin/miniconda/lib/python3.9/site-packages (from torch>=1.13.1->botorch) (2.2.0)\n",
      "Requirement already satisfied: nvidia-nvjitlink-cu12 in /home/erlygin/miniconda/lib/python3.9/site-packages (from nvidia-cusolver-cu12==11.4.5.107->torch>=1.13.1->botorch) (12.3.101)\n",
      "Requirement already satisfied: MarkupSafe>=2.0 in /home/erlygin/miniconda/lib/python3.9/site-packages (from jinja2->torch>=1.13.1->botorch) (2.1.1)\n",
      "Requirement already satisfied: joblib>=0.11 in /home/erlygin/miniconda/lib/python3.9/site-packages (from scikit-learn->gpytorch==1.11->botorch) (1.3.2)\n",
      "Requirement already satisfied: threadpoolctl>=2.0.0 in /home/erlygin/miniconda/lib/python3.9/site-packages (from scikit-learn->gpytorch==1.11->botorch) (3.3.0)\n",
      "fatal: destination path 'BayesOpt_tutorial' already exists and is not an empty directory.\n"
     ]
    }
   ],
   "source": [
    "!pip install botorch\n",
    "!git clone https://github.com/yeahrmek/BayesOpt_tutorial\n",
    "\n",
    "import os\n",
    "\n",
    "os.chdir(\"BayesOpt_tutorial/BayesOpt/\")"
   ]
  },
  {
   "cell_type": "code",
   "execution_count": 2,
   "metadata": {
    "colab": {},
    "colab_type": "code",
    "id": "HjCXewPmbbtQ"
   },
   "outputs": [],
   "source": [
    "%matplotlib inline\n",
    "\n",
    "import matplotlib.pyplot as plt\n",
    "import numpy as np\n",
    "\n",
    "# auxiliary functions\n",
    "import utils\n",
    "\n",
    "import tqdm"
   ]
  },
  {
   "cell_type": "markdown",
   "metadata": {
    "colab_type": "text",
    "id": "IJtj-e4rbbtT"
   },
   "source": [
    "# One dimensional example\n",
    "\n",
    "We demonstrate concepts using one-dimensional example.\n",
    "\n",
    "Let us consider Bayesian optimization for one-dimensional function **Forrester**:\n",
    "$$\n",
    "f(x) = (6 x - 2)^2 \\sin(12 x - 4).\n",
    "$$\n",
    "\n",
    "The optimization problem is the following:\n",
    "$$\n",
    "f(x) \\rightarrow \\min, x \\in [0, 1].\n",
    "$$"
   ]
  },
  {
   "cell_type": "code",
   "execution_count": 3,
   "metadata": {
    "colab": {},
    "colab_type": "code",
    "id": "wpwdQ3DVbbtT"
   },
   "outputs": [],
   "source": [
    "import torch\n",
    "\n",
    "torch.manual_seed(0)\n",
    "\n",
    "device = \"cpu\"\n",
    "dtype = torch.float64"
   ]
  },
  {
   "cell_type": "code",
   "execution_count": 4,
   "metadata": {
    "colab": {},
    "colab_type": "code",
    "id": "5oG1Vh3fbbtX"
   },
   "outputs": [],
   "source": [
    "def forrester(x):\n",
    "    \"\"\"\n",
    "    Forrester function\n",
    "\n",
    "        y = (6x - 2)^2 \\sin(12x - 4), x \\in [0, 1]\n",
    "\n",
    "    Parameters\n",
    "    ----------\n",
    "    x : torch.tensor, shape=(n_samples,)\n",
    "        Input values\n",
    "\n",
    "    Returns\n",
    "    -------\n",
    "    y : torch.tensor\n",
    "        Output values\n",
    "    \"\"\"\n",
    "    y = (6 * x - 2) ** 2 * torch.sin(12 * x - 4)\n",
    "    return y"
   ]
  },
  {
   "cell_type": "code",
   "execution_count": 5,
   "metadata": {
    "colab": {},
    "colab_type": "code",
    "id": "l4rhMW__bbtg",
    "scrolled": true
   },
   "outputs": [
    {
     "data": {
      "image/png": "[encoded data removed]",
      "text/plain": [
       "<Figure size 640x480 with 1 Axes>"
      ]
     },
     "metadata": {},
     "output_type": "display_data"
    }
   ],
   "source": [
    "x = np.linspace(0, 1, 300)\n",
    "plt.plot(x, forrester(torch.tensor(x)).numpy())\n",
    "plt.xlabel(\"x\")\n",
    "plt.ylabel(\"y\")\n",
    "plt.title(\"Forrester function\");"
   ]
  },
  {
   "cell_type": "markdown",
   "metadata": {
    "colab_type": "text",
    "id": "fwNpYlTLbbtk"
   },
   "source": [
    "# Optimization workflow:\n",
    "1. Construct a regression model $\\hat{f}(x)$ of a function $f(x)$ using the sample $D = \\{(x_i, f(x_i))\\}_{i = 1}^n$\n",
    "2. Select a new point that maximize an acquisition function\n",
    "$$\n",
    "x_{new} = \\arg\\max\\limits_x a(x)\n",
    "$$\n",
    "3. Calculate $f(x_{new})$ at the new point.\n",
    "4. Add the pair $(x_{new}, f(x_{new}))$ to the sample $D$.\n",
    "5. Update the model $\\hat{f}(x)$ and go to step 2."
   ]
  },
  {
   "cell_type": "markdown",
   "metadata": {
    "colab_type": "text",
    "id": "BcBDitLibbtl"
   },
   "source": [
    "## We have a black-box objective function. Now we define components needed for BO\n",
    "\n",
    "1. What kind of the regression model we need\n",
    "2. What kind of the acquisition function we use\n",
    "3. How do we optimize the acquisition function\n",
    "4. Should we use sequential or batch optimization?"
   ]
  },
  {
   "cell_type": "markdown",
   "metadata": {
    "colab_type": "text",
    "id": "iT7kypg5bbtl"
   },
   "source": [
    "## 0. Let's create initial design and plot it"
   ]
  },
  {
   "cell_type": "code",
   "execution_count": 6,
   "metadata": {
    "colab": {},
    "colab_type": "code",
    "id": "7ePFuZqQbbtn"
   },
   "outputs": [],
   "source": [
    "def generate_initial_data(n=10):\n",
    "    X = torch.rand(n, 1, device=device, dtype=dtype)\n",
    "    y = forrester(X)\n",
    "    return X, y"
   ]
  },
  {
   "cell_type": "code",
   "execution_count": 7,
   "metadata": {
    "colab": {},
    "colab_type": "code",
    "id": "vCPlDxK_bbtp"
   },
   "outputs": [
    {
     "data": {
      "image/png": "[encoded data removed]",
      "text/plain": [
       "<Figure size 800x700 with 1 Axes>"
      ]
     },
     "metadata": {},
     "output_type": "display_data"
    }
   ],
   "source": [
    "X, y = generate_initial_data(n=5)\n",
    "utils.plot_1D_function(forrester, X)"
   ]
  },
  {
   "cell_type": "markdown",
   "metadata": {
    "colab_type": "text",
    "id": "Ygt3D6esbbtu"
   },
   "source": [
    "## 1. Create GP model and fit it using initial design\n",
    "\n",
    "For BO we need a model that return a probability distribution for each point X.  \n",
    "The most widely used model is Gaussian Processes based models."
   ]
  },
  {
   "cell_type": "code",
   "execution_count": 8,
   "metadata": {
    "colab": {},
    "colab_type": "code",
    "id": "VEn_q0Pibbtx"
   },
   "outputs": [],
   "source": [
    "from botorch.models import SingleTaskGP\n",
    "from gpytorch.mlls import ExactMarginalLogLikelihood\n",
    "from botorch.fit import fit_gpytorch_model\n",
    "\n",
    "\n",
    "def initialize_model(X, y, GP=None, state_dict=None, *GP_args, **GP_kwargs):\n",
    "    \"\"\"\n",
    "    Create GP model and fit it. The function also accepts\n",
    "    state_dict which is used as an initialization for the GP model.\n",
    "\n",
    "    Parameters\n",
    "    ----------\n",
    "    X : torch.tensor, shape=(n_samples, dim)\n",
    "        Input values\n",
    "\n",
    "    y : torch.tensor, shape=(n_samples,)\n",
    "        Output values\n",
    "\n",
    "    GP : botorch.models.Model\n",
    "        GP model class\n",
    "\n",
    "    state_dict : dict\n",
    "        GP model state dict\n",
    "\n",
    "    Returns\n",
    "    -------\n",
    "    mll : gpytorch.mlls.MarginalLoglikelihood\n",
    "        Marginal loglikelihood\n",
    "\n",
    "    gp :\n",
    "    \"\"\"\n",
    "\n",
    "    if GP is None:\n",
    "        GP = SingleTaskGP\n",
    "\n",
    "    model = GP(X, y, *GP_args, **GP_kwargs).to(X)\n",
    "\n",
    "    mll = ExactMarginalLogLikelihood(model.likelihood, model)\n",
    "    # load state dict if it is passed\n",
    "    if state_dict is not None:\n",
    "        model.load_state_dict(state_dict)\n",
    "    return mll, model"
   ]
  },
  {
   "cell_type": "code",
   "execution_count": 9,
   "metadata": {
    "colab": {},
    "colab_type": "code",
    "id": "jKfO21Y-bbt1"
   },
   "outputs": [
    {
     "name": "stderr",
     "output_type": "stream",
     "text": [
      "/home/erlygin/miniconda/lib/python3.9/site-packages/botorch/models/utils/assorted.py:202: InputDataWarning: Input data is not standardized (mean = tensor([3.3090], dtype=torch.float64), std = tensor([7.9269], dtype=torch.float64)). Please consider scaling the input to zero mean and unit variance.\n",
      "  warnings.warn(msg, InputDataWarning)\n"
     ]
    }
   ],
   "source": [
    "mll, gp = initialize_model(X, y)\n",
    "fit_gpytorch_model(mll);"
   ]
  },
  {
   "cell_type": "markdown",
   "metadata": {
    "colab_type": "text",
    "id": "zeXDp6QJbbt3"
   },
   "source": [
    "## 2. Create acquisition function"
   ]
  },
  {
   "cell_type": "markdown",
   "metadata": {
    "colab_type": "text",
    "id": "M5WtzZGkbbt4"
   },
   "source": [
    "### Examples of the acquisation functions \n",
    "\n",
    "#### Upper confidence bound (UCB) \n",
    "\n",
    "$$\n",
    "UСB(x) = \\hat{f}(x) + \\beta \\hat{\\sigma}(x),\n",
    "$$\n",
    "$\\hat{f}(x), \\hat{\\sigma}(x)$ - mean and standard deviation of the Gaussian process regression model at $x$.\n",
    "\n",
    "#### Probability of Improvement (PI)\n",
    "\n",
    "$$\n",
    "PI(x) = P \\left ( \\hat{f}(x) < f_{min} \\right )\n",
    "$$\n",
    "\n",
    "#### Expected Improvement (EI) \n",
    "\n",
    "$$\n",
    "EI(x) = \\mathbb{E}_{p(\\hat{f})} (f_{min} - \\hat{f}(x))_+.\n",
    "$$"
   ]
  },
  {
   "cell_type": "code",
   "execution_count": 10,
   "metadata": {
    "colab": {},
    "colab_type": "code",
    "id": "d3aTq8i8bbt4"
   },
   "outputs": [],
   "source": [
    "from botorch.acquisition import ExpectedImprovement\n",
    "\n",
    "acquisition = ExpectedImprovement(gp, y.min(), maximize=False)"
   ]
  },
  {
   "cell_type": "markdown",
   "metadata": {
    "colab_type": "text",
    "id": "TXWJuf0Mbbt7"
   },
   "source": [
    "## 3. Optimize acquisition function to obtain new candidate points"
   ]
  },
  {
   "cell_type": "code",
   "execution_count": 11,
   "metadata": {
    "colab": {},
    "colab_type": "code",
    "id": "o-9iekxtbbt9"
   },
   "outputs": [],
   "source": [
    "from botorch.optim import optimize_acqf\n",
    "\n",
    "bounds = torch.tensor([[0], [1]]).to(X)\n",
    "candidate = optimize_acqf(\n",
    "    acquisition,\n",
    "    bounds=bounds,\n",
    "    q=1,\n",
    "    num_restarts=5,\n",
    "    raw_samples=1000,\n",
    ")[0]"
   ]
  },
  {
   "cell_type": "code",
   "execution_count": 12,
   "metadata": {
    "colab": {},
    "colab_type": "code",
    "id": "KXTSJ1PBbbuA"
   },
   "outputs": [
    {
     "data": {
      "image/png": "[encoded data removed]",
      "text/plain": [
       "<Figure size 640x480 with 1 Axes>"
      ]
     },
     "metadata": {},
     "output_type": "display_data"
    }
   ],
   "source": [
    "utils.plot_acquisition(acquisition, X, y, candidate)"
   ]
  },
  {
   "cell_type": "markdown",
   "metadata": {
    "colab_type": "text",
    "id": "JVDmxKfvbbuC"
   },
   "source": [
    "## 4. Update the data set"
   ]
  },
  {
   "cell_type": "code",
   "execution_count": 13,
   "metadata": {
    "colab": {},
    "colab_type": "code",
    "id": "_CouXUFwbbuD"
   },
   "outputs": [],
   "source": [
    "# Update data set\n",
    "X = torch.cat([X, candidate])\n",
    "y = torch.cat([y, forrester(candidate)])"
   ]
  },
  {
   "cell_type": "markdown",
   "metadata": {
    "colab_type": "text",
    "id": "plpXR4EjbbuF"
   },
   "source": [
    "## 5. Update the GP model"
   ]
  },
  {
   "cell_type": "code",
   "execution_count": 14,
   "metadata": {
    "colab": {},
    "colab_type": "code",
    "id": "A16L8D2WbbuG"
   },
   "outputs": [
    {
     "name": "stderr",
     "output_type": "stream",
     "text": [
      "/home/erlygin/miniconda/lib/python3.9/site-packages/botorch/models/utils/assorted.py:202: InputDataWarning: Input data is not standardized (mean = tensor([2.6725], dtype=torch.float64), std = tensor([7.2594], dtype=torch.float64)). Please consider scaling the input to zero mean and unit variance.\n",
      "  warnings.warn(msg, InputDataWarning)\n"
     ]
    }
   ],
   "source": [
    "# Update GP model\n",
    "mll, gp = initialize_model(X, y, state_dict=gp.state_dict())\n",
    "fit_gpytorch_model(mll);"
   ]
  },
  {
   "cell_type": "markdown",
   "metadata": {
    "colab_type": "text",
    "id": "sPa7dH4NbbuI"
   },
   "source": [
    "## 6. Repeat from step 1\n",
    "\n",
    "**Task** implement `bo_step()` function below. Steps:\n",
    "1. Create and fit GP model using given `X, y, GP` (`GP` is a model constructor that takes as input pair `X` and `y`)\n",
    "2. Create acquisition function using constructed model and `acquisition` (this is an acquisiton function constructor that takes as input gp model)\n",
    "3. Optimize acquisition function to find new `candidate`\n",
    "4. Update `X, y` by appending to `candidate`\n",
    "5. Return updated `X, y` and the GP model"
   ]
  },
  {
   "cell_type": "code",
   "execution_count": null,
   "metadata": {
    "colab": {},
    "colab_type": "code",
    "id": "xRhc2d3kbbuJ"
   },
   "outputs": [],
   "source": [
    "def bo_step(\n",
    "    X, y, objective, bounds, GP=None, acquisition=None, q=1, state_dict=None, plot=False\n",
    "):\n",
    "    \"\"\"\n",
    "    One iteration of Bayesian optimization:\n",
    "        1. Fit GP model using (X, y)\n",
    "        2. Create acquisition function\n",
    "        3. Optimize acquisition function to obtain candidate point\n",
    "        4. Evaluate objective at candidate point\n",
    "        5. Add new point to the data set\n",
    "\n",
    "    Parameters\n",
    "    ----------\n",
    "    X : torch.tensor, shape=(n_samples, dim)\n",
    "        Input values\n",
    "\n",
    "    y : torch.tensor, shape=(n_samples,)\n",
    "        Objective values\n",
    "\n",
    "    objective : callable, argument=torch.tensor\n",
    "        Objective black-box function, accepting as an argument torch.tensor\n",
    "\n",
    "    bounds : torch.tensor, shape=(2, dim)\n",
    "        Box-constraints\n",
    "\n",
    "    GP : callable\n",
    "        GP model class constructor. It is a function that takes as input\n",
    "        2 tensors - X, y - and returns an instance of botorch.models.Model.\n",
    "\n",
    "    acquisition : callable\n",
    "        Acquisition function construction. It is a function that receives\n",
    "        one argument - GP model - and returns an instance of\n",
    "        botorch.acquisition.AcquisitionFunction\n",
    "\n",
    "    q : int\n",
    "        Number of candidate points to find\n",
    "\n",
    "    state_dict : dict\n",
    "        GP model state dict\n",
    "\n",
    "    plot : bool\n",
    "        Flag indicating whether to plot the result\n",
    "\n",
    "    Returns\n",
    "    -------\n",
    "    X : torch.tensor\n",
    "        Tensor of input values with new point\n",
    "\n",
    "    y : torch.tensor\n",
    "        Tensor of output values with new point\n",
    "\n",
    "    gp : botorch.models.Model\n",
    "        Constructed GP model\n",
    "\n",
    "\n",
    "    Example\n",
    "    -------\n",
    "    >>> from botorch.models import FixedNoiseGP\n",
    "    >>> noise_var = 1e-2 * torch.ones_like(y)\n",
    "    >>> GP = lambda X, y: FixedNoiseGP(X, y, noise_var)\n",
    "    >>> acq_func = labmda gp: ExpectedImprovement(gp, y.min(), maximize=False)\n",
    "    >>> X, y = bo_step(X, y, objective, GP=GP, Acquisition=acq_func)\n",
    "\n",
    "    \"\"\"\n",
    "\n",
    "    ### Your code goes here ###\n",
    "\n",
    "    gp = ...  # Save gp model in this variable\n",
    "    X = ...  # Save updated input points in this variable\n",
    "    y = ...  # Save updated objective values in this variable\n",
    "\n",
    "    ### Your code ends here ###\n",
    "\n",
    "    if plot:\n",
    "        utils.plot_acquisition(acquisition, X, y, candidate)\n",
    "\n",
    "    return X, y, gp"
   ]
  },
  {
   "cell_type": "code",
   "execution_count": null,
   "metadata": {
    "colab": {},
    "colab_type": "code",
    "id": "hW0LKp8hbbuQ"
   },
   "outputs": [],
   "source": [
    "objective = forrester\n",
    "bounds = torch.tensor([[0], [1]], dtype=dtype)\n",
    "acquisition = lambda gp: ExpectedImprovement(gp, y.min(), maximize=False)\n",
    "\n",
    "X, y, gp = bo_step(\n",
    "    X,\n",
    "    y,\n",
    "    forrester,\n",
    "    bounds,\n",
    "    GP=None,\n",
    "    acquisition=acquisition,\n",
    "    plot=True,\n",
    "    state_dict=gp.state_dict(),\n",
    ")"
   ]
  },
  {
   "cell_type": "code",
   "execution_count": null,
   "metadata": {
    "colab": {},
    "colab_type": "code",
    "id": "E8C1JKSvbbuV",
    "scrolled": false
   },
   "outputs": [],
   "source": [
    "for _ in range(10):\n",
    "    acquisition = lambda gp: ExpectedImprovement(gp, y.min(), maximize=False)\n",
    "    X, y, gp = bo_step(\n",
    "        X,\n",
    "        y,\n",
    "        forrester,\n",
    "        bounds,\n",
    "        GP=SingleTaskGP,\n",
    "        acquisition=acquisition,\n",
    "        plot=True,\n",
    "        state_dict=gp.state_dict(),\n",
    "    )"
   ]
  },
  {
   "cell_type": "markdown",
   "metadata": {
    "colab_type": "text",
    "id": "RVOkNAIhbbub"
   },
   "source": [
    "## Analyze results\n",
    "\n",
    "Two criteria\n",
    "1. Distance between consecutive x's\n",
    "2. Current best value of the objective"
   ]
  },
  {
   "cell_type": "code",
   "execution_count": null,
   "metadata": {
    "colab": {},
    "colab_type": "code",
    "id": "l_goRgiNbbub"
   },
   "outputs": [],
   "source": [
    "utils.plot_convergence(X, y)"
   ]
  },
  {
   "cell_type": "code",
   "execution_count": null,
   "metadata": {
    "colab": {},
    "colab_type": "code",
    "id": "MMDdUDwCbbue"
   },
   "outputs": [],
   "source": [
    "print(f\"Obtained xmin:  {X[-1].item():.3f}, real xmin: 0.780 (approximate)\")\n",
    "print(f\"Obtained fmin: {y[-1].item():.3f}, real fmin: -6.000 (approximate)\")"
   ]
  },
  {
   "cell_type": "markdown",
   "metadata": {
    "colab_type": "text",
    "id": "weRycKDlbbug"
   },
   "source": [
    "## Lower Confidence Bound (LCB) acquisition function\n",
    "Upper Confidence Bound (UCB) is for maximization. LCB\n",
    "$$\n",
    "    LCB(x) = \\hat{f}(x) - \\beta \\hat{\\sigma}(x)\n",
    "$$\n",
    "is for minimization.\n",
    "\n",
    "**Question**: Should we maximize or minimize the LCB?"
   ]
  },
  {
   "cell_type": "code",
   "execution_count": null,
   "metadata": {
    "colab": {},
    "colab_type": "code",
    "id": "0gV4HLgIbbuh"
   },
   "outputs": [],
   "source": [
    "from botorch.acquisition import UpperConfidenceBound\n",
    "\n",
    "\n",
    "class LowerConfidenceBound(UpperConfidenceBound):\n",
    "    def __init__(self, gp, beta):\n",
    "        # When maximize==True UCB returns (\\mu - beta * \\sigma)\n",
    "        # though it is still maximized\n",
    "        super().__init__(gp, beta, maximize=False)\n",
    "\n",
    "    def forward(self, X):\n",
    "        # The criterion is maximized, so we flip the sign\n",
    "        # to find argmin\n",
    "        lcb = super().forward(X)\n",
    "        return -lcb"
   ]
  },
  {
   "cell_type": "markdown",
   "metadata": {
    "colab_type": "text",
    "id": "pD2NVVoGbbuo"
   },
   "source": [
    "## Task\n",
    "\n",
    "Optimize forrester function using LCB acquisition function.  \n",
    "What happens if $\\beta$ is small? Large?"
   ]
  },
  {
   "cell_type": "code",
   "execution_count": null,
   "metadata": {
    "colab": {},
    "colab_type": "code",
    "id": "Y78KmklWbbup"
   },
   "outputs": [],
   "source": [
    "X, y = generate_initial_data(n=5)"
   ]
  },
  {
   "cell_type": "code",
   "execution_count": null,
   "metadata": {
    "colab": {},
    "colab_type": "code",
    "id": "9Zicvsiybbur"
   },
   "outputs": [],
   "source": [
    "### Your code goes here ###"
   ]
  },
  {
   "cell_type": "markdown",
   "metadata": {
    "colab_type": "text",
    "id": "Ni4LMIhObbuv"
   },
   "source": [
    "# 3. Bayesian optimization for the parameters of Gradient boosting\n",
    "\n",
    "Now we optimize hyperparameters for Gradient boosting of decision trees."
   ]
  },
  {
   "cell_type": "code",
   "execution_count": null,
   "metadata": {
    "colab": {},
    "colab_type": "code",
    "id": "-fEUM-ajbbuv"
   },
   "outputs": [],
   "source": [
    "import pandas as pd\n",
    "from sklearn.model_selection import cross_validate\n",
    "from sklearn.metrics import roc_auc_score"
   ]
  },
  {
   "cell_type": "markdown",
   "metadata": {
    "colab_type": "text",
    "id": "fSObZMZSbbux"
   },
   "source": [
    "If lightgbm is not installed, please run the following cell"
   ]
  },
  {
   "cell_type": "code",
   "execution_count": null,
   "metadata": {
    "colab": {},
    "colab_type": "code",
    "id": "F-PuPRajbbu0"
   },
   "outputs": [],
   "source": [
    "# !pip install lightgbm"
   ]
  },
  {
   "cell_type": "markdown",
   "metadata": {
    "colab_type": "text",
    "id": "jEQqjyRtbbvA"
   },
   "source": [
    "### We predict defaults for the classification problem\n",
    "\n",
    "The goal is to predict if the two years absense of payments occur."
   ]
  },
  {
   "cell_type": "code",
   "execution_count": null,
   "metadata": {
    "colab": {},
    "colab_type": "code",
    "id": "OG7Pu6EKbbvB"
   },
   "outputs": [],
   "source": [
    "# Load the training sample\n",
    "data = pd.read_csv(\"training_data.csv\")\n",
    "data.head()"
   ]
  },
  {
   "cell_type": "code",
   "execution_count": null,
   "metadata": {
    "colab": {},
    "colab_type": "code",
    "id": "Nmsw0RfAbbvO"
   },
   "outputs": [],
   "source": [
    "X = data.drop(\"SeriousDlqin2yrs\", axis=1)\n",
    "y = data[\"SeriousDlqin2yrs\"]"
   ]
  },
  {
   "cell_type": "markdown",
   "metadata": {
    "colab_type": "text",
    "id": "xSSiiTdpbbvQ"
   },
   "source": [
    "#### Define objective function\n",
    "\n",
    "The objective function should take `torch.tensor`, convert it to a `list` of `dictionaries` with model parameters\n",
    "and for each set of model parameters calculate cross-validation score of the model\n",
    "\n",
    "Note, that we constrain the search space to [0, 1]-hypercube, but inside the objective function rescale the parameters\n",
    "to the correct bounds.\n",
    "We do this to obtain better GP models."
   ]
  },
  {
   "cell_type": "code",
   "execution_count": null,
   "metadata": {
    "colab": {},
    "colab_type": "code",
    "id": "I44xt5HLbbvR"
   },
   "outputs": [],
   "source": [
    "import lightgbm as lgb\n",
    "from botorch.utils.transforms import normalize, unnormalize\n",
    "\n",
    "from joblib import Parallel, delayed\n",
    "\n",
    "\n",
    "def wrap_X(X, space):\n",
    "    \"\"\"\n",
    "    Wrap tensor to a list of dictionaries\n",
    "\n",
    "    Parameters:\n",
    "    X : torch.tensor, shape=(n_samples, dim)\n",
    "        Tensor of parameters values\n",
    "\n",
    "    space : dict\n",
    "        Search space description\n",
    "\n",
    "    Returns\n",
    "    -------\n",
    "    wrapped_X : lsit[dict{param_name: value}]\n",
    "        List of dictionary of parameters\n",
    "    \"\"\"\n",
    "\n",
    "    def _wrap_row(row):\n",
    "        wrapped_row = {}\n",
    "        for i, x in enumerate(row):\n",
    "            wrapped_row[space[i][\"name\"]] = x.item()\n",
    "\n",
    "            if space[i][\"type\"] == \"discrete\":\n",
    "                wrapped_row[space[i][\"name\"]] = int(np.round(x.item()))\n",
    "        return wrapped_row\n",
    "\n",
    "    wrapped_X = []\n",
    "    for i in range(X.shape[0]):\n",
    "        wrapped_X.append(_wrap_row(X[i]))\n",
    "\n",
    "    return wrapped_X\n",
    "\n",
    "\n",
    "def unwrap_X(parameters, space):\n",
    "    \"\"\"\n",
    "    Unwrap list of dictionaries to torch.tensor\n",
    "\n",
    "    Parameters\n",
    "    ----------\n",
    "    parameters : list(dict)\n",
    "        List of parameters\n",
    "\n",
    "    space : dict\n",
    "        Input space definition\n",
    "\n",
    "    Returns\n",
    "    -------\n",
    "    unwrapped_X : torch.tensor\n",
    "        Tensor of parameter values\n",
    "    \"\"\"\n",
    "    X = torch.zeros(len(parameters), len(space), dtype=torch.float64)\n",
    "    for i, p in enumerate(parameters):\n",
    "        x = [p[var[\"name\"]] for var in space]\n",
    "        X[i] = torch.tensor(x, dtype=torch.float64)\n",
    "\n",
    "    return X\n",
    "\n",
    "\n",
    "def get_cv_quality(parameters, space):\n",
    "    \"\"\"\n",
    "\n",
    "    Quality of model using given hyperparameters\n",
    "\n",
    "    Parameters\n",
    "    ----------\n",
    "    parameters : torch.tensor, shape=(n_samples, dim)\n",
    "        Tensor of hyperparameteres\n",
    "\n",
    "    space : dict\n",
    "        Input space description\n",
    "\n",
    "    Returns\n",
    "    -------\n",
    "    roc_auc : torch.tensor\n",
    "        Tensor of ROC AUC values\n",
    "    \"\"\"\n",
    "\n",
    "    # Rescale to original bounds\n",
    "    dtype = parameters.dtype\n",
    "    device = parameters.device\n",
    "    bounds = torch.tensor([var[\"domain\"] for var in space]).to(parameters).t()\n",
    "    parameters = unnormalize(parameters, bounds)\n",
    "\n",
    "    # Convert tensor to a list of dictionaries\n",
    "    parameters = wrap_X(parameters, space)\n",
    "\n",
    "    def _get_score(params_dict):\n",
    "        model = lgb.LGBMClassifier(**params_dict, n_jobs=-1)\n",
    "        score = np.mean(\n",
    "            cross_validate(model, X, y, cv=5, n_jobs=-1, scoring=\"roc_auc\")[\n",
    "                \"test_score\"\n",
    "            ]\n",
    "        )\n",
    "        return score\n",
    "\n",
    "    score_list = Parallel(-1)(delayed(_get_score)(p) for p in parameters)\n",
    "\n",
    "    return torch.tensor(score_list, dtype=dtype, device=device)"
   ]
  },
  {
   "cell_type": "markdown",
   "metadata": {
    "colab_type": "text",
    "id": "wM4LF_GkbbvU"
   },
   "source": [
    "### Define the search space\n",
    "\n",
    "For each parameter we defin\n",
    "* type - \"discrete\" or \"continuous\"\n",
    "* domain - box-constraints for the parameter"
   ]
  },
  {
   "cell_type": "code",
   "execution_count": null,
   "metadata": {
    "colab": {},
    "colab_type": "code",
    "id": "IK9wRxF2bbvU"
   },
   "outputs": [],
   "source": [
    "# Define the region\n",
    "space = [\n",
    "    {\"name\": \"learning_rate\", \"type\": \"continuous\", \"domain\": (0.05, 0.2)},\n",
    "    {\"name\": \"n_estimators\", \"type\": \"discrete\", \"domain\": (50, 300)},\n",
    "    {\"name\": \"max_depth\", \"type\": \"discrete\", \"domain\": (1, 30)},\n",
    "    {\"name\": \"gamma\", \"type\": \"continuous\", \"domain\": (0, 5)},\n",
    "    {\"name\": \"min_child_weight\", \"type\": \"discrete\", \"domain\": (1, 10)},\n",
    "]"
   ]
  },
  {
   "cell_type": "markdown",
   "metadata": {
    "colab_type": "text",
    "id": "QlNgEuqUbbvZ"
   },
   "source": [
    "#### Task\n",
    "\n",
    "Generate `5` initial points. Remember, they should be in `[0, 1]` interval"
   ]
  },
  {
   "cell_type": "code",
   "execution_count": null,
   "metadata": {
    "colab": {},
    "colab_type": "code",
    "id": "6MqLA1RkbbvZ",
    "scrolled": false
   },
   "outputs": [],
   "source": [
    "### Your code goes here ###"
   ]
  },
  {
   "cell_type": "markdown",
   "metadata": {
    "colab_type": "text",
    "id": "EIGdq_0ybbvd"
   },
   "source": [
    "# q-Expected Improvement\n",
    "\n",
    "In previous examples we conducted *sequential* optimization, i.e. we generated candidates sequentially one-by-one.  \n",
    "However, we can generate $q$-candidates at a time.  \n",
    "For this we need special acquisition function, e.g. batched version of Expected Improvement\n",
    "$$\n",
    "    {\\rm qEI}(x) = \\mathbb{E} \\left ( \\max_{i \\in \\{1, \\ldots, q\\}} ( f_{min} - \\hat{f}(x_i)) \\right )_+\n",
    "$$\n",
    "\n",
    "**Pros**\n",
    "* Faster (in wall time) if objective function evaluation can be parallelized\n",
    "* Small $q$ values (~5) gives the same performance as sequential optimization\n",
    "\n",
    "**Cons**\n",
    "* Large $q$ suffers from harder optimization problem\n",
    "* $q$-acquisition functions are intractable, we need to use approximations. In BoTorch they are evaluated using (q-)MC sampling."
   ]
  },
  {
   "cell_type": "markdown",
   "metadata": {
    "colab_type": "text",
    "id": "QyJMdYozbbvf"
   },
   "source": [
    "### Run Bayesian optimization\n",
    "\n",
    "#### Task\n",
    "\n",
    "Run bayesian optimization.\n",
    "* Try to use sequential optimization (as we did in previous tasks)\n",
    "* Try to apply $q$-ExpectedImprovement\n",
    "    * use `botorch.acquisition.qExpectedImprovement`\n",
    "    * pass `q` argument to `bo_step()` function\n",
    "* What about performance of each of 2 approaches (you need to run several times and calculate mean and std)? Wall time?"
   ]
  },
  {
   "cell_type": "code",
   "execution_count": null,
   "metadata": {
    "colab": {},
    "colab_type": "code",
    "id": "rbHt8UT4bbvj",
    "scrolled": true
   },
   "outputs": [],
   "source": [
    "%%time\n",
    "\n",
    "from botorch.acquisition import NoisyExpectedImprovement, qExpectedImprovement\n",
    "from botorch.models import FixedNoiseGP\n",
    "\n",
    "\n",
    "params = init_X\n",
    "scores = init_y\n",
    "state_dict = None\n",
    "\n",
    "q = 5\n",
    "budget = 100\n",
    "\n",
    "objective = lambda x: get_cv_quality(x, space)\n",
    "\n",
    "with tqdm.tqdm(total=budget) as bar:\n",
    "    while len(scores) < budget:\n",
    "\n",
    "        n_samples = len(scores)\n",
    "\n",
    "        ### Your code goes here ###\n",
    "\n",
    "        ### Your code ends here ###\n",
    "\n",
    "        bar.update(len(scores) - n_samples)"
   ]
  },
  {
   "cell_type": "code",
   "execution_count": null,
   "metadata": {
    "colab": {},
    "colab_type": "code",
    "id": "PG2Je-rMbbvl"
   },
   "outputs": [],
   "source": [
    "utils.plot_convergence(params, scores, maximize=True)"
   ]
  },
  {
   "cell_type": "code",
   "execution_count": null,
   "metadata": {
    "colab": {},
    "colab_type": "code",
    "id": "X8gv8wGdbbvn"
   },
   "outputs": [],
   "source": [
    "def get_best_params(params, scores, space):\n",
    "    bounds = torch.tensor([var[\"domain\"] for var in space]).to(params).t()\n",
    "    params = unnormalize(params, bounds)\n",
    "\n",
    "    best_idx = np.argmax(scores.cpu().numpy())\n",
    "    return wrap_X(params[[best_idx]], space)[0]"
   ]
  },
  {
   "cell_type": "markdown",
   "metadata": {
    "colab_type": "text",
    "id": "o8unDJV_bbvo"
   },
   "source": [
    "## Validate parameters using a test sample"
   ]
  },
  {
   "cell_type": "code",
   "execution_count": null,
   "metadata": {
    "colab": {},
    "colab_type": "code",
    "id": "ahDP24rHbbvp"
   },
   "outputs": [],
   "source": [
    "# Load the testing sample\n",
    "test_data = pd.read_csv(\"test_data.csv\")\n",
    "\n",
    "X_test = test_data.drop(\"SeriousDlqin2yrs\", axis=1)\n",
    "y_test = test_data[\"SeriousDlqin2yrs\"]"
   ]
  },
  {
   "cell_type": "markdown",
   "metadata": {
    "colab_type": "text",
    "id": "gb-52uFabbvs"
   },
   "source": [
    "#### Model with default parameters"
   ]
  },
  {
   "cell_type": "code",
   "execution_count": null,
   "metadata": {
    "colab": {},
    "colab_type": "code",
    "id": "KblaA1xXbbvs"
   },
   "outputs": [],
   "source": [
    "initial_model = lgb.LGBMClassifier()\n",
    "initial_model.fit(X, y)\n",
    "proba_predicted = initial_model.predict_proba(X_test)[:, 1]\n",
    "print(f\"Default parameters: ROC AUC = {roc_auc_score(y_test, proba_predicted):.3f}\")"
   ]
  },
  {
   "cell_type": "markdown",
   "metadata": {
    "colab_type": "text",
    "id": "UG5XR1bdbbvv"
   },
   "source": [
    "#### Model with tuned parameters"
   ]
  },
  {
   "cell_type": "code",
   "execution_count": null,
   "metadata": {
    "colab": {},
    "colab_type": "code",
    "id": "X28DaARzbbvv"
   },
   "outputs": [],
   "source": [
    "best_param = get_best_params(params, scores, space)\n",
    "best_model = lgb.LGBMClassifier(**best_param)\n",
    "best_model.fit(X, y)\n",
    "proba_predicted = best_model.predict_proba(X_test)[:, 1]\n",
    "print(f\"Optimized parameters: ROC AUC = {roc_auc_score(y_test, proba_predicted):.3f}\")\n",
    "print(f\"Parameters: {best_param}\")"
   ]
  },
  {
   "cell_type": "markdown",
   "metadata": {
    "colab_type": "text",
    "id": "gyh53bGZbbv3"
   },
   "source": [
    "# Tree Parzen Estimator (TPE)\n",
    "\n",
    "Expected Improvement can be calculated without GP model\n",
    "\n",
    "$$\n",
    "p(y | x) \\propto p(x | y) p(y)\n",
    "$$\n",
    "\n",
    "$$\n",
    "p(x | y) = \\begin{cases}\n",
    "    l(x), \\mbox{ if} y < y^* \\\\\n",
    "    g(x), \\mbox{ if} y \\ge y^* \\\\\n",
    "\\end{cases},\n",
    "$$\n",
    "where $y^*$ is some quantile $\\gamma$ of $y$, i.e., $p(y < y^*) = \\gamma$.\n",
    "\n",
    "$$\n",
    "EI(x) \\propto \\left ( \\gamma + \\frac{g(x)}{l(x)}(1 - \\gamma) \\right )^{-1}\n",
    "$$\n",
    "$l(x)$ and $g(x)$ are estimated using KDE (kernel density estimate)"
   ]
  },
  {
   "cell_type": "markdown",
   "metadata": {
    "colab_type": "text",
    "id": "Z-H9uCjybbv3"
   },
   "source": [
    "### Task: prove the expression for EI above"
   ]
  },
  {
   "cell_type": "code",
   "execution_count": null,
   "metadata": {
    "colab": {},
    "colab_type": "code",
    "id": "ooBNUDqAbbv4"
   },
   "outputs": [],
   "source": [
    "# !pip install --upgrade git+git://github.com/hyperopt/hyperopt.git"
   ]
  },
  {
   "cell_type": "code",
   "execution_count": null,
   "metadata": {
    "colab": {},
    "colab_type": "code",
    "id": "omSDtvKtbbv5"
   },
   "outputs": [],
   "source": [
    "from hyperopt import fmin, hp, tpe\n",
    "\n",
    "params_names = [\"learning_rate\", \"n_estimators\", \"subsample\"]\n",
    "\n",
    "space_hp = {\n",
    "    \"learning_rate\": hp.uniform(\"learning_rate\", 0.05, 0.2),\n",
    "    \"n_estimators\": hp.quniform(\"n_estimators\", 10, 100, 1),\n",
    "    \"max_depth\": hp.quniform(\"max_depth\", 1, 30, 1),\n",
    "    \"gamma\": hp.uniform(\"gamma\", 0, 5),\n",
    "    \"min_child_weight\": hp.quniform(\"min_child_weight\", 1, 10, 1),\n",
    "}\n",
    "\n",
    "types = {\n",
    "    \"learning_rate\": \"continuous\",\n",
    "    \"n_estimators\": \"discrete\",\n",
    "    \"max_depth\": \"discrete\",\n",
    "    \"gamma\": \"continuous\",\n",
    "    \"min_child_weight\": \"discrete\",\n",
    "}\n",
    "\n",
    "random_state = np.random.RandomState()\n",
    "\n",
    "\n",
    "def wrap_params(params, types):\n",
    "    wrapped_params = params.copy()\n",
    "    for key in wrapped_params:\n",
    "        if types[key] == \"discrete\":\n",
    "            wrapped_params[key] = int(wrapped_params[key])\n",
    "\n",
    "    return wrapped_params\n",
    "\n",
    "\n",
    "best = fmin(\n",
    "    lambda x: -get_cv_quality(unwrap_X([wrap_params(x, types)], space), space).numpy()[\n",
    "        -1\n",
    "    ],\n",
    "    space=space_hp,\n",
    "    algo=tpe.suggest,\n",
    "    max_evals=55,\n",
    "    rstate=random_state,\n",
    ")"
   ]
  },
  {
   "cell_type": "code",
   "execution_count": null,
   "metadata": {
    "colab": {},
    "colab_type": "code",
    "id": "QsqEgctgbbv7"
   },
   "outputs": [],
   "source": [
    "best_model = lgb.LGBMClassifier(**wrap_params(best, types))\n",
    "best_model.fit(X, y)\n",
    "proba_predicted = best_model.predict_proba(X_test)[:, 1]\n",
    "print(f\"Optimized parameters: ROC AUC = {roc_auc_score(y_test, proba_predicted):.3f}\")\n",
    "best"
   ]
  },
  {
   "cell_type": "markdown",
   "metadata": {
    "colab_type": "text",
    "id": "JZvZmlH0bbv9"
   },
   "source": [
    "## More complex search spaces\n",
    "\n",
    "Hyperopt can handle tree-structured search spaces.  \n",
    "It is useful when some parameter depends on the value of another parameter,\n",
    "e.g. one parameter is `model_type` (SVM, XGBoost, etc). In this case\n",
    "other parameter depend on this one."
   ]
  },
  {
   "cell_type": "code",
   "execution_count": null,
   "metadata": {
    "colab": {},
    "colab_type": "code",
    "id": "27ndoaXKbbv-"
   },
   "outputs": [],
   "source": [
    "from sklearn.linear_model import LogisticRegression\n",
    "\n",
    "\n",
    "space_hp = hp.choice(\n",
    "    \"model_type\",\n",
    "    [\n",
    "        {\n",
    "            \"type\": \"LightGBM\",\n",
    "            \"learning_rate\": hp.uniform(\"learning_rate\", 0.05, 0.2),\n",
    "            \"n_estimators\": hp.quniform(\"n_estimators\", 10, 100, 1),\n",
    "            \"subsample\": hp.uniform(\"subsample\", 0.75, 1.0),\n",
    "        },\n",
    "        {\n",
    "            \"type\": \"LogisticRegression\",\n",
    "            \"C\": hp.lognormal(\"logreg_C\", 1e-6, 1),\n",
    "            \"penalty\": hp.choice(\n",
    "                \"logreg_penalty\",\n",
    "                [\n",
    "                    \"l1\",\n",
    "                    \"l2\",\n",
    "                ],\n",
    "            ),\n",
    "        },\n",
    "    ],\n",
    ")"
   ]
  },
  {
   "cell_type": "code",
   "execution_count": null,
   "metadata": {
    "colab": {},
    "colab_type": "code",
    "id": "r6XtIy2TbbwB"
   },
   "outputs": [],
   "source": [
    "def wrap_params(params, types):\n",
    "    wrapped_params = params.copy()\n",
    "    for key in wrapped_params:\n",
    "        if types.get(key, \"\") == \"discrete\":\n",
    "            wrapped_params[key] = int(wrapped_params[key])\n",
    "\n",
    "    return wrapped_params\n",
    "\n",
    "\n",
    "def get_cv_quality(parameters):\n",
    "    \"\"\"\n",
    "\n",
    "    Quality of model using given hyperparameters\n",
    "\n",
    "    Parameters\n",
    "    ----------\n",
    "    parameters : np.array, shape=(n_samples, dim)\n",
    "        Tensor of hyperparameteres\n",
    "\n",
    "    space : dict\n",
    "        Input space description\n",
    "\n",
    "    Returns\n",
    "    -------\n",
    "    roc_auc : np.array\n",
    "        Tensor of ROC AUC values\n",
    "    \"\"\"\n",
    "\n",
    "    score_list = []\n",
    "    for params_dict in parameters:\n",
    "        model_type = params_dict.pop(\"type\")\n",
    "        if model_type == \"LightGBM\":\n",
    "            model = lgb.LGBMClassifier(**params_dict)\n",
    "            score = cross_validate(model, X, y, cv=3, scoring=\"roc_auc\")\n",
    "        elif model_type == \"LogisticRegression\":\n",
    "\n",
    "            # Process kernel parameters\n",
    "            model = LogisticRegression(\n",
    "                C=params_dict[\"C\"],\n",
    "                penalty=params_dict[\"penalty\"],\n",
    "                solver=\"lbfgs\" if params_dict[\"penalty\"] == \"l2\" else \"liblinear\",\n",
    "            )\n",
    "\n",
    "            Xy = pd.concat([X, y], axis=1).dropna(axis=0)\n",
    "            score = cross_validate(\n",
    "                model,\n",
    "                Xy.drop(\"SeriousDlqin2yrs\", axis=1),\n",
    "                Xy[\"SeriousDlqin2yrs\"],\n",
    "                cv=3,\n",
    "                scoring=\"roc_auc\",\n",
    "            )\n",
    "\n",
    "        score = np.mean(score[\"test_score\"])\n",
    "        score_list.append(score)\n",
    "\n",
    "        params_dict[\"type\"] = model_type\n",
    "\n",
    "    return np.array(score_list)"
   ]
  },
  {
   "cell_type": "code",
   "execution_count": null,
   "metadata": {
    "colab": {},
    "colab_type": "code",
    "id": "bKY-5givbbwE",
    "scrolled": true
   },
   "outputs": [],
   "source": [
    "import sklearn\n",
    "import warnings\n",
    "\n",
    "warnings.filterwarnings(\"ignore\", category=sklearn.exceptions.ConvergenceWarning)\n",
    "\n",
    "best = fmin(\n",
    "    lambda x: -get_cv_quality([wrap_params(x, types)])[-1],\n",
    "    space=space_hp,\n",
    "    algo=tpe.suggest,\n",
    "    max_evals=55,\n",
    "    rstate=random_state,\n",
    ")\n",
    "best"
   ]
  },
  {
   "cell_type": "code",
   "execution_count": null,
   "metadata": {
    "colab": {},
    "colab_type": "code",
    "id": "epRrAsq3bbwF"
   },
   "outputs": [],
   "source": [
    "best_model = lgb.LGBMClassifier(**wrap_params(best, types))\n",
    "best_model.fit(X, y)\n",
    "proba_predicted = best_model.predict_proba(X_test)[:, 1]\n",
    "print(f\"Optimized parameters: ROC AUC = {roc_auc_score(y_test, proba_predicted):.3f}\")\n",
    "best"
   ]
  },
  {
   "cell_type": "code",
   "execution_count": null,
   "metadata": {
    "colab": {},
    "colab_type": "code",
    "id": "hjZN30qebbwG"
   },
   "outputs": [],
   "source": []
  }
 ],
 "metadata": {
  "colab": {
   "collapsed_sections": [
    "M5WtzZGkbbt4",
    "jEQqjyRtbbvA",
    "xSSiiTdpbbvQ",
    "wM4LF_GkbbvU",
    "QlNgEuqUbbvZ",
    "QyJMdYozbbvf",
    "gb-52uFabbvs",
    "UG5XR1bdbbvv",
    "Z-H9uCjybbv3"
   ],
   "name": "bayesopt_practice.ipynb",
   "provenance": [],
   "version": "0.3.2"
  },
  "kernelspec": {
   "display_name": "Python 3",
   "language": "python",
   "name": "python3"
  },
  "language_info": {
   "codemirror_mode": {
    "name": "ipython",
    "version": 3
   },
   "file_extension": ".py",
   "mimetype": "text/x-python",
   "name": "python",
   "nbconvert_exporter": "python",
   "pygments_lexer": "ipython3",
   "version": "3.9.7"
  }
 },
 "nbformat": 4,
 "nbformat_minor": 1
}
